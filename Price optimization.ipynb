{
 "cells": [
  {
   "cell_type": "code",
   "execution_count": 1,
   "metadata": {
    "tags": []
   },
   "outputs": [],
   "source": [
    "# https://www.youtube.com/watch?v=i3uMhH2xeOM&ab_channel=Buynomics"
   ]
  },
  {
   "cell_type": "code",
   "execution_count": 2,
   "metadata": {
    "tags": []
   },
   "outputs": [],
   "source": [
    "# https://ngugijoan.medium.com/pricing-on-point-the-art-and-science-of-dynamic-pricing-dd543bf80f01\n",
    "# https://ngugijoan.medium.com/dynamic-pricing-implementation-through-data-science-price-optimization-strategies-56adab4d3176\n",
    "# https://levelup.gitconnected.com/calculating-individual-price-elasticity-for-products-9787e3b82875\n",
    "# https://www.kaggle.com/code/arnabchaki/flight-fare-prediction-0-96-r2-score?fbclid=IwZXh0bgNhZW0CMTAAAR05L4by3xyhImYsDOnF-ufsQQ7VbBefv8Bg3ECHy1JHCR_XmjSZIAKM7yE_aem_AWdIsN4qMSlU9R0FQsAR9y8hT_e_ggs_tIfnGdUdpwA4mLwPAbLPidigOsMMcKNF-4wyLjSg2hcmqzefdb3gX5bT\n",
    "# https://datascience.oneoffcoder.com/pricing-elasticity-modeling.html#Random-forest"
   ]
  },
  {
   "cell_type": "code",
   "execution_count": 3,
   "metadata": {
    "tags": []
   },
   "outputs": [],
   "source": [
    "import warnings\n",
    "warnings.simplefilter(\"ignore\")"
   ]
  },
  {
   "cell_type": "code",
   "execution_count": 4,
   "metadata": {
    "tags": []
   },
   "outputs": [],
   "source": [
    "import pandas as pd\n",
    "import numpy as np\n",
    "import matplotlib.pyplot as plt\n",
    "import matplotlib.dates as mdates\n",
    "import seaborn as sns"
   ]
  },
  {
   "cell_type": "code",
   "execution_count": 5,
   "metadata": {
    "tags": []
   },
   "outputs": [],
   "source": [
    "from sklearn.tree import DecisionTreeRegressor"
   ]
  },
  {
   "cell_type": "code",
   "execution_count": 6,
   "metadata": {
    "tags": []
   },
   "outputs": [],
   "source": [
    "from sklearn.model_selection import GridSearchCV"
   ]
  },
  {
   "cell_type": "code",
   "execution_count": 7,
   "metadata": {
    "tags": []
   },
   "outputs": [],
   "source": [
    "from sklearn.metrics import mean_squared_error"
   ]
  },
  {
   "cell_type": "markdown",
   "metadata": {},
   "source": [
    "# 10. Load data"
   ]
  },
  {
   "cell_type": "code",
   "execution_count": 9,
   "metadata": {
    "tags": []
   },
   "outputs": [],
   "source": [
    "df = pd.read_csv(\"02. Labeled_retail_data.csv\")"
   ]
  },
  {
   "cell_type": "code",
   "execution_count": 10,
   "metadata": {
    "tags": []
   },
   "outputs": [
    {
     "data": {
      "text/plain": [
       "(407629, 11)"
      ]
     },
     "execution_count": 10,
     "metadata": {},
     "output_type": "execute_result"
    }
   ],
   "source": [
    "df.shape"
   ]
  },
  {
   "cell_type": "markdown",
   "metadata": {},
   "source": [
    "# 11. Exploratory data analysis (EDA)"
   ]
  },
  {
   "cell_type": "markdown",
   "metadata": {},
   "source": [
    "Count of Transactions by Description"
   ]
  },
  {
   "cell_type": "code",
   "execution_count": 13,
   "metadata": {},
   "outputs": [],
   "source": [
    "category_counts = df['Category'].value_counts()\n",
    "category_counts = category_counts.sort_values(ascending=False)"
   ]
  },
  {
   "cell_type": "code",
   "execution_count": 14,
   "metadata": {},
   "outputs": [
    {
     "data": {
      "text/plain": [
       "Category\n",
       "Home and Lifestyle      219974\n",
       "Arts and Leisure         92162\n",
       "Fashion and Travel       52586\n",
       "Education and Office     24345\n",
       "Health and Wellness      17759\n",
       "Technology and More        803\n",
       "Name: count, dtype: int64"
      ]
     },
     "execution_count": 14,
     "metadata": {},
     "output_type": "execute_result"
    }
   ],
   "source": [
    "category_counts"
   ]
  },
  {
   "cell_type": "markdown",
   "metadata": {},
   "source": [
    "Count of Transactions by Description"
   ]
  },
  {
   "cell_type": "code",
   "execution_count": 16,
   "metadata": {},
   "outputs": [],
   "source": [
    "description_counts = df['Description'].value_counts()\n",
    "description_counts = description_counts.sort_values(ascending=False)"
   ]
  },
  {
   "cell_type": "code",
   "execution_count": 17,
   "metadata": {},
   "outputs": [
    {
     "data": {
      "text/plain": [
       "Description\n",
       "WHITE HANGING HEART T-LIGHT HOLDER     3153\n",
       "JUMBO BAG RED WHITE SPOTTY             1742\n",
       "REGENCY CAKESTAND 3 TIER               1705\n",
       "PACK OF 72 RETRO SPOT CAKE CASES       1586\n",
       "STRAWBERRY CERAMIC TRINKET BOX         1407\n",
       "                                       ... \n",
       "CHUNKY CRACKED GLAZE NECKLACE IVORY       1\n",
       "GOLD CHRISTMAS STOCKING DECORATION        1\n",
       "WHITE CHRISTMAS TREE 60CM                 1\n",
       "S/16 BLACK SHINY/MAT BAUBLES              1\n",
       "BAKING MOULD EASTER EGG MILK CHOC         1\n",
       "Name: count, Length: 3979, dtype: int64"
      ]
     },
     "execution_count": 17,
     "metadata": {},
     "output_type": "execute_result"
    }
   ],
   "source": [
    "description_counts"
   ]
  },
  {
   "cell_type": "markdown",
   "metadata": {},
   "source": [
    "Count of Transactions by Invoice"
   ]
  },
  {
   "cell_type": "code",
   "execution_count": 19,
   "metadata": {},
   "outputs": [],
   "source": [
    "invoice_counts = df['Invoice'].value_counts()\n",
    "invoice_counts = invoice_counts.sort_values(ascending=False)"
   ]
  },
  {
   "cell_type": "code",
   "execution_count": 20,
   "metadata": {
    "tags": []
   },
   "outputs": [
    {
     "data": {
      "text/plain": [
       "Invoice\n",
       "500356    270\n",
       "511522    255\n",
       "531382    251\n",
       "507235    250\n",
       "511051    248\n",
       "         ... \n",
       "520316      1\n",
       "520823      1\n",
       "536568      1\n",
       "534469      1\n",
       "522060      1\n",
       "Name: count, Length: 19178, dtype: int64"
      ]
     },
     "execution_count": 20,
     "metadata": {},
     "output_type": "execute_result"
    }
   ],
   "source": [
    "invoice_counts"
   ]
  },
  {
   "cell_type": "markdown",
   "metadata": {},
   "source": [
    "# 12. Feature engineering"
   ]
  },
  {
   "cell_type": "code",
   "execution_count": 22,
   "metadata": {},
   "outputs": [
    {
     "data": {
      "text/html": [
       "<div>\n",
       "<style scoped>\n",
       "    .dataframe tbody tr th:only-of-type {\n",
       "        vertical-align: middle;\n",
       "    }\n",
       "\n",
       "    .dataframe tbody tr th {\n",
       "        vertical-align: top;\n",
       "    }\n",
       "\n",
       "    .dataframe thead th {\n",
       "        text-align: right;\n",
       "    }\n",
       "</style>\n",
       "<table border=\"1\" class=\"dataframe\">\n",
       "  <thead>\n",
       "    <tr style=\"text-align: right;\">\n",
       "      <th></th>\n",
       "      <th>Invoice</th>\n",
       "      <th>StockCode</th>\n",
       "      <th>Description</th>\n",
       "      <th>Quantity</th>\n",
       "      <th>InvoiceDate</th>\n",
       "      <th>Price</th>\n",
       "      <th>Customer ID</th>\n",
       "      <th>Country</th>\n",
       "      <th>profit_margin</th>\n",
       "      <th>Cost_price</th>\n",
       "      <th>Category</th>\n",
       "    </tr>\n",
       "  </thead>\n",
       "  <tbody>\n",
       "    <tr>\n",
       "      <th>0</th>\n",
       "      <td>489434</td>\n",
       "      <td>85048</td>\n",
       "      <td>15CM CHRISTMAS GLASS BALL 20 LIGHTS</td>\n",
       "      <td>12</td>\n",
       "      <td>2009-12-01 07:45:00</td>\n",
       "      <td>6.95</td>\n",
       "      <td>13085.0</td>\n",
       "      <td>United Kingdom</td>\n",
       "      <td>0.193525</td>\n",
       "      <td>5.605004</td>\n",
       "      <td>Home and Lifestyle</td>\n",
       "    </tr>\n",
       "    <tr>\n",
       "      <th>1</th>\n",
       "      <td>489559</td>\n",
       "      <td>85048</td>\n",
       "      <td>15CM CHRISTMAS GLASS BALL 20 LIGHTS</td>\n",
       "      <td>12</td>\n",
       "      <td>2009-12-01 12:55:00</td>\n",
       "      <td>6.95</td>\n",
       "      <td>17056.0</td>\n",
       "      <td>United Kingdom</td>\n",
       "      <td>0.400739</td>\n",
       "      <td>4.164866</td>\n",
       "      <td>Home and Lifestyle</td>\n",
       "    </tr>\n",
       "    <tr>\n",
       "      <th>2</th>\n",
       "      <td>489576</td>\n",
       "      <td>85048</td>\n",
       "      <td>15CM CHRISTMAS GLASS BALL 20 LIGHTS</td>\n",
       "      <td>5</td>\n",
       "      <td>2009-12-01 13:38:00</td>\n",
       "      <td>7.95</td>\n",
       "      <td>15984.0</td>\n",
       "      <td>United Kingdom</td>\n",
       "      <td>0.062370</td>\n",
       "      <td>7.454161</td>\n",
       "      <td>Home and Lifestyle</td>\n",
       "    </tr>\n",
       "    <tr>\n",
       "      <th>3</th>\n",
       "      <td>489582</td>\n",
       "      <td>85048</td>\n",
       "      <td>15CM CHRISTMAS GLASS BALL 20 LIGHTS</td>\n",
       "      <td>2</td>\n",
       "      <td>2009-12-01 13:47:00</td>\n",
       "      <td>7.95</td>\n",
       "      <td>14543.0</td>\n",
       "      <td>United Kingdom</td>\n",
       "      <td>0.448154</td>\n",
       "      <td>4.387179</td>\n",
       "      <td>Home and Lifestyle</td>\n",
       "    </tr>\n",
       "    <tr>\n",
       "      <th>4</th>\n",
       "      <td>489656</td>\n",
       "      <td>85048</td>\n",
       "      <td>15CM CHRISTMAS GLASS BALL 20 LIGHTS</td>\n",
       "      <td>12</td>\n",
       "      <td>2009-12-01 17:28:00</td>\n",
       "      <td>6.95</td>\n",
       "      <td>17428.0</td>\n",
       "      <td>United Kingdom</td>\n",
       "      <td>0.458394</td>\n",
       "      <td>3.764161</td>\n",
       "      <td>Home and Lifestyle</td>\n",
       "    </tr>\n",
       "  </tbody>\n",
       "</table>\n",
       "</div>"
      ],
      "text/plain": [
       "   Invoice StockCode                          Description  Quantity  \\\n",
       "0   489434     85048  15CM CHRISTMAS GLASS BALL 20 LIGHTS        12   \n",
       "1   489559     85048  15CM CHRISTMAS GLASS BALL 20 LIGHTS        12   \n",
       "2   489576     85048  15CM CHRISTMAS GLASS BALL 20 LIGHTS         5   \n",
       "3   489582     85048  15CM CHRISTMAS GLASS BALL 20 LIGHTS         2   \n",
       "4   489656     85048  15CM CHRISTMAS GLASS BALL 20 LIGHTS        12   \n",
       "\n",
       "           InvoiceDate  Price  Customer ID         Country  profit_margin  \\\n",
       "0  2009-12-01 07:45:00   6.95      13085.0  United Kingdom       0.193525   \n",
       "1  2009-12-01 12:55:00   6.95      17056.0  United Kingdom       0.400739   \n",
       "2  2009-12-01 13:38:00   7.95      15984.0  United Kingdom       0.062370   \n",
       "3  2009-12-01 13:47:00   7.95      14543.0  United Kingdom       0.448154   \n",
       "4  2009-12-01 17:28:00   6.95      17428.0  United Kingdom       0.458394   \n",
       "\n",
       "   Cost_price            Category  \n",
       "0    5.605004  Home and Lifestyle  \n",
       "1    4.164866  Home and Lifestyle  \n",
       "2    7.454161  Home and Lifestyle  \n",
       "3    4.387179  Home and Lifestyle  \n",
       "4    3.764161  Home and Lifestyle  "
      ]
     },
     "execution_count": 22,
     "metadata": {},
     "output_type": "execute_result"
    }
   ],
   "source": [
    "df.head()"
   ]
  },
  {
   "cell_type": "code",
   "execution_count": 23,
   "metadata": {},
   "outputs": [],
   "source": [
    "df['InvoiceDate'] = pd.to_datetime(df['InvoiceDate'])"
   ]
  },
  {
   "cell_type": "code",
   "execution_count": 24,
   "metadata": {},
   "outputs": [],
   "source": [
    "df['yyyymmdd'] = df['InvoiceDate'].dt.strftime('%Y%m%d')"
   ]
  },
  {
   "cell_type": "markdown",
   "metadata": {},
   "source": [
    "datetime features"
   ]
  },
  {
   "cell_type": "code",
   "execution_count": 26,
   "metadata": {},
   "outputs": [],
   "source": [
    "def datetime_feature_extraction(df):\n",
    "    # Day extraction\n",
    "    df['dayofweek'] = df['InvoiceDate'].dt.dayofweek\n",
    "    df['dayofmonth'] = df['InvoiceDate'].dt.day\n",
    "    df['dayofyear'] = df['InvoiceDate'].dt.dayofyear\n",
    "    df['is_weekend'] = (df['InvoiceDate'].dt.dayofweek >= 5).astype(int)\n",
    "    df['weekday_weekend'] = df['InvoiceDate'].dt.dayofweek.apply(lambda x: 0 if x >= 5 else 1)\n",
    "\n",
    "    # Week extraction\n",
    "    df['weekofyear'] = df['InvoiceDate'].dt.isocalendar().week\n",
    "    df['weekofmonth'] = np.ceil(df['dayofmonth'] / 7).astype(int)    \n",
    "    \n",
    "    # Month extraction\n",
    "    df['month'] = df['InvoiceDate'].dt.month\n",
    "    df['quarter'] = df['InvoiceDate'].dt.quarter\n",
    "    df['days_in_month'] = df['InvoiceDate'].dt.days_in_month\n",
    "\n",
    "    # Year extraction\n",
    "    df['year'] = df['InvoiceDate'].dt.year-2019\n",
    "    return df"
   ]
  },
  {
   "cell_type": "code",
   "execution_count": 27,
   "metadata": {},
   "outputs": [],
   "source": [
    "df = datetime_feature_extraction(df)"
   ]
  },
  {
   "cell_type": "markdown",
   "metadata": {},
   "source": [
    "group by"
   ]
  },
  {
   "cell_type": "code",
   "execution_count": 29,
   "metadata": {},
   "outputs": [],
   "source": [
    "aggregation_functions = {\n",
    "    'Quantity': 'sum',\n",
    "    'Price': 'mean',\n",
    "    'Cost_price':'mean',\n",
    "    'dayofweek': 'max',\n",
    "    'dayofmonth': 'max',\n",
    "    'dayofyear': 'max',\n",
    "    'is_weekend': 'max',\n",
    "    'weekday_weekend': 'max',\n",
    "    'weekofyear': 'max',\n",
    "    'weekofmonth': 'max',\n",
    "    'month': 'max',\n",
    "    'quarter': 'max',\n",
    "    'days_in_month': 'max',\n",
    "    'year': 'max'\n",
    "}"
   ]
  },
  {
   "cell_type": "code",
   "execution_count": 30,
   "metadata": {},
   "outputs": [],
   "source": [
    "df = df.groupby(['StockCode','Category','Description','yyyymmdd']).agg(aggregation_functions).reset_index()"
   ]
  },
  {
   "cell_type": "markdown",
   "metadata": {},
   "source": [
    "Create change"
   ]
  },
  {
   "cell_type": "code",
   "execution_count": 32,
   "metadata": {},
   "outputs": [],
   "source": [
    "df['change_qty'] = df['Quantity'].pct_change()"
   ]
  },
  {
   "cell_type": "code",
   "execution_count": 33,
   "metadata": {},
   "outputs": [],
   "source": [
    "df['change_price'] = df['Price'].pct_change()"
   ]
  },
  {
   "cell_type": "code",
   "execution_count": 34,
   "metadata": {},
   "outputs": [],
   "source": [
    "df.dropna(inplace=True)"
   ]
  },
  {
   "cell_type": "code",
   "execution_count": 35,
   "metadata": {},
   "outputs": [
    {
     "data": {
      "text/html": [
       "<div>\n",
       "<style scoped>\n",
       "    .dataframe tbody tr th:only-of-type {\n",
       "        vertical-align: middle;\n",
       "    }\n",
       "\n",
       "    .dataframe tbody tr th {\n",
       "        vertical-align: top;\n",
       "    }\n",
       "\n",
       "    .dataframe thead th {\n",
       "        text-align: right;\n",
       "    }\n",
       "</style>\n",
       "<table border=\"1\" class=\"dataframe\">\n",
       "  <thead>\n",
       "    <tr style=\"text-align: right;\">\n",
       "      <th></th>\n",
       "      <th>StockCode</th>\n",
       "      <th>Category</th>\n",
       "      <th>Description</th>\n",
       "      <th>yyyymmdd</th>\n",
       "      <th>Quantity</th>\n",
       "      <th>Price</th>\n",
       "      <th>Cost_price</th>\n",
       "      <th>dayofweek</th>\n",
       "      <th>dayofmonth</th>\n",
       "      <th>dayofyear</th>\n",
       "      <th>is_weekend</th>\n",
       "      <th>weekday_weekend</th>\n",
       "      <th>weekofyear</th>\n",
       "      <th>weekofmonth</th>\n",
       "      <th>month</th>\n",
       "      <th>quarter</th>\n",
       "      <th>days_in_month</th>\n",
       "      <th>year</th>\n",
       "      <th>change_qty</th>\n",
       "      <th>change_price</th>\n",
       "    </tr>\n",
       "  </thead>\n",
       "  <tbody>\n",
       "    <tr>\n",
       "      <th>207311</th>\n",
       "      <td>85020</td>\n",
       "      <td>Home and Lifestyle</td>\n",
       "      <td>ROUND PINK HEART MIRROR</td>\n",
       "      <td>20101006</td>\n",
       "      <td>3</td>\n",
       "      <td>2.10</td>\n",
       "      <td>1.616617</td>\n",
       "      <td>2</td>\n",
       "      <td>6</td>\n",
       "      <td>279</td>\n",
       "      <td>0</td>\n",
       "      <td>1</td>\n",
       "      <td>40</td>\n",
       "      <td>1</td>\n",
       "      <td>10</td>\n",
       "      <td>4</td>\n",
       "      <td>31</td>\n",
       "      <td>-9</td>\n",
       "      <td>0.500000</td>\n",
       "      <td>0.000000e+00</td>\n",
       "    </tr>\n",
       "    <tr>\n",
       "      <th>76501</th>\n",
       "      <td>21876</td>\n",
       "      <td>Home and Lifestyle</td>\n",
       "      <td>POTTERING MUG</td>\n",
       "      <td>20101102</td>\n",
       "      <td>12</td>\n",
       "      <td>1.25</td>\n",
       "      <td>0.776575</td>\n",
       "      <td>1</td>\n",
       "      <td>2</td>\n",
       "      <td>306</td>\n",
       "      <td>0</td>\n",
       "      <td>1</td>\n",
       "      <td>44</td>\n",
       "      <td>1</td>\n",
       "      <td>11</td>\n",
       "      <td>4</td>\n",
       "      <td>30</td>\n",
       "      <td>-9</td>\n",
       "      <td>0.714286</td>\n",
       "      <td>0.000000e+00</td>\n",
       "    </tr>\n",
       "    <tr>\n",
       "      <th>77612</th>\n",
       "      <td>21891</td>\n",
       "      <td>Arts and Leisure</td>\n",
       "      <td>TRADITIONAL WOODEN SKIPPING ROPE</td>\n",
       "      <td>20100510</td>\n",
       "      <td>2</td>\n",
       "      <td>1.25</td>\n",
       "      <td>0.886259</td>\n",
       "      <td>0</td>\n",
       "      <td>10</td>\n",
       "      <td>130</td>\n",
       "      <td>0</td>\n",
       "      <td>1</td>\n",
       "      <td>19</td>\n",
       "      <td>2</td>\n",
       "      <td>5</td>\n",
       "      <td>2</td>\n",
       "      <td>31</td>\n",
       "      <td>-9</td>\n",
       "      <td>-0.333333</td>\n",
       "      <td>0.000000e+00</td>\n",
       "    </tr>\n",
       "    <tr>\n",
       "      <th>27847</th>\n",
       "      <td>21121</td>\n",
       "      <td>Home and Lifestyle</td>\n",
       "      <td>SET/10 RED SPOTTY PARTY CANDLES</td>\n",
       "      <td>20101018</td>\n",
       "      <td>2</td>\n",
       "      <td>1.25</td>\n",
       "      <td>1.046968</td>\n",
       "      <td>0</td>\n",
       "      <td>18</td>\n",
       "      <td>291</td>\n",
       "      <td>0</td>\n",
       "      <td>1</td>\n",
       "      <td>42</td>\n",
       "      <td>3</td>\n",
       "      <td>10</td>\n",
       "      <td>4</td>\n",
       "      <td>31</td>\n",
       "      <td>-9</td>\n",
       "      <td>0.000000</td>\n",
       "      <td>0.000000e+00</td>\n",
       "    </tr>\n",
       "    <tr>\n",
       "      <th>145812</th>\n",
       "      <td>22615</td>\n",
       "      <td>Home and Lifestyle</td>\n",
       "      <td>PACK OF 12 CIRCUS PARADE TISSUES</td>\n",
       "      <td>20101110</td>\n",
       "      <td>2</td>\n",
       "      <td>0.29</td>\n",
       "      <td>0.257715</td>\n",
       "      <td>2</td>\n",
       "      <td>10</td>\n",
       "      <td>314</td>\n",
       "      <td>0</td>\n",
       "      <td>1</td>\n",
       "      <td>45</td>\n",
       "      <td>2</td>\n",
       "      <td>11</td>\n",
       "      <td>4</td>\n",
       "      <td>30</td>\n",
       "      <td>-9</td>\n",
       "      <td>-0.894737</td>\n",
       "      <td>0.000000e+00</td>\n",
       "    </tr>\n",
       "    <tr>\n",
       "      <th>193907</th>\n",
       "      <td>84596I</td>\n",
       "      <td>Home and Lifestyle</td>\n",
       "      <td>WRAP SWEETS LIGHT PINK SMALL BOWL</td>\n",
       "      <td>20100303</td>\n",
       "      <td>1</td>\n",
       "      <td>1.25</td>\n",
       "      <td>1.024416</td>\n",
       "      <td>2</td>\n",
       "      <td>3</td>\n",
       "      <td>62</td>\n",
       "      <td>0</td>\n",
       "      <td>1</td>\n",
       "      <td>9</td>\n",
       "      <td>1</td>\n",
       "      <td>3</td>\n",
       "      <td>1</td>\n",
       "      <td>31</td>\n",
       "      <td>-9</td>\n",
       "      <td>0.000000</td>\n",
       "      <td>0.000000e+00</td>\n",
       "    </tr>\n",
       "    <tr>\n",
       "      <th>192539</th>\n",
       "      <td>84558A</td>\n",
       "      <td>Arts and Leisure</td>\n",
       "      <td>3D DOG PICTURE PLAYING CARDS</td>\n",
       "      <td>20101013</td>\n",
       "      <td>2</td>\n",
       "      <td>2.95</td>\n",
       "      <td>1.958770</td>\n",
       "      <td>2</td>\n",
       "      <td>13</td>\n",
       "      <td>286</td>\n",
       "      <td>0</td>\n",
       "      <td>1</td>\n",
       "      <td>41</td>\n",
       "      <td>2</td>\n",
       "      <td>10</td>\n",
       "      <td>4</td>\n",
       "      <td>31</td>\n",
       "      <td>-9</td>\n",
       "      <td>1.000000</td>\n",
       "      <td>0.000000e+00</td>\n",
       "    </tr>\n",
       "    <tr>\n",
       "      <th>193992</th>\n",
       "      <td>84596K</td>\n",
       "      <td>Home and Lifestyle</td>\n",
       "      <td>JELLY BABIES YELLOW SMALL BOWL</td>\n",
       "      <td>20100725</td>\n",
       "      <td>3</td>\n",
       "      <td>1.25</td>\n",
       "      <td>0.994742</td>\n",
       "      <td>6</td>\n",
       "      <td>25</td>\n",
       "      <td>206</td>\n",
       "      <td>1</td>\n",
       "      <td>0</td>\n",
       "      <td>29</td>\n",
       "      <td>4</td>\n",
       "      <td>7</td>\n",
       "      <td>3</td>\n",
       "      <td>31</td>\n",
       "      <td>-9</td>\n",
       "      <td>2.000000</td>\n",
       "      <td>0.000000e+00</td>\n",
       "    </tr>\n",
       "    <tr>\n",
       "      <th>133583</th>\n",
       "      <td>22488</td>\n",
       "      <td>Home and Lifestyle</td>\n",
       "      <td>NATURAL SLATE RECTANGLE CHALKBOARD</td>\n",
       "      <td>20101021</td>\n",
       "      <td>17</td>\n",
       "      <td>1.65</td>\n",
       "      <td>1.361695</td>\n",
       "      <td>3</td>\n",
       "      <td>21</td>\n",
       "      <td>294</td>\n",
       "      <td>0</td>\n",
       "      <td>1</td>\n",
       "      <td>42</td>\n",
       "      <td>3</td>\n",
       "      <td>10</td>\n",
       "      <td>4</td>\n",
       "      <td>31</td>\n",
       "      <td>-9</td>\n",
       "      <td>7.500000</td>\n",
       "      <td>-1.110223e-16</td>\n",
       "    </tr>\n",
       "    <tr>\n",
       "      <th>173933</th>\n",
       "      <td>48188</td>\n",
       "      <td>Home and Lifestyle</td>\n",
       "      <td>DOOR MAT WELCOME PUPPIES</td>\n",
       "      <td>20101128</td>\n",
       "      <td>2</td>\n",
       "      <td>7.95</td>\n",
       "      <td>5.581035</td>\n",
       "      <td>6</td>\n",
       "      <td>28</td>\n",
       "      <td>332</td>\n",
       "      <td>1</td>\n",
       "      <td>0</td>\n",
       "      <td>47</td>\n",
       "      <td>4</td>\n",
       "      <td>11</td>\n",
       "      <td>4</td>\n",
       "      <td>30</td>\n",
       "      <td>-9</td>\n",
       "      <td>-0.800000</td>\n",
       "      <td>1.777778e-01</td>\n",
       "    </tr>\n",
       "  </tbody>\n",
       "</table>\n",
       "</div>"
      ],
      "text/plain": [
       "       StockCode            Category                         Description  \\\n",
       "207311     85020  Home and Lifestyle             ROUND PINK HEART MIRROR   \n",
       "76501      21876  Home and Lifestyle                       POTTERING MUG   \n",
       "77612      21891    Arts and Leisure    TRADITIONAL WOODEN SKIPPING ROPE   \n",
       "27847      21121  Home and Lifestyle     SET/10 RED SPOTTY PARTY CANDLES   \n",
       "145812     22615  Home and Lifestyle    PACK OF 12 CIRCUS PARADE TISSUES   \n",
       "193907    84596I  Home and Lifestyle   WRAP SWEETS LIGHT PINK SMALL BOWL   \n",
       "192539    84558A    Arts and Leisure        3D DOG PICTURE PLAYING CARDS   \n",
       "193992    84596K  Home and Lifestyle      JELLY BABIES YELLOW SMALL BOWL   \n",
       "133583     22488  Home and Lifestyle  NATURAL SLATE RECTANGLE CHALKBOARD   \n",
       "173933     48188  Home and Lifestyle            DOOR MAT WELCOME PUPPIES   \n",
       "\n",
       "        yyyymmdd  Quantity  Price  Cost_price  dayofweek  dayofmonth  \\\n",
       "207311  20101006         3   2.10    1.616617          2           6   \n",
       "76501   20101102        12   1.25    0.776575          1           2   \n",
       "77612   20100510         2   1.25    0.886259          0          10   \n",
       "27847   20101018         2   1.25    1.046968          0          18   \n",
       "145812  20101110         2   0.29    0.257715          2          10   \n",
       "193907  20100303         1   1.25    1.024416          2           3   \n",
       "192539  20101013         2   2.95    1.958770          2          13   \n",
       "193992  20100725         3   1.25    0.994742          6          25   \n",
       "133583  20101021        17   1.65    1.361695          3          21   \n",
       "173933  20101128         2   7.95    5.581035          6          28   \n",
       "\n",
       "        dayofyear  is_weekend  weekday_weekend  weekofyear  weekofmonth  \\\n",
       "207311        279           0                1          40            1   \n",
       "76501         306           0                1          44            1   \n",
       "77612         130           0                1          19            2   \n",
       "27847         291           0                1          42            3   \n",
       "145812        314           0                1          45            2   \n",
       "193907         62           0                1           9            1   \n",
       "192539        286           0                1          41            2   \n",
       "193992        206           1                0          29            4   \n",
       "133583        294           0                1          42            3   \n",
       "173933        332           1                0          47            4   \n",
       "\n",
       "        month  quarter  days_in_month  year  change_qty  change_price  \n",
       "207311     10        4             31    -9    0.500000  0.000000e+00  \n",
       "76501      11        4             30    -9    0.714286  0.000000e+00  \n",
       "77612       5        2             31    -9   -0.333333  0.000000e+00  \n",
       "27847      10        4             31    -9    0.000000  0.000000e+00  \n",
       "145812     11        4             30    -9   -0.894737  0.000000e+00  \n",
       "193907      3        1             31    -9    0.000000  0.000000e+00  \n",
       "192539     10        4             31    -9    1.000000  0.000000e+00  \n",
       "193992      7        3             31    -9    2.000000  0.000000e+00  \n",
       "133583     10        4             31    -9    7.500000 -1.110223e-16  \n",
       "173933     11        4             30    -9   -0.800000  1.777778e-01  "
      ]
     },
     "execution_count": 35,
     "metadata": {},
     "output_type": "execute_result"
    }
   ],
   "source": [
    "df.sample(10)"
   ]
  },
  {
   "cell_type": "markdown",
   "metadata": {},
   "source": [
    "# 13. Store current price and quantity"
   ]
  },
  {
   "cell_type": "code",
   "execution_count": 37,
   "metadata": {},
   "outputs": [],
   "source": [
    "df.sort_values(by=['Category','Description', 'yyyymmdd'], ascending=[True,True, False], inplace=True)"
   ]
  },
  {
   "cell_type": "code",
   "execution_count": 38,
   "metadata": {},
   "outputs": [],
   "source": [
    "df['row_number'] = df.groupby('Description').cumcount() + 1"
   ]
  },
  {
   "cell_type": "code",
   "execution_count": 39,
   "metadata": {},
   "outputs": [
    {
     "data": {
      "text/html": [
       "<div>\n",
       "<style scoped>\n",
       "    .dataframe tbody tr th:only-of-type {\n",
       "        vertical-align: middle;\n",
       "    }\n",
       "\n",
       "    .dataframe tbody tr th {\n",
       "        vertical-align: top;\n",
       "    }\n",
       "\n",
       "    .dataframe thead th {\n",
       "        text-align: right;\n",
       "    }\n",
       "</style>\n",
       "<table border=\"1\" class=\"dataframe\">\n",
       "  <thead>\n",
       "    <tr style=\"text-align: right;\">\n",
       "      <th></th>\n",
       "      <th>StockCode</th>\n",
       "      <th>Category</th>\n",
       "      <th>Description</th>\n",
       "      <th>yyyymmdd</th>\n",
       "      <th>Quantity</th>\n",
       "      <th>Price</th>\n",
       "      <th>Cost_price</th>\n",
       "      <th>dayofweek</th>\n",
       "      <th>dayofmonth</th>\n",
       "      <th>dayofyear</th>\n",
       "      <th>...</th>\n",
       "      <th>weekday_weekend</th>\n",
       "      <th>weekofyear</th>\n",
       "      <th>weekofmonth</th>\n",
       "      <th>month</th>\n",
       "      <th>quarter</th>\n",
       "      <th>days_in_month</th>\n",
       "      <th>year</th>\n",
       "      <th>change_qty</th>\n",
       "      <th>change_price</th>\n",
       "      <th>row_number</th>\n",
       "    </tr>\n",
       "  </thead>\n",
       "  <tbody>\n",
       "    <tr>\n",
       "      <th>164251</th>\n",
       "      <td>35962</td>\n",
       "      <td>Arts and Leisure</td>\n",
       "      <td>12 ASS ZINC CHRISTMAS DECORATIONS</td>\n",
       "      <td>20101020</td>\n",
       "      <td>11</td>\n",
       "      <td>2.1</td>\n",
       "      <td>1.747029</td>\n",
       "      <td>2</td>\n",
       "      <td>20</td>\n",
       "      <td>293</td>\n",
       "      <td>...</td>\n",
       "      <td>1</td>\n",
       "      <td>42</td>\n",
       "      <td>3</td>\n",
       "      <td>10</td>\n",
       "      <td>4</td>\n",
       "      <td>31</td>\n",
       "      <td>-9</td>\n",
       "      <td>1.200000</td>\n",
       "      <td>0.0</td>\n",
       "      <td>1</td>\n",
       "    </tr>\n",
       "    <tr>\n",
       "      <th>164250</th>\n",
       "      <td>35962</td>\n",
       "      <td>Arts and Leisure</td>\n",
       "      <td>12 ASS ZINC CHRISTMAS DECORATIONS</td>\n",
       "      <td>20101010</td>\n",
       "      <td>5</td>\n",
       "      <td>2.1</td>\n",
       "      <td>1.878906</td>\n",
       "      <td>6</td>\n",
       "      <td>10</td>\n",
       "      <td>283</td>\n",
       "      <td>...</td>\n",
       "      <td>0</td>\n",
       "      <td>40</td>\n",
       "      <td>2</td>\n",
       "      <td>10</td>\n",
       "      <td>4</td>\n",
       "      <td>31</td>\n",
       "      <td>-9</td>\n",
       "      <td>1.500000</td>\n",
       "      <td>0.0</td>\n",
       "      <td>2</td>\n",
       "    </tr>\n",
       "    <tr>\n",
       "      <th>164249</th>\n",
       "      <td>35962</td>\n",
       "      <td>Arts and Leisure</td>\n",
       "      <td>12 ASS ZINC CHRISTMAS DECORATIONS</td>\n",
       "      <td>20101007</td>\n",
       "      <td>2</td>\n",
       "      <td>2.1</td>\n",
       "      <td>1.229558</td>\n",
       "      <td>3</td>\n",
       "      <td>7</td>\n",
       "      <td>280</td>\n",
       "      <td>...</td>\n",
       "      <td>1</td>\n",
       "      <td>40</td>\n",
       "      <td>1</td>\n",
       "      <td>10</td>\n",
       "      <td>4</td>\n",
       "      <td>31</td>\n",
       "      <td>-9</td>\n",
       "      <td>-0.833333</td>\n",
       "      <td>0.0</td>\n",
       "      <td>3</td>\n",
       "    </tr>\n",
       "    <tr>\n",
       "      <th>164248</th>\n",
       "      <td>35962</td>\n",
       "      <td>Arts and Leisure</td>\n",
       "      <td>12 ASS ZINC CHRISTMAS DECORATIONS</td>\n",
       "      <td>20101006</td>\n",
       "      <td>12</td>\n",
       "      <td>2.1</td>\n",
       "      <td>1.068459</td>\n",
       "      <td>2</td>\n",
       "      <td>6</td>\n",
       "      <td>279</td>\n",
       "      <td>...</td>\n",
       "      <td>1</td>\n",
       "      <td>40</td>\n",
       "      <td>1</td>\n",
       "      <td>10</td>\n",
       "      <td>4</td>\n",
       "      <td>31</td>\n",
       "      <td>-9</td>\n",
       "      <td>0.000000</td>\n",
       "      <td>0.0</td>\n",
       "      <td>4</td>\n",
       "    </tr>\n",
       "    <tr>\n",
       "      <th>164247</th>\n",
       "      <td>35962</td>\n",
       "      <td>Arts and Leisure</td>\n",
       "      <td>12 ASS ZINC CHRISTMAS DECORATIONS</td>\n",
       "      <td>20101005</td>\n",
       "      <td>12</td>\n",
       "      <td>2.1</td>\n",
       "      <td>1.289836</td>\n",
       "      <td>1</td>\n",
       "      <td>5</td>\n",
       "      <td>278</td>\n",
       "      <td>...</td>\n",
       "      <td>1</td>\n",
       "      <td>40</td>\n",
       "      <td>1</td>\n",
       "      <td>10</td>\n",
       "      <td>4</td>\n",
       "      <td>31</td>\n",
       "      <td>-9</td>\n",
       "      <td>1.000000</td>\n",
       "      <td>0.0</td>\n",
       "      <td>5</td>\n",
       "    </tr>\n",
       "  </tbody>\n",
       "</table>\n",
       "<p>5 rows × 21 columns</p>\n",
       "</div>"
      ],
      "text/plain": [
       "       StockCode          Category                        Description  \\\n",
       "164251     35962  Arts and Leisure  12 ASS ZINC CHRISTMAS DECORATIONS   \n",
       "164250     35962  Arts and Leisure  12 ASS ZINC CHRISTMAS DECORATIONS   \n",
       "164249     35962  Arts and Leisure  12 ASS ZINC CHRISTMAS DECORATIONS   \n",
       "164248     35962  Arts and Leisure  12 ASS ZINC CHRISTMAS DECORATIONS   \n",
       "164247     35962  Arts and Leisure  12 ASS ZINC CHRISTMAS DECORATIONS   \n",
       "\n",
       "        yyyymmdd  Quantity  Price  Cost_price  dayofweek  dayofmonth  \\\n",
       "164251  20101020        11    2.1    1.747029          2          20   \n",
       "164250  20101010         5    2.1    1.878906          6          10   \n",
       "164249  20101007         2    2.1    1.229558          3           7   \n",
       "164248  20101006        12    2.1    1.068459          2           6   \n",
       "164247  20101005        12    2.1    1.289836          1           5   \n",
       "\n",
       "        dayofyear  ...  weekday_weekend  weekofyear  weekofmonth  month  \\\n",
       "164251        293  ...                1          42            3     10   \n",
       "164250        283  ...                0          40            2     10   \n",
       "164249        280  ...                1          40            1     10   \n",
       "164248        279  ...                1          40            1     10   \n",
       "164247        278  ...                1          40            1     10   \n",
       "\n",
       "        quarter  days_in_month  year  change_qty  change_price  row_number  \n",
       "164251        4             31    -9    1.200000           0.0           1  \n",
       "164250        4             31    -9    1.500000           0.0           2  \n",
       "164249        4             31    -9   -0.833333           0.0           3  \n",
       "164248        4             31    -9    0.000000           0.0           4  \n",
       "164247        4             31    -9    1.000000           0.0           5  \n",
       "\n",
       "[5 rows x 21 columns]"
      ]
     },
     "execution_count": 39,
     "metadata": {},
     "output_type": "execute_result"
    }
   ],
   "source": [
    "df.head()"
   ]
  },
  {
   "cell_type": "markdown",
   "metadata": {},
   "source": [
    "lastest"
   ]
  },
  {
   "cell_type": "code",
   "execution_count": 41,
   "metadata": {},
   "outputs": [],
   "source": [
    "df_lastest = df[df['row_number'] == 1].reset_index(drop=True)"
   ]
  },
  {
   "cell_type": "code",
   "execution_count": 42,
   "metadata": {
    "tags": []
   },
   "outputs": [
    {
     "data": {
      "text/plain": [
       "(3979, 21)"
      ]
     },
     "execution_count": 42,
     "metadata": {},
     "output_type": "execute_result"
    }
   ],
   "source": [
    "df_lastest.shape"
   ]
  },
  {
   "cell_type": "code",
   "execution_count": 43,
   "metadata": {},
   "outputs": [
    {
     "data": {
      "text/html": [
       "<div>\n",
       "<style scoped>\n",
       "    .dataframe tbody tr th:only-of-type {\n",
       "        vertical-align: middle;\n",
       "    }\n",
       "\n",
       "    .dataframe tbody tr th {\n",
       "        vertical-align: top;\n",
       "    }\n",
       "\n",
       "    .dataframe thead th {\n",
       "        text-align: right;\n",
       "    }\n",
       "</style>\n",
       "<table border=\"1\" class=\"dataframe\">\n",
       "  <thead>\n",
       "    <tr style=\"text-align: right;\">\n",
       "      <th></th>\n",
       "      <th>StockCode</th>\n",
       "      <th>Category</th>\n",
       "      <th>Description</th>\n",
       "      <th>yyyymmdd</th>\n",
       "      <th>Quantity</th>\n",
       "      <th>Price</th>\n",
       "      <th>Cost_price</th>\n",
       "      <th>dayofweek</th>\n",
       "      <th>dayofmonth</th>\n",
       "      <th>dayofyear</th>\n",
       "      <th>...</th>\n",
       "      <th>weekday_weekend</th>\n",
       "      <th>weekofyear</th>\n",
       "      <th>weekofmonth</th>\n",
       "      <th>month</th>\n",
       "      <th>quarter</th>\n",
       "      <th>days_in_month</th>\n",
       "      <th>year</th>\n",
       "      <th>change_qty</th>\n",
       "      <th>change_price</th>\n",
       "      <th>row_number</th>\n",
       "    </tr>\n",
       "  </thead>\n",
       "  <tbody>\n",
       "    <tr>\n",
       "      <th>0</th>\n",
       "      <td>35962</td>\n",
       "      <td>Arts and Leisure</td>\n",
       "      <td>12 ASS ZINC CHRISTMAS DECORATIONS</td>\n",
       "      <td>20101020</td>\n",
       "      <td>11</td>\n",
       "      <td>2.10</td>\n",
       "      <td>1.747029</td>\n",
       "      <td>2</td>\n",
       "      <td>20</td>\n",
       "      <td>293</td>\n",
       "      <td>...</td>\n",
       "      <td>1</td>\n",
       "      <td>42</td>\n",
       "      <td>3</td>\n",
       "      <td>10</td>\n",
       "      <td>4</td>\n",
       "      <td>31</td>\n",
       "      <td>-9</td>\n",
       "      <td>1.200000</td>\n",
       "      <td>0.0</td>\n",
       "      <td>1</td>\n",
       "    </tr>\n",
       "    <tr>\n",
       "      <th>1</th>\n",
       "      <td>22436</td>\n",
       "      <td>Arts and Leisure</td>\n",
       "      <td>12 COLOURED PARTY BALLOONS</td>\n",
       "      <td>20101209</td>\n",
       "      <td>20</td>\n",
       "      <td>0.65</td>\n",
       "      <td>0.329037</td>\n",
       "      <td>3</td>\n",
       "      <td>9</td>\n",
       "      <td>343</td>\n",
       "      <td>...</td>\n",
       "      <td>1</td>\n",
       "      <td>49</td>\n",
       "      <td>2</td>\n",
       "      <td>12</td>\n",
       "      <td>4</td>\n",
       "      <td>31</td>\n",
       "      <td>-9</td>\n",
       "      <td>0.666667</td>\n",
       "      <td>0.0</td>\n",
       "      <td>1</td>\n",
       "    </tr>\n",
       "    <tr>\n",
       "      <th>2</th>\n",
       "      <td>21440</td>\n",
       "      <td>Arts and Leisure</td>\n",
       "      <td>12 MINI TOADSTOOL PEGS</td>\n",
       "      <td>20100701</td>\n",
       "      <td>13</td>\n",
       "      <td>1.25</td>\n",
       "      <td>0.974084</td>\n",
       "      <td>3</td>\n",
       "      <td>1</td>\n",
       "      <td>182</td>\n",
       "      <td>...</td>\n",
       "      <td>1</td>\n",
       "      <td>26</td>\n",
       "      <td>1</td>\n",
       "      <td>7</td>\n",
       "      <td>3</td>\n",
       "      <td>31</td>\n",
       "      <td>-9</td>\n",
       "      <td>1.600000</td>\n",
       "      <td>0.0</td>\n",
       "      <td>1</td>\n",
       "    </tr>\n",
       "    <tr>\n",
       "      <th>3</th>\n",
       "      <td>84465</td>\n",
       "      <td>Arts and Leisure</td>\n",
       "      <td>15 PINK FLUFFY CHICKS IN BOX</td>\n",
       "      <td>20100406</td>\n",
       "      <td>1</td>\n",
       "      <td>2.95</td>\n",
       "      <td>1.575270</td>\n",
       "      <td>1</td>\n",
       "      <td>6</td>\n",
       "      <td>96</td>\n",
       "      <td>...</td>\n",
       "      <td>1</td>\n",
       "      <td>14</td>\n",
       "      <td>1</td>\n",
       "      <td>4</td>\n",
       "      <td>2</td>\n",
       "      <td>30</td>\n",
       "      <td>-9</td>\n",
       "      <td>0.000000</td>\n",
       "      <td>0.0</td>\n",
       "      <td>1</td>\n",
       "    </tr>\n",
       "    <tr>\n",
       "      <th>4</th>\n",
       "      <td>21458</td>\n",
       "      <td>Arts and Leisure</td>\n",
       "      <td>2 PICTURE BOOK EGGS EASTER BUNNY</td>\n",
       "      <td>20100827</td>\n",
       "      <td>12</td>\n",
       "      <td>1.25</td>\n",
       "      <td>0.749582</td>\n",
       "      <td>4</td>\n",
       "      <td>27</td>\n",
       "      <td>239</td>\n",
       "      <td>...</td>\n",
       "      <td>1</td>\n",
       "      <td>34</td>\n",
       "      <td>4</td>\n",
       "      <td>8</td>\n",
       "      <td>3</td>\n",
       "      <td>31</td>\n",
       "      <td>-9</td>\n",
       "      <td>11.000000</td>\n",
       "      <td>0.0</td>\n",
       "      <td>1</td>\n",
       "    </tr>\n",
       "  </tbody>\n",
       "</table>\n",
       "<p>5 rows × 21 columns</p>\n",
       "</div>"
      ],
      "text/plain": [
       "  StockCode          Category                        Description  yyyymmdd  \\\n",
       "0     35962  Arts and Leisure  12 ASS ZINC CHRISTMAS DECORATIONS  20101020   \n",
       "1     22436  Arts and Leisure         12 COLOURED PARTY BALLOONS  20101209   \n",
       "2     21440  Arts and Leisure             12 MINI TOADSTOOL PEGS  20100701   \n",
       "3     84465  Arts and Leisure       15 PINK FLUFFY CHICKS IN BOX  20100406   \n",
       "4     21458  Arts and Leisure   2 PICTURE BOOK EGGS EASTER BUNNY  20100827   \n",
       "\n",
       "   Quantity  Price  Cost_price  dayofweek  dayofmonth  dayofyear  ...  \\\n",
       "0        11   2.10    1.747029          2          20        293  ...   \n",
       "1        20   0.65    0.329037          3           9        343  ...   \n",
       "2        13   1.25    0.974084          3           1        182  ...   \n",
       "3         1   2.95    1.575270          1           6         96  ...   \n",
       "4        12   1.25    0.749582          4          27        239  ...   \n",
       "\n",
       "   weekday_weekend  weekofyear  weekofmonth  month  quarter  days_in_month  \\\n",
       "0                1          42            3     10        4             31   \n",
       "1                1          49            2     12        4             31   \n",
       "2                1          26            1      7        3             31   \n",
       "3                1          14            1      4        2             30   \n",
       "4                1          34            4      8        3             31   \n",
       "\n",
       "   year  change_qty  change_price  row_number  \n",
       "0    -9    1.200000           0.0           1  \n",
       "1    -9    0.666667           0.0           1  \n",
       "2    -9    1.600000           0.0           1  \n",
       "3    -9    0.000000           0.0           1  \n",
       "4    -9   11.000000           0.0           1  \n",
       "\n",
       "[5 rows x 21 columns]"
      ]
     },
     "execution_count": 43,
     "metadata": {},
     "output_type": "execute_result"
    }
   ],
   "source": [
    "df_lastest.head()"
   ]
  },
  {
   "cell_type": "markdown",
   "metadata": {},
   "source": [
    "# 6. Model"
   ]
  },
  {
   "cell_type": "markdown",
   "metadata": {},
   "source": [
    "split df by category"
   ]
  },
  {
   "cell_type": "code",
   "execution_count": 46,
   "metadata": {
    "tags": []
   },
   "outputs": [
    {
     "data": {
      "text/plain": [
       "array(['Arts and Leisure', 'Education and Office', 'Fashion and Travel',\n",
       "       'Health and Wellness', 'Home and Lifestyle', 'Technology and More'],\n",
       "      dtype=object)"
      ]
     },
     "execution_count": 46,
     "metadata": {},
     "output_type": "execute_result"
    }
   ],
   "source": [
    "df['Category'].unique()"
   ]
  },
  {
   "cell_type": "code",
   "execution_count": 47,
   "metadata": {
    "tags": []
   },
   "outputs": [],
   "source": [
    "df_art_leisure = df[df['Category'] == 'Arts and Leisure']"
   ]
  },
  {
   "cell_type": "code",
   "execution_count": 48,
   "metadata": {},
   "outputs": [],
   "source": [
    "df_education_office = df[df['Category'] == 'Education and Office']"
   ]
  },
  {
   "cell_type": "code",
   "execution_count": 49,
   "metadata": {
    "tags": []
   },
   "outputs": [],
   "source": [
    "df_fashion_travel = df[df['Category'] == 'Fashion and Travel']"
   ]
  },
  {
   "cell_type": "code",
   "execution_count": 50,
   "metadata": {
    "tags": []
   },
   "outputs": [],
   "source": [
    "df_health_wellness = df[df['Category'] == 'Health and Wellness']"
   ]
  },
  {
   "cell_type": "code",
   "execution_count": 51,
   "metadata": {
    "tags": []
   },
   "outputs": [],
   "source": [
    "df_home_lifestyle = df[df['Category'] == 'Home and Lifestyle']"
   ]
  },
  {
   "cell_type": "code",
   "execution_count": 52,
   "metadata": {
    "tags": []
   },
   "outputs": [],
   "source": [
    "df_tech = df[df['Category'] == 'Technology and More']"
   ]
  },
  {
   "cell_type": "markdown",
   "metadata": {},
   "source": [
    "StockCode\tCategory\tDescription\tyyyymmdd\tQuantity\tPrice\tCost_pricesplit X and y"
   ]
  },
  {
   "cell_type": "code",
   "execution_count": 54,
   "metadata": {},
   "outputs": [],
   "source": [
    "X_art_leisure = df_art_leisure.drop(columns=['StockCode','Category','Description','yyyymmdd','Quantity','Price','Cost_price','row_number','change_qty'])\n",
    "y_art_leisure = df_art_leisure['change_qty']"
   ]
  },
  {
   "cell_type": "code",
   "execution_count": 55,
   "metadata": {
    "tags": []
   },
   "outputs": [
    {
     "name": "stdout",
     "output_type": "stream",
     "text": [
      "(51303, 12) (51303,)\n"
     ]
    }
   ],
   "source": [
    "print(X_art_leisure.shape, y_art_leisure.shape)"
   ]
  },
  {
   "cell_type": "code",
   "execution_count": 56,
   "metadata": {
    "tags": []
   },
   "outputs": [],
   "source": [
    "X_education_office = df_education_office.drop(columns=['StockCode','Category','Description','yyyymmdd','Quantity','Price','Cost_price','row_number','change_qty'])\n",
    "y_education_office = df_education_office['change_qty']"
   ]
  },
  {
   "cell_type": "code",
   "execution_count": 57,
   "metadata": {},
   "outputs": [
    {
     "name": "stdout",
     "output_type": "stream",
     "text": [
      "(15537, 12) (15537,)\n"
     ]
    }
   ],
   "source": [
    "print(X_education_office.shape, y_education_office.shape)"
   ]
  },
  {
   "cell_type": "code",
   "execution_count": 58,
   "metadata": {
    "tags": []
   },
   "outputs": [],
   "source": [
    "X_fashion_travel = df_fashion_travel.drop(columns=['StockCode','Category','Description','yyyymmdd','Quantity','Price','Cost_price','row_number','change_qty'])\n",
    "y_fashion_travel = df_fashion_travel['change_qty']"
   ]
  },
  {
   "cell_type": "code",
   "execution_count": 59,
   "metadata": {},
   "outputs": [
    {
     "name": "stdout",
     "output_type": "stream",
     "text": [
      "(27787, 12) (27787,)\n"
     ]
    }
   ],
   "source": [
    "print(X_fashion_travel.shape, y_fashion_travel.shape)"
   ]
  },
  {
   "cell_type": "code",
   "execution_count": 60,
   "metadata": {
    "tags": []
   },
   "outputs": [],
   "source": [
    "X_health_wellness = df_health_wellness.drop(columns=['StockCode','Category','Description','yyyymmdd','Quantity','Price','Cost_price','row_number','change_qty'])\n",
    "y_health_wellness = df_health_wellness['change_qty']"
   ]
  },
  {
   "cell_type": "code",
   "execution_count": 61,
   "metadata": {},
   "outputs": [
    {
     "name": "stdout",
     "output_type": "stream",
     "text": [
      "(9023, 12) (9023,)\n"
     ]
    }
   ],
   "source": [
    "print(X_health_wellness.shape, y_health_wellness.shape)"
   ]
  },
  {
   "cell_type": "code",
   "execution_count": 62,
   "metadata": {
    "tags": []
   },
   "outputs": [],
   "source": [
    "X_home_lifestyle = df_home_lifestyle.drop(columns=['StockCode','Category','Description','yyyymmdd','Quantity','Price','Cost_price','row_number','change_qty'])\n",
    "y_home_lifestyle = df_home_lifestyle['change_qty']"
   ]
  },
  {
   "cell_type": "code",
   "execution_count": 63,
   "metadata": {},
   "outputs": [
    {
     "name": "stdout",
     "output_type": "stream",
     "text": [
      "(119297, 12) (119297,)\n"
     ]
    }
   ],
   "source": [
    "print(X_home_lifestyle.shape, y_home_lifestyle.shape)"
   ]
  },
  {
   "cell_type": "code",
   "execution_count": 64,
   "metadata": {
    "tags": []
   },
   "outputs": [],
   "source": [
    "X_tech = df_tech.drop(columns=['StockCode','Category','Description','yyyymmdd','Quantity','Price','Cost_price','row_number','change_qty'])\n",
    "y_tech = df_tech['change_qty']"
   ]
  },
  {
   "cell_type": "code",
   "execution_count": 65,
   "metadata": {
    "tags": []
   },
   "outputs": [
    {
     "name": "stdout",
     "output_type": "stream",
     "text": [
      "(625, 12) (625,)\n"
     ]
    }
   ],
   "source": [
    "print(X_tech.shape, y_tech.shape)"
   ]
  },
  {
   "cell_type": "markdown",
   "metadata": {},
   "source": [
    "model training (art and leisure)"
   ]
  },
  {
   "cell_type": "code",
   "execution_count": 67,
   "metadata": {},
   "outputs": [],
   "source": [
    "rt = DecisionTreeRegressor(random_state=42)"
   ]
  },
  {
   "cell_type": "code",
   "execution_count": 68,
   "metadata": {},
   "outputs": [],
   "source": [
    "param_grid = {\n",
    "    'max_depth': [5, 10],\n",
    "    'min_samples_split': [10, 15],\n",
    "    'min_samples_leaf': [5, 10]\n",
    "}"
   ]
  },
  {
   "cell_type": "code",
   "execution_count": 69,
   "metadata": {},
   "outputs": [],
   "source": [
    "grid_search = GridSearchCV(estimator=rt, param_grid=param_grid, cv=3, scoring='neg_mean_squared_error', verbose=2, n_jobs=-1)"
   ]
  },
  {
   "cell_type": "code",
   "execution_count": 70,
   "metadata": {},
   "outputs": [
    {
     "name": "stdout",
     "output_type": "stream",
     "text": [
      "Fitting 3 folds for each of 8 candidates, totalling 24 fits\n"
     ]
    },
    {
     "data": {
      "text/html": [
       "<style>#sk-container-id-1 {color: black;}#sk-container-id-1 pre{padding: 0;}#sk-container-id-1 div.sk-toggleable {background-color: white;}#sk-container-id-1 label.sk-toggleable__label {cursor: pointer;display: block;width: 100%;margin-bottom: 0;padding: 0.3em;box-sizing: border-box;text-align: center;}#sk-container-id-1 label.sk-toggleable__label-arrow:before {content: \"▸\";float: left;margin-right: 0.25em;color: #696969;}#sk-container-id-1 label.sk-toggleable__label-arrow:hover:before {color: black;}#sk-container-id-1 div.sk-estimator:hover label.sk-toggleable__label-arrow:before {color: black;}#sk-container-id-1 div.sk-toggleable__content {max-height: 0;max-width: 0;overflow: hidden;text-align: left;background-color: #f0f8ff;}#sk-container-id-1 div.sk-toggleable__content pre {margin: 0.2em;color: black;border-radius: 0.25em;background-color: #f0f8ff;}#sk-container-id-1 input.sk-toggleable__control:checked~div.sk-toggleable__content {max-height: 200px;max-width: 100%;overflow: auto;}#sk-container-id-1 input.sk-toggleable__control:checked~label.sk-toggleable__label-arrow:before {content: \"▾\";}#sk-container-id-1 div.sk-estimator input.sk-toggleable__control:checked~label.sk-toggleable__label {background-color: #d4ebff;}#sk-container-id-1 div.sk-label input.sk-toggleable__control:checked~label.sk-toggleable__label {background-color: #d4ebff;}#sk-container-id-1 input.sk-hidden--visually {border: 0;clip: rect(1px 1px 1px 1px);clip: rect(1px, 1px, 1px, 1px);height: 1px;margin: -1px;overflow: hidden;padding: 0;position: absolute;width: 1px;}#sk-container-id-1 div.sk-estimator {font-family: monospace;background-color: #f0f8ff;border: 1px dotted black;border-radius: 0.25em;box-sizing: border-box;margin-bottom: 0.5em;}#sk-container-id-1 div.sk-estimator:hover {background-color: #d4ebff;}#sk-container-id-1 div.sk-parallel-item::after {content: \"\";width: 100%;border-bottom: 1px solid gray;flex-grow: 1;}#sk-container-id-1 div.sk-label:hover label.sk-toggleable__label {background-color: #d4ebff;}#sk-container-id-1 div.sk-serial::before {content: \"\";position: absolute;border-left: 1px solid gray;box-sizing: border-box;top: 0;bottom: 0;left: 50%;z-index: 0;}#sk-container-id-1 div.sk-serial {display: flex;flex-direction: column;align-items: center;background-color: white;padding-right: 0.2em;padding-left: 0.2em;position: relative;}#sk-container-id-1 div.sk-item {position: relative;z-index: 1;}#sk-container-id-1 div.sk-parallel {display: flex;align-items: stretch;justify-content: center;background-color: white;position: relative;}#sk-container-id-1 div.sk-item::before, #sk-container-id-1 div.sk-parallel-item::before {content: \"\";position: absolute;border-left: 1px solid gray;box-sizing: border-box;top: 0;bottom: 0;left: 50%;z-index: -1;}#sk-container-id-1 div.sk-parallel-item {display: flex;flex-direction: column;z-index: 1;position: relative;background-color: white;}#sk-container-id-1 div.sk-parallel-item:first-child::after {align-self: flex-end;width: 50%;}#sk-container-id-1 div.sk-parallel-item:last-child::after {align-self: flex-start;width: 50%;}#sk-container-id-1 div.sk-parallel-item:only-child::after {width: 0;}#sk-container-id-1 div.sk-dashed-wrapped {border: 1px dashed gray;margin: 0 0.4em 0.5em 0.4em;box-sizing: border-box;padding-bottom: 0.4em;background-color: white;}#sk-container-id-1 div.sk-label label {font-family: monospace;font-weight: bold;display: inline-block;line-height: 1.2em;}#sk-container-id-1 div.sk-label-container {text-align: center;}#sk-container-id-1 div.sk-container {/* jupyter's `normalize.less` sets `[hidden] { display: none; }` but bootstrap.min.css set `[hidden] { display: none !important; }` so we also need the `!important` here to be able to override the default hidden behavior on the sphinx rendered scikit-learn.org. See: https://github.com/scikit-learn/scikit-learn/issues/21755 */display: inline-block !important;position: relative;}#sk-container-id-1 div.sk-text-repr-fallback {display: none;}</style><div id=\"sk-container-id-1\" class=\"sk-top-container\"><div class=\"sk-text-repr-fallback\"><pre>GridSearchCV(cv=3, estimator=DecisionTreeRegressor(random_state=42), n_jobs=-1,\n",
       "             param_grid={&#x27;max_depth&#x27;: [5, 10], &#x27;min_samples_leaf&#x27;: [5, 10],\n",
       "                         &#x27;min_samples_split&#x27;: [10, 15]},\n",
       "             scoring=&#x27;neg_mean_squared_error&#x27;, verbose=2)</pre><b>In a Jupyter environment, please rerun this cell to show the HTML representation or trust the notebook. <br />On GitHub, the HTML representation is unable to render, please try loading this page with nbviewer.org.</b></div><div class=\"sk-container\" hidden><div class=\"sk-item sk-dashed-wrapped\"><div class=\"sk-label-container\"><div class=\"sk-label sk-toggleable\"><input class=\"sk-toggleable__control sk-hidden--visually\" id=\"sk-estimator-id-1\" type=\"checkbox\" ><label for=\"sk-estimator-id-1\" class=\"sk-toggleable__label sk-toggleable__label-arrow\">GridSearchCV</label><div class=\"sk-toggleable__content\"><pre>GridSearchCV(cv=3, estimator=DecisionTreeRegressor(random_state=42), n_jobs=-1,\n",
       "             param_grid={&#x27;max_depth&#x27;: [5, 10], &#x27;min_samples_leaf&#x27;: [5, 10],\n",
       "                         &#x27;min_samples_split&#x27;: [10, 15]},\n",
       "             scoring=&#x27;neg_mean_squared_error&#x27;, verbose=2)</pre></div></div></div><div class=\"sk-parallel\"><div class=\"sk-parallel-item\"><div class=\"sk-item\"><div class=\"sk-label-container\"><div class=\"sk-label sk-toggleable\"><input class=\"sk-toggleable__control sk-hidden--visually\" id=\"sk-estimator-id-2\" type=\"checkbox\" ><label for=\"sk-estimator-id-2\" class=\"sk-toggleable__label sk-toggleable__label-arrow\">estimator: DecisionTreeRegressor</label><div class=\"sk-toggleable__content\"><pre>DecisionTreeRegressor(random_state=42)</pre></div></div></div><div class=\"sk-serial\"><div class=\"sk-item\"><div class=\"sk-estimator sk-toggleable\"><input class=\"sk-toggleable__control sk-hidden--visually\" id=\"sk-estimator-id-3\" type=\"checkbox\" ><label for=\"sk-estimator-id-3\" class=\"sk-toggleable__label sk-toggleable__label-arrow\">DecisionTreeRegressor</label><div class=\"sk-toggleable__content\"><pre>DecisionTreeRegressor(random_state=42)</pre></div></div></div></div></div></div></div></div></div></div>"
      ],
      "text/plain": [
       "GridSearchCV(cv=3, estimator=DecisionTreeRegressor(random_state=42), n_jobs=-1,\n",
       "             param_grid={'max_depth': [5, 10], 'min_samples_leaf': [5, 10],\n",
       "                         'min_samples_split': [10, 15]},\n",
       "             scoring='neg_mean_squared_error', verbose=2)"
      ]
     },
     "execution_count": 70,
     "metadata": {},
     "output_type": "execute_result"
    }
   ],
   "source": [
    "grid_search.fit(X_art_leisure, y_art_leisure)"
   ]
  },
  {
   "cell_type": "code",
   "execution_count": 71,
   "metadata": {},
   "outputs": [
    {
     "data": {
      "text/plain": [
       "-2528.433195113989"
      ]
     },
     "execution_count": 71,
     "metadata": {},
     "output_type": "execute_result"
    }
   ],
   "source": [
    "grid_search.best_score_"
   ]
  },
  {
   "cell_type": "code",
   "execution_count": 72,
   "metadata": {},
   "outputs": [],
   "source": [
    "best_model_art_leisure = grid_search.best_estimator_"
   ]
  },
  {
   "cell_type": "markdown",
   "metadata": {
    "tags": []
   },
   "source": [
    "model training (education and office)"
   ]
  },
  {
   "cell_type": "code",
   "execution_count": 74,
   "metadata": {
    "tags": []
   },
   "outputs": [],
   "source": [
    "rt = DecisionTreeRegressor(random_state=42)"
   ]
  },
  {
   "cell_type": "code",
   "execution_count": 75,
   "metadata": {
    "tags": []
   },
   "outputs": [],
   "source": [
    "param_grid = {\n",
    "    'max_depth': [5, 10],\n",
    "    'min_samples_split': [10, 15],\n",
    "    'min_samples_leaf': [5, 10]\n",
    "}"
   ]
  },
  {
   "cell_type": "code",
   "execution_count": 76,
   "metadata": {
    "tags": []
   },
   "outputs": [],
   "source": [
    "grid_search = GridSearchCV(estimator=rt, param_grid=param_grid, cv=3, scoring='neg_mean_squared_error', verbose=2, n_jobs=-1)"
   ]
  },
  {
   "cell_type": "code",
   "execution_count": 77,
   "metadata": {
    "tags": []
   },
   "outputs": [
    {
     "name": "stdout",
     "output_type": "stream",
     "text": [
      "Fitting 3 folds for each of 8 candidates, totalling 24 fits\n"
     ]
    },
    {
     "data": {
      "text/html": [
       "<style>#sk-container-id-2 {color: black;}#sk-container-id-2 pre{padding: 0;}#sk-container-id-2 div.sk-toggleable {background-color: white;}#sk-container-id-2 label.sk-toggleable__label {cursor: pointer;display: block;width: 100%;margin-bottom: 0;padding: 0.3em;box-sizing: border-box;text-align: center;}#sk-container-id-2 label.sk-toggleable__label-arrow:before {content: \"▸\";float: left;margin-right: 0.25em;color: #696969;}#sk-container-id-2 label.sk-toggleable__label-arrow:hover:before {color: black;}#sk-container-id-2 div.sk-estimator:hover label.sk-toggleable__label-arrow:before {color: black;}#sk-container-id-2 div.sk-toggleable__content {max-height: 0;max-width: 0;overflow: hidden;text-align: left;background-color: #f0f8ff;}#sk-container-id-2 div.sk-toggleable__content pre {margin: 0.2em;color: black;border-radius: 0.25em;background-color: #f0f8ff;}#sk-container-id-2 input.sk-toggleable__control:checked~div.sk-toggleable__content {max-height: 200px;max-width: 100%;overflow: auto;}#sk-container-id-2 input.sk-toggleable__control:checked~label.sk-toggleable__label-arrow:before {content: \"▾\";}#sk-container-id-2 div.sk-estimator input.sk-toggleable__control:checked~label.sk-toggleable__label {background-color: #d4ebff;}#sk-container-id-2 div.sk-label input.sk-toggleable__control:checked~label.sk-toggleable__label {background-color: #d4ebff;}#sk-container-id-2 input.sk-hidden--visually {border: 0;clip: rect(1px 1px 1px 1px);clip: rect(1px, 1px, 1px, 1px);height: 1px;margin: -1px;overflow: hidden;padding: 0;position: absolute;width: 1px;}#sk-container-id-2 div.sk-estimator {font-family: monospace;background-color: #f0f8ff;border: 1px dotted black;border-radius: 0.25em;box-sizing: border-box;margin-bottom: 0.5em;}#sk-container-id-2 div.sk-estimator:hover {background-color: #d4ebff;}#sk-container-id-2 div.sk-parallel-item::after {content: \"\";width: 100%;border-bottom: 1px solid gray;flex-grow: 1;}#sk-container-id-2 div.sk-label:hover label.sk-toggleable__label {background-color: #d4ebff;}#sk-container-id-2 div.sk-serial::before {content: \"\";position: absolute;border-left: 1px solid gray;box-sizing: border-box;top: 0;bottom: 0;left: 50%;z-index: 0;}#sk-container-id-2 div.sk-serial {display: flex;flex-direction: column;align-items: center;background-color: white;padding-right: 0.2em;padding-left: 0.2em;position: relative;}#sk-container-id-2 div.sk-item {position: relative;z-index: 1;}#sk-container-id-2 div.sk-parallel {display: flex;align-items: stretch;justify-content: center;background-color: white;position: relative;}#sk-container-id-2 div.sk-item::before, #sk-container-id-2 div.sk-parallel-item::before {content: \"\";position: absolute;border-left: 1px solid gray;box-sizing: border-box;top: 0;bottom: 0;left: 50%;z-index: -1;}#sk-container-id-2 div.sk-parallel-item {display: flex;flex-direction: column;z-index: 1;position: relative;background-color: white;}#sk-container-id-2 div.sk-parallel-item:first-child::after {align-self: flex-end;width: 50%;}#sk-container-id-2 div.sk-parallel-item:last-child::after {align-self: flex-start;width: 50%;}#sk-container-id-2 div.sk-parallel-item:only-child::after {width: 0;}#sk-container-id-2 div.sk-dashed-wrapped {border: 1px dashed gray;margin: 0 0.4em 0.5em 0.4em;box-sizing: border-box;padding-bottom: 0.4em;background-color: white;}#sk-container-id-2 div.sk-label label {font-family: monospace;font-weight: bold;display: inline-block;line-height: 1.2em;}#sk-container-id-2 div.sk-label-container {text-align: center;}#sk-container-id-2 div.sk-container {/* jupyter's `normalize.less` sets `[hidden] { display: none; }` but bootstrap.min.css set `[hidden] { display: none !important; }` so we also need the `!important` here to be able to override the default hidden behavior on the sphinx rendered scikit-learn.org. See: https://github.com/scikit-learn/scikit-learn/issues/21755 */display: inline-block !important;position: relative;}#sk-container-id-2 div.sk-text-repr-fallback {display: none;}</style><div id=\"sk-container-id-2\" class=\"sk-top-container\"><div class=\"sk-text-repr-fallback\"><pre>GridSearchCV(cv=3, estimator=DecisionTreeRegressor(random_state=42), n_jobs=-1,\n",
       "             param_grid={&#x27;max_depth&#x27;: [5, 10], &#x27;min_samples_leaf&#x27;: [5, 10],\n",
       "                         &#x27;min_samples_split&#x27;: [10, 15]},\n",
       "             scoring=&#x27;neg_mean_squared_error&#x27;, verbose=2)</pre><b>In a Jupyter environment, please rerun this cell to show the HTML representation or trust the notebook. <br />On GitHub, the HTML representation is unable to render, please try loading this page with nbviewer.org.</b></div><div class=\"sk-container\" hidden><div class=\"sk-item sk-dashed-wrapped\"><div class=\"sk-label-container\"><div class=\"sk-label sk-toggleable\"><input class=\"sk-toggleable__control sk-hidden--visually\" id=\"sk-estimator-id-4\" type=\"checkbox\" ><label for=\"sk-estimator-id-4\" class=\"sk-toggleable__label sk-toggleable__label-arrow\">GridSearchCV</label><div class=\"sk-toggleable__content\"><pre>GridSearchCV(cv=3, estimator=DecisionTreeRegressor(random_state=42), n_jobs=-1,\n",
       "             param_grid={&#x27;max_depth&#x27;: [5, 10], &#x27;min_samples_leaf&#x27;: [5, 10],\n",
       "                         &#x27;min_samples_split&#x27;: [10, 15]},\n",
       "             scoring=&#x27;neg_mean_squared_error&#x27;, verbose=2)</pre></div></div></div><div class=\"sk-parallel\"><div class=\"sk-parallel-item\"><div class=\"sk-item\"><div class=\"sk-label-container\"><div class=\"sk-label sk-toggleable\"><input class=\"sk-toggleable__control sk-hidden--visually\" id=\"sk-estimator-id-5\" type=\"checkbox\" ><label for=\"sk-estimator-id-5\" class=\"sk-toggleable__label sk-toggleable__label-arrow\">estimator: DecisionTreeRegressor</label><div class=\"sk-toggleable__content\"><pre>DecisionTreeRegressor(random_state=42)</pre></div></div></div><div class=\"sk-serial\"><div class=\"sk-item\"><div class=\"sk-estimator sk-toggleable\"><input class=\"sk-toggleable__control sk-hidden--visually\" id=\"sk-estimator-id-6\" type=\"checkbox\" ><label for=\"sk-estimator-id-6\" class=\"sk-toggleable__label sk-toggleable__label-arrow\">DecisionTreeRegressor</label><div class=\"sk-toggleable__content\"><pre>DecisionTreeRegressor(random_state=42)</pre></div></div></div></div></div></div></div></div></div></div>"
      ],
      "text/plain": [
       "GridSearchCV(cv=3, estimator=DecisionTreeRegressor(random_state=42), n_jobs=-1,\n",
       "             param_grid={'max_depth': [5, 10], 'min_samples_leaf': [5, 10],\n",
       "                         'min_samples_split': [10, 15]},\n",
       "             scoring='neg_mean_squared_error', verbose=2)"
      ]
     },
     "execution_count": 77,
     "metadata": {},
     "output_type": "execute_result"
    }
   ],
   "source": [
    "grid_search.fit(X_education_office, y_education_office)"
   ]
  },
  {
   "cell_type": "code",
   "execution_count": 78,
   "metadata": {
    "tags": []
   },
   "outputs": [
    {
     "data": {
      "text/plain": [
       "-5746.836645797142"
      ]
     },
     "execution_count": 78,
     "metadata": {},
     "output_type": "execute_result"
    }
   ],
   "source": [
    "grid_search.best_score_"
   ]
  },
  {
   "cell_type": "code",
   "execution_count": 79,
   "metadata": {
    "tags": []
   },
   "outputs": [],
   "source": [
    "best_model_education_office = grid_search.best_estimator_"
   ]
  },
  {
   "cell_type": "markdown",
   "metadata": {},
   "source": [
    "model training (fashion and travel)"
   ]
  },
  {
   "cell_type": "code",
   "execution_count": 81,
   "metadata": {},
   "outputs": [],
   "source": [
    "rt = DecisionTreeRegressor(random_state=42)"
   ]
  },
  {
   "cell_type": "code",
   "execution_count": 82,
   "metadata": {},
   "outputs": [],
   "source": [
    "param_grid = {\n",
    "    'max_depth': [5, 10],\n",
    "    'min_samples_split': [10, 15],\n",
    "    'min_samples_leaf': [5, 10]\n",
    "}"
   ]
  },
  {
   "cell_type": "code",
   "execution_count": 83,
   "metadata": {},
   "outputs": [],
   "source": [
    "grid_search = GridSearchCV(estimator=rt, param_grid=param_grid, cv=3, scoring='neg_mean_squared_error', verbose=2, n_jobs=-1)"
   ]
  },
  {
   "cell_type": "code",
   "execution_count": 84,
   "metadata": {},
   "outputs": [
    {
     "name": "stdout",
     "output_type": "stream",
     "text": [
      "Fitting 3 folds for each of 8 candidates, totalling 24 fits\n"
     ]
    },
    {
     "data": {
      "text/html": [
       "<style>#sk-container-id-3 {color: black;}#sk-container-id-3 pre{padding: 0;}#sk-container-id-3 div.sk-toggleable {background-color: white;}#sk-container-id-3 label.sk-toggleable__label {cursor: pointer;display: block;width: 100%;margin-bottom: 0;padding: 0.3em;box-sizing: border-box;text-align: center;}#sk-container-id-3 label.sk-toggleable__label-arrow:before {content: \"▸\";float: left;margin-right: 0.25em;color: #696969;}#sk-container-id-3 label.sk-toggleable__label-arrow:hover:before {color: black;}#sk-container-id-3 div.sk-estimator:hover label.sk-toggleable__label-arrow:before {color: black;}#sk-container-id-3 div.sk-toggleable__content {max-height: 0;max-width: 0;overflow: hidden;text-align: left;background-color: #f0f8ff;}#sk-container-id-3 div.sk-toggleable__content pre {margin: 0.2em;color: black;border-radius: 0.25em;background-color: #f0f8ff;}#sk-container-id-3 input.sk-toggleable__control:checked~div.sk-toggleable__content {max-height: 200px;max-width: 100%;overflow: auto;}#sk-container-id-3 input.sk-toggleable__control:checked~label.sk-toggleable__label-arrow:before {content: \"▾\";}#sk-container-id-3 div.sk-estimator input.sk-toggleable__control:checked~label.sk-toggleable__label {background-color: #d4ebff;}#sk-container-id-3 div.sk-label input.sk-toggleable__control:checked~label.sk-toggleable__label {background-color: #d4ebff;}#sk-container-id-3 input.sk-hidden--visually {border: 0;clip: rect(1px 1px 1px 1px);clip: rect(1px, 1px, 1px, 1px);height: 1px;margin: -1px;overflow: hidden;padding: 0;position: absolute;width: 1px;}#sk-container-id-3 div.sk-estimator {font-family: monospace;background-color: #f0f8ff;border: 1px dotted black;border-radius: 0.25em;box-sizing: border-box;margin-bottom: 0.5em;}#sk-container-id-3 div.sk-estimator:hover {background-color: #d4ebff;}#sk-container-id-3 div.sk-parallel-item::after {content: \"\";width: 100%;border-bottom: 1px solid gray;flex-grow: 1;}#sk-container-id-3 div.sk-label:hover label.sk-toggleable__label {background-color: #d4ebff;}#sk-container-id-3 div.sk-serial::before {content: \"\";position: absolute;border-left: 1px solid gray;box-sizing: border-box;top: 0;bottom: 0;left: 50%;z-index: 0;}#sk-container-id-3 div.sk-serial {display: flex;flex-direction: column;align-items: center;background-color: white;padding-right: 0.2em;padding-left: 0.2em;position: relative;}#sk-container-id-3 div.sk-item {position: relative;z-index: 1;}#sk-container-id-3 div.sk-parallel {display: flex;align-items: stretch;justify-content: center;background-color: white;position: relative;}#sk-container-id-3 div.sk-item::before, #sk-container-id-3 div.sk-parallel-item::before {content: \"\";position: absolute;border-left: 1px solid gray;box-sizing: border-box;top: 0;bottom: 0;left: 50%;z-index: -1;}#sk-container-id-3 div.sk-parallel-item {display: flex;flex-direction: column;z-index: 1;position: relative;background-color: white;}#sk-container-id-3 div.sk-parallel-item:first-child::after {align-self: flex-end;width: 50%;}#sk-container-id-3 div.sk-parallel-item:last-child::after {align-self: flex-start;width: 50%;}#sk-container-id-3 div.sk-parallel-item:only-child::after {width: 0;}#sk-container-id-3 div.sk-dashed-wrapped {border: 1px dashed gray;margin: 0 0.4em 0.5em 0.4em;box-sizing: border-box;padding-bottom: 0.4em;background-color: white;}#sk-container-id-3 div.sk-label label {font-family: monospace;font-weight: bold;display: inline-block;line-height: 1.2em;}#sk-container-id-3 div.sk-label-container {text-align: center;}#sk-container-id-3 div.sk-container {/* jupyter's `normalize.less` sets `[hidden] { display: none; }` but bootstrap.min.css set `[hidden] { display: none !important; }` so we also need the `!important` here to be able to override the default hidden behavior on the sphinx rendered scikit-learn.org. See: https://github.com/scikit-learn/scikit-learn/issues/21755 */display: inline-block !important;position: relative;}#sk-container-id-3 div.sk-text-repr-fallback {display: none;}</style><div id=\"sk-container-id-3\" class=\"sk-top-container\"><div class=\"sk-text-repr-fallback\"><pre>GridSearchCV(cv=3, estimator=DecisionTreeRegressor(random_state=42), n_jobs=-1,\n",
       "             param_grid={&#x27;max_depth&#x27;: [5, 10], &#x27;min_samples_leaf&#x27;: [5, 10],\n",
       "                         &#x27;min_samples_split&#x27;: [10, 15]},\n",
       "             scoring=&#x27;neg_mean_squared_error&#x27;, verbose=2)</pre><b>In a Jupyter environment, please rerun this cell to show the HTML representation or trust the notebook. <br />On GitHub, the HTML representation is unable to render, please try loading this page with nbviewer.org.</b></div><div class=\"sk-container\" hidden><div class=\"sk-item sk-dashed-wrapped\"><div class=\"sk-label-container\"><div class=\"sk-label sk-toggleable\"><input class=\"sk-toggleable__control sk-hidden--visually\" id=\"sk-estimator-id-7\" type=\"checkbox\" ><label for=\"sk-estimator-id-7\" class=\"sk-toggleable__label sk-toggleable__label-arrow\">GridSearchCV</label><div class=\"sk-toggleable__content\"><pre>GridSearchCV(cv=3, estimator=DecisionTreeRegressor(random_state=42), n_jobs=-1,\n",
       "             param_grid={&#x27;max_depth&#x27;: [5, 10], &#x27;min_samples_leaf&#x27;: [5, 10],\n",
       "                         &#x27;min_samples_split&#x27;: [10, 15]},\n",
       "             scoring=&#x27;neg_mean_squared_error&#x27;, verbose=2)</pre></div></div></div><div class=\"sk-parallel\"><div class=\"sk-parallel-item\"><div class=\"sk-item\"><div class=\"sk-label-container\"><div class=\"sk-label sk-toggleable\"><input class=\"sk-toggleable__control sk-hidden--visually\" id=\"sk-estimator-id-8\" type=\"checkbox\" ><label for=\"sk-estimator-id-8\" class=\"sk-toggleable__label sk-toggleable__label-arrow\">estimator: DecisionTreeRegressor</label><div class=\"sk-toggleable__content\"><pre>DecisionTreeRegressor(random_state=42)</pre></div></div></div><div class=\"sk-serial\"><div class=\"sk-item\"><div class=\"sk-estimator sk-toggleable\"><input class=\"sk-toggleable__control sk-hidden--visually\" id=\"sk-estimator-id-9\" type=\"checkbox\" ><label for=\"sk-estimator-id-9\" class=\"sk-toggleable__label sk-toggleable__label-arrow\">DecisionTreeRegressor</label><div class=\"sk-toggleable__content\"><pre>DecisionTreeRegressor(random_state=42)</pre></div></div></div></div></div></div></div></div></div></div>"
      ],
      "text/plain": [
       "GridSearchCV(cv=3, estimator=DecisionTreeRegressor(random_state=42), n_jobs=-1,\n",
       "             param_grid={'max_depth': [5, 10], 'min_samples_leaf': [5, 10],\n",
       "                         'min_samples_split': [10, 15]},\n",
       "             scoring='neg_mean_squared_error', verbose=2)"
      ]
     },
     "execution_count": 84,
     "metadata": {},
     "output_type": "execute_result"
    }
   ],
   "source": [
    "grid_search.fit(X_fashion_travel, y_fashion_travel)"
   ]
  },
  {
   "cell_type": "code",
   "execution_count": 85,
   "metadata": {},
   "outputs": [
    {
     "data": {
      "text/plain": [
       "-281.52899579404874"
      ]
     },
     "execution_count": 85,
     "metadata": {},
     "output_type": "execute_result"
    }
   ],
   "source": [
    "grid_search.best_score_"
   ]
  },
  {
   "cell_type": "code",
   "execution_count": 86,
   "metadata": {},
   "outputs": [],
   "source": [
    "best_model_fashion_travel = grid_search.best_estimator_"
   ]
  },
  {
   "cell_type": "markdown",
   "metadata": {},
   "source": [
    "model training (health and wellness)"
   ]
  },
  {
   "cell_type": "code",
   "execution_count": 88,
   "metadata": {},
   "outputs": [],
   "source": [
    "rt = DecisionTreeRegressor(random_state=42)"
   ]
  },
  {
   "cell_type": "code",
   "execution_count": 89,
   "metadata": {},
   "outputs": [],
   "source": [
    "param_grid = {\n",
    "    'max_depth': [5, 10],\n",
    "    'min_samples_split': [10, 15],\n",
    "    'min_samples_leaf': [5, 10]\n",
    "}"
   ]
  },
  {
   "cell_type": "code",
   "execution_count": 90,
   "metadata": {},
   "outputs": [],
   "source": [
    "grid_search = GridSearchCV(estimator=rt, param_grid=param_grid, cv=3, scoring='neg_mean_squared_error', verbose=2, n_jobs=-1)"
   ]
  },
  {
   "cell_type": "code",
   "execution_count": 91,
   "metadata": {},
   "outputs": [
    {
     "name": "stdout",
     "output_type": "stream",
     "text": [
      "Fitting 3 folds for each of 8 candidates, totalling 24 fits\n"
     ]
    },
    {
     "data": {
      "text/html": [
       "<style>#sk-container-id-4 {color: black;}#sk-container-id-4 pre{padding: 0;}#sk-container-id-4 div.sk-toggleable {background-color: white;}#sk-container-id-4 label.sk-toggleable__label {cursor: pointer;display: block;width: 100%;margin-bottom: 0;padding: 0.3em;box-sizing: border-box;text-align: center;}#sk-container-id-4 label.sk-toggleable__label-arrow:before {content: \"▸\";float: left;margin-right: 0.25em;color: #696969;}#sk-container-id-4 label.sk-toggleable__label-arrow:hover:before {color: black;}#sk-container-id-4 div.sk-estimator:hover label.sk-toggleable__label-arrow:before {color: black;}#sk-container-id-4 div.sk-toggleable__content {max-height: 0;max-width: 0;overflow: hidden;text-align: left;background-color: #f0f8ff;}#sk-container-id-4 div.sk-toggleable__content pre {margin: 0.2em;color: black;border-radius: 0.25em;background-color: #f0f8ff;}#sk-container-id-4 input.sk-toggleable__control:checked~div.sk-toggleable__content {max-height: 200px;max-width: 100%;overflow: auto;}#sk-container-id-4 input.sk-toggleable__control:checked~label.sk-toggleable__label-arrow:before {content: \"▾\";}#sk-container-id-4 div.sk-estimator input.sk-toggleable__control:checked~label.sk-toggleable__label {background-color: #d4ebff;}#sk-container-id-4 div.sk-label input.sk-toggleable__control:checked~label.sk-toggleable__label {background-color: #d4ebff;}#sk-container-id-4 input.sk-hidden--visually {border: 0;clip: rect(1px 1px 1px 1px);clip: rect(1px, 1px, 1px, 1px);height: 1px;margin: -1px;overflow: hidden;padding: 0;position: absolute;width: 1px;}#sk-container-id-4 div.sk-estimator {font-family: monospace;background-color: #f0f8ff;border: 1px dotted black;border-radius: 0.25em;box-sizing: border-box;margin-bottom: 0.5em;}#sk-container-id-4 div.sk-estimator:hover {background-color: #d4ebff;}#sk-container-id-4 div.sk-parallel-item::after {content: \"\";width: 100%;border-bottom: 1px solid gray;flex-grow: 1;}#sk-container-id-4 div.sk-label:hover label.sk-toggleable__label {background-color: #d4ebff;}#sk-container-id-4 div.sk-serial::before {content: \"\";position: absolute;border-left: 1px solid gray;box-sizing: border-box;top: 0;bottom: 0;left: 50%;z-index: 0;}#sk-container-id-4 div.sk-serial {display: flex;flex-direction: column;align-items: center;background-color: white;padding-right: 0.2em;padding-left: 0.2em;position: relative;}#sk-container-id-4 div.sk-item {position: relative;z-index: 1;}#sk-container-id-4 div.sk-parallel {display: flex;align-items: stretch;justify-content: center;background-color: white;position: relative;}#sk-container-id-4 div.sk-item::before, #sk-container-id-4 div.sk-parallel-item::before {content: \"\";position: absolute;border-left: 1px solid gray;box-sizing: border-box;top: 0;bottom: 0;left: 50%;z-index: -1;}#sk-container-id-4 div.sk-parallel-item {display: flex;flex-direction: column;z-index: 1;position: relative;background-color: white;}#sk-container-id-4 div.sk-parallel-item:first-child::after {align-self: flex-end;width: 50%;}#sk-container-id-4 div.sk-parallel-item:last-child::after {align-self: flex-start;width: 50%;}#sk-container-id-4 div.sk-parallel-item:only-child::after {width: 0;}#sk-container-id-4 div.sk-dashed-wrapped {border: 1px dashed gray;margin: 0 0.4em 0.5em 0.4em;box-sizing: border-box;padding-bottom: 0.4em;background-color: white;}#sk-container-id-4 div.sk-label label {font-family: monospace;font-weight: bold;display: inline-block;line-height: 1.2em;}#sk-container-id-4 div.sk-label-container {text-align: center;}#sk-container-id-4 div.sk-container {/* jupyter's `normalize.less` sets `[hidden] { display: none; }` but bootstrap.min.css set `[hidden] { display: none !important; }` so we also need the `!important` here to be able to override the default hidden behavior on the sphinx rendered scikit-learn.org. See: https://github.com/scikit-learn/scikit-learn/issues/21755 */display: inline-block !important;position: relative;}#sk-container-id-4 div.sk-text-repr-fallback {display: none;}</style><div id=\"sk-container-id-4\" class=\"sk-top-container\"><div class=\"sk-text-repr-fallback\"><pre>GridSearchCV(cv=3, estimator=DecisionTreeRegressor(random_state=42), n_jobs=-1,\n",
       "             param_grid={&#x27;max_depth&#x27;: [5, 10], &#x27;min_samples_leaf&#x27;: [5, 10],\n",
       "                         &#x27;min_samples_split&#x27;: [10, 15]},\n",
       "             scoring=&#x27;neg_mean_squared_error&#x27;, verbose=2)</pre><b>In a Jupyter environment, please rerun this cell to show the HTML representation or trust the notebook. <br />On GitHub, the HTML representation is unable to render, please try loading this page with nbviewer.org.</b></div><div class=\"sk-container\" hidden><div class=\"sk-item sk-dashed-wrapped\"><div class=\"sk-label-container\"><div class=\"sk-label sk-toggleable\"><input class=\"sk-toggleable__control sk-hidden--visually\" id=\"sk-estimator-id-10\" type=\"checkbox\" ><label for=\"sk-estimator-id-10\" class=\"sk-toggleable__label sk-toggleable__label-arrow\">GridSearchCV</label><div class=\"sk-toggleable__content\"><pre>GridSearchCV(cv=3, estimator=DecisionTreeRegressor(random_state=42), n_jobs=-1,\n",
       "             param_grid={&#x27;max_depth&#x27;: [5, 10], &#x27;min_samples_leaf&#x27;: [5, 10],\n",
       "                         &#x27;min_samples_split&#x27;: [10, 15]},\n",
       "             scoring=&#x27;neg_mean_squared_error&#x27;, verbose=2)</pre></div></div></div><div class=\"sk-parallel\"><div class=\"sk-parallel-item\"><div class=\"sk-item\"><div class=\"sk-label-container\"><div class=\"sk-label sk-toggleable\"><input class=\"sk-toggleable__control sk-hidden--visually\" id=\"sk-estimator-id-11\" type=\"checkbox\" ><label for=\"sk-estimator-id-11\" class=\"sk-toggleable__label sk-toggleable__label-arrow\">estimator: DecisionTreeRegressor</label><div class=\"sk-toggleable__content\"><pre>DecisionTreeRegressor(random_state=42)</pre></div></div></div><div class=\"sk-serial\"><div class=\"sk-item\"><div class=\"sk-estimator sk-toggleable\"><input class=\"sk-toggleable__control sk-hidden--visually\" id=\"sk-estimator-id-12\" type=\"checkbox\" ><label for=\"sk-estimator-id-12\" class=\"sk-toggleable__label sk-toggleable__label-arrow\">DecisionTreeRegressor</label><div class=\"sk-toggleable__content\"><pre>DecisionTreeRegressor(random_state=42)</pre></div></div></div></div></div></div></div></div></div></div>"
      ],
      "text/plain": [
       "GridSearchCV(cv=3, estimator=DecisionTreeRegressor(random_state=42), n_jobs=-1,\n",
       "             param_grid={'max_depth': [5, 10], 'min_samples_leaf': [5, 10],\n",
       "                         'min_samples_split': [10, 15]},\n",
       "             scoring='neg_mean_squared_error', verbose=2)"
      ]
     },
     "execution_count": 91,
     "metadata": {},
     "output_type": "execute_result"
    }
   ],
   "source": [
    "grid_search.fit(X_health_wellness, y_health_wellness)"
   ]
  },
  {
   "cell_type": "code",
   "execution_count": 92,
   "metadata": {},
   "outputs": [
    {
     "data": {
      "text/plain": [
       "-2555.2471719008267"
      ]
     },
     "execution_count": 92,
     "metadata": {},
     "output_type": "execute_result"
    }
   ],
   "source": [
    "grid_search.best_score_"
   ]
  },
  {
   "cell_type": "code",
   "execution_count": 93,
   "metadata": {},
   "outputs": [],
   "source": [
    "best_model_health_wellness = grid_search.best_estimator_"
   ]
  },
  {
   "cell_type": "markdown",
   "metadata": {
    "tags": []
   },
   "source": [
    "model training (home and lifestyle)"
   ]
  },
  {
   "cell_type": "code",
   "execution_count": 95,
   "metadata": {
    "tags": []
   },
   "outputs": [],
   "source": [
    "rt = DecisionTreeRegressor(random_state=42)"
   ]
  },
  {
   "cell_type": "code",
   "execution_count": 96,
   "metadata": {},
   "outputs": [],
   "source": [
    "param_grid = {\n",
    "    'max_depth': [5, 10],\n",
    "    'min_samples_split': [10, 15],\n",
    "    'min_samples_leaf': [5, 10]\n",
    "}"
   ]
  },
  {
   "cell_type": "code",
   "execution_count": 97,
   "metadata": {},
   "outputs": [],
   "source": [
    "grid_search = GridSearchCV(estimator=rt, param_grid=param_grid, cv=3, scoring='neg_mean_squared_error', verbose=2, n_jobs=-1)"
   ]
  },
  {
   "cell_type": "code",
   "execution_count": 98,
   "metadata": {},
   "outputs": [
    {
     "name": "stdout",
     "output_type": "stream",
     "text": [
      "Fitting 3 folds for each of 8 candidates, totalling 24 fits\n"
     ]
    },
    {
     "data": {
      "text/html": [
       "<style>#sk-container-id-5 {color: black;}#sk-container-id-5 pre{padding: 0;}#sk-container-id-5 div.sk-toggleable {background-color: white;}#sk-container-id-5 label.sk-toggleable__label {cursor: pointer;display: block;width: 100%;margin-bottom: 0;padding: 0.3em;box-sizing: border-box;text-align: center;}#sk-container-id-5 label.sk-toggleable__label-arrow:before {content: \"▸\";float: left;margin-right: 0.25em;color: #696969;}#sk-container-id-5 label.sk-toggleable__label-arrow:hover:before {color: black;}#sk-container-id-5 div.sk-estimator:hover label.sk-toggleable__label-arrow:before {color: black;}#sk-container-id-5 div.sk-toggleable__content {max-height: 0;max-width: 0;overflow: hidden;text-align: left;background-color: #f0f8ff;}#sk-container-id-5 div.sk-toggleable__content pre {margin: 0.2em;color: black;border-radius: 0.25em;background-color: #f0f8ff;}#sk-container-id-5 input.sk-toggleable__control:checked~div.sk-toggleable__content {max-height: 200px;max-width: 100%;overflow: auto;}#sk-container-id-5 input.sk-toggleable__control:checked~label.sk-toggleable__label-arrow:before {content: \"▾\";}#sk-container-id-5 div.sk-estimator input.sk-toggleable__control:checked~label.sk-toggleable__label {background-color: #d4ebff;}#sk-container-id-5 div.sk-label input.sk-toggleable__control:checked~label.sk-toggleable__label {background-color: #d4ebff;}#sk-container-id-5 input.sk-hidden--visually {border: 0;clip: rect(1px 1px 1px 1px);clip: rect(1px, 1px, 1px, 1px);height: 1px;margin: -1px;overflow: hidden;padding: 0;position: absolute;width: 1px;}#sk-container-id-5 div.sk-estimator {font-family: monospace;background-color: #f0f8ff;border: 1px dotted black;border-radius: 0.25em;box-sizing: border-box;margin-bottom: 0.5em;}#sk-container-id-5 div.sk-estimator:hover {background-color: #d4ebff;}#sk-container-id-5 div.sk-parallel-item::after {content: \"\";width: 100%;border-bottom: 1px solid gray;flex-grow: 1;}#sk-container-id-5 div.sk-label:hover label.sk-toggleable__label {background-color: #d4ebff;}#sk-container-id-5 div.sk-serial::before {content: \"\";position: absolute;border-left: 1px solid gray;box-sizing: border-box;top: 0;bottom: 0;left: 50%;z-index: 0;}#sk-container-id-5 div.sk-serial {display: flex;flex-direction: column;align-items: center;background-color: white;padding-right: 0.2em;padding-left: 0.2em;position: relative;}#sk-container-id-5 div.sk-item {position: relative;z-index: 1;}#sk-container-id-5 div.sk-parallel {display: flex;align-items: stretch;justify-content: center;background-color: white;position: relative;}#sk-container-id-5 div.sk-item::before, #sk-container-id-5 div.sk-parallel-item::before {content: \"\";position: absolute;border-left: 1px solid gray;box-sizing: border-box;top: 0;bottom: 0;left: 50%;z-index: -1;}#sk-container-id-5 div.sk-parallel-item {display: flex;flex-direction: column;z-index: 1;position: relative;background-color: white;}#sk-container-id-5 div.sk-parallel-item:first-child::after {align-self: flex-end;width: 50%;}#sk-container-id-5 div.sk-parallel-item:last-child::after {align-self: flex-start;width: 50%;}#sk-container-id-5 div.sk-parallel-item:only-child::after {width: 0;}#sk-container-id-5 div.sk-dashed-wrapped {border: 1px dashed gray;margin: 0 0.4em 0.5em 0.4em;box-sizing: border-box;padding-bottom: 0.4em;background-color: white;}#sk-container-id-5 div.sk-label label {font-family: monospace;font-weight: bold;display: inline-block;line-height: 1.2em;}#sk-container-id-5 div.sk-label-container {text-align: center;}#sk-container-id-5 div.sk-container {/* jupyter's `normalize.less` sets `[hidden] { display: none; }` but bootstrap.min.css set `[hidden] { display: none !important; }` so we also need the `!important` here to be able to override the default hidden behavior on the sphinx rendered scikit-learn.org. See: https://github.com/scikit-learn/scikit-learn/issues/21755 */display: inline-block !important;position: relative;}#sk-container-id-5 div.sk-text-repr-fallback {display: none;}</style><div id=\"sk-container-id-5\" class=\"sk-top-container\"><div class=\"sk-text-repr-fallback\"><pre>GridSearchCV(cv=3, estimator=DecisionTreeRegressor(random_state=42), n_jobs=-1,\n",
       "             param_grid={&#x27;max_depth&#x27;: [5, 10], &#x27;min_samples_leaf&#x27;: [5, 10],\n",
       "                         &#x27;min_samples_split&#x27;: [10, 15]},\n",
       "             scoring=&#x27;neg_mean_squared_error&#x27;, verbose=2)</pre><b>In a Jupyter environment, please rerun this cell to show the HTML representation or trust the notebook. <br />On GitHub, the HTML representation is unable to render, please try loading this page with nbviewer.org.</b></div><div class=\"sk-container\" hidden><div class=\"sk-item sk-dashed-wrapped\"><div class=\"sk-label-container\"><div class=\"sk-label sk-toggleable\"><input class=\"sk-toggleable__control sk-hidden--visually\" id=\"sk-estimator-id-13\" type=\"checkbox\" ><label for=\"sk-estimator-id-13\" class=\"sk-toggleable__label sk-toggleable__label-arrow\">GridSearchCV</label><div class=\"sk-toggleable__content\"><pre>GridSearchCV(cv=3, estimator=DecisionTreeRegressor(random_state=42), n_jobs=-1,\n",
       "             param_grid={&#x27;max_depth&#x27;: [5, 10], &#x27;min_samples_leaf&#x27;: [5, 10],\n",
       "                         &#x27;min_samples_split&#x27;: [10, 15]},\n",
       "             scoring=&#x27;neg_mean_squared_error&#x27;, verbose=2)</pre></div></div></div><div class=\"sk-parallel\"><div class=\"sk-parallel-item\"><div class=\"sk-item\"><div class=\"sk-label-container\"><div class=\"sk-label sk-toggleable\"><input class=\"sk-toggleable__control sk-hidden--visually\" id=\"sk-estimator-id-14\" type=\"checkbox\" ><label for=\"sk-estimator-id-14\" class=\"sk-toggleable__label sk-toggleable__label-arrow\">estimator: DecisionTreeRegressor</label><div class=\"sk-toggleable__content\"><pre>DecisionTreeRegressor(random_state=42)</pre></div></div></div><div class=\"sk-serial\"><div class=\"sk-item\"><div class=\"sk-estimator sk-toggleable\"><input class=\"sk-toggleable__control sk-hidden--visually\" id=\"sk-estimator-id-15\" type=\"checkbox\" ><label for=\"sk-estimator-id-15\" class=\"sk-toggleable__label sk-toggleable__label-arrow\">DecisionTreeRegressor</label><div class=\"sk-toggleable__content\"><pre>DecisionTreeRegressor(random_state=42)</pre></div></div></div></div></div></div></div></div></div></div>"
      ],
      "text/plain": [
       "GridSearchCV(cv=3, estimator=DecisionTreeRegressor(random_state=42), n_jobs=-1,\n",
       "             param_grid={'max_depth': [5, 10], 'min_samples_leaf': [5, 10],\n",
       "                         'min_samples_split': [10, 15]},\n",
       "             scoring='neg_mean_squared_error', verbose=2)"
      ]
     },
     "execution_count": 98,
     "metadata": {},
     "output_type": "execute_result"
    }
   ],
   "source": [
    "grid_search.fit(X_home_lifestyle, y_home_lifestyle)"
   ]
  },
  {
   "cell_type": "code",
   "execution_count": 99,
   "metadata": {},
   "outputs": [
    {
     "data": {
      "text/plain": [
       "-726.0673858563101"
      ]
     },
     "execution_count": 99,
     "metadata": {},
     "output_type": "execute_result"
    }
   ],
   "source": [
    "grid_search.best_score_"
   ]
  },
  {
   "cell_type": "code",
   "execution_count": 100,
   "metadata": {},
   "outputs": [],
   "source": [
    "best_model_home_lifestyle = grid_search.best_estimator_"
   ]
  },
  {
   "cell_type": "markdown",
   "metadata": {
    "tags": []
   },
   "source": [
    "model training (tech)"
   ]
  },
  {
   "cell_type": "code",
   "execution_count": 102,
   "metadata": {},
   "outputs": [],
   "source": [
    "rt = DecisionTreeRegressor(random_state=42)"
   ]
  },
  {
   "cell_type": "code",
   "execution_count": 103,
   "metadata": {},
   "outputs": [],
   "source": [
    "param_grid = {\n",
    "    'max_depth': [5, 10],\n",
    "    'min_samples_split': [10, 15],\n",
    "    'min_samples_leaf': [5, 10]\n",
    "}"
   ]
  },
  {
   "cell_type": "code",
   "execution_count": 104,
   "metadata": {},
   "outputs": [],
   "source": [
    "grid_search = GridSearchCV(estimator=rt, param_grid=param_grid, cv=3, scoring='neg_mean_squared_error', verbose=2, n_jobs=-1)"
   ]
  },
  {
   "cell_type": "code",
   "execution_count": 105,
   "metadata": {},
   "outputs": [
    {
     "name": "stdout",
     "output_type": "stream",
     "text": [
      "Fitting 3 folds for each of 8 candidates, totalling 24 fits\n"
     ]
    },
    {
     "data": {
      "text/html": [
       "<style>#sk-container-id-6 {color: black;}#sk-container-id-6 pre{padding: 0;}#sk-container-id-6 div.sk-toggleable {background-color: white;}#sk-container-id-6 label.sk-toggleable__label {cursor: pointer;display: block;width: 100%;margin-bottom: 0;padding: 0.3em;box-sizing: border-box;text-align: center;}#sk-container-id-6 label.sk-toggleable__label-arrow:before {content: \"▸\";float: left;margin-right: 0.25em;color: #696969;}#sk-container-id-6 label.sk-toggleable__label-arrow:hover:before {color: black;}#sk-container-id-6 div.sk-estimator:hover label.sk-toggleable__label-arrow:before {color: black;}#sk-container-id-6 div.sk-toggleable__content {max-height: 0;max-width: 0;overflow: hidden;text-align: left;background-color: #f0f8ff;}#sk-container-id-6 div.sk-toggleable__content pre {margin: 0.2em;color: black;border-radius: 0.25em;background-color: #f0f8ff;}#sk-container-id-6 input.sk-toggleable__control:checked~div.sk-toggleable__content {max-height: 200px;max-width: 100%;overflow: auto;}#sk-container-id-6 input.sk-toggleable__control:checked~label.sk-toggleable__label-arrow:before {content: \"▾\";}#sk-container-id-6 div.sk-estimator input.sk-toggleable__control:checked~label.sk-toggleable__label {background-color: #d4ebff;}#sk-container-id-6 div.sk-label input.sk-toggleable__control:checked~label.sk-toggleable__label {background-color: #d4ebff;}#sk-container-id-6 input.sk-hidden--visually {border: 0;clip: rect(1px 1px 1px 1px);clip: rect(1px, 1px, 1px, 1px);height: 1px;margin: -1px;overflow: hidden;padding: 0;position: absolute;width: 1px;}#sk-container-id-6 div.sk-estimator {font-family: monospace;background-color: #f0f8ff;border: 1px dotted black;border-radius: 0.25em;box-sizing: border-box;margin-bottom: 0.5em;}#sk-container-id-6 div.sk-estimator:hover {background-color: #d4ebff;}#sk-container-id-6 div.sk-parallel-item::after {content: \"\";width: 100%;border-bottom: 1px solid gray;flex-grow: 1;}#sk-container-id-6 div.sk-label:hover label.sk-toggleable__label {background-color: #d4ebff;}#sk-container-id-6 div.sk-serial::before {content: \"\";position: absolute;border-left: 1px solid gray;box-sizing: border-box;top: 0;bottom: 0;left: 50%;z-index: 0;}#sk-container-id-6 div.sk-serial {display: flex;flex-direction: column;align-items: center;background-color: white;padding-right: 0.2em;padding-left: 0.2em;position: relative;}#sk-container-id-6 div.sk-item {position: relative;z-index: 1;}#sk-container-id-6 div.sk-parallel {display: flex;align-items: stretch;justify-content: center;background-color: white;position: relative;}#sk-container-id-6 div.sk-item::before, #sk-container-id-6 div.sk-parallel-item::before {content: \"\";position: absolute;border-left: 1px solid gray;box-sizing: border-box;top: 0;bottom: 0;left: 50%;z-index: -1;}#sk-container-id-6 div.sk-parallel-item {display: flex;flex-direction: column;z-index: 1;position: relative;background-color: white;}#sk-container-id-6 div.sk-parallel-item:first-child::after {align-self: flex-end;width: 50%;}#sk-container-id-6 div.sk-parallel-item:last-child::after {align-self: flex-start;width: 50%;}#sk-container-id-6 div.sk-parallel-item:only-child::after {width: 0;}#sk-container-id-6 div.sk-dashed-wrapped {border: 1px dashed gray;margin: 0 0.4em 0.5em 0.4em;box-sizing: border-box;padding-bottom: 0.4em;background-color: white;}#sk-container-id-6 div.sk-label label {font-family: monospace;font-weight: bold;display: inline-block;line-height: 1.2em;}#sk-container-id-6 div.sk-label-container {text-align: center;}#sk-container-id-6 div.sk-container {/* jupyter's `normalize.less` sets `[hidden] { display: none; }` but bootstrap.min.css set `[hidden] { display: none !important; }` so we also need the `!important` here to be able to override the default hidden behavior on the sphinx rendered scikit-learn.org. See: https://github.com/scikit-learn/scikit-learn/issues/21755 */display: inline-block !important;position: relative;}#sk-container-id-6 div.sk-text-repr-fallback {display: none;}</style><div id=\"sk-container-id-6\" class=\"sk-top-container\"><div class=\"sk-text-repr-fallback\"><pre>GridSearchCV(cv=3, estimator=DecisionTreeRegressor(random_state=42), n_jobs=-1,\n",
       "             param_grid={&#x27;max_depth&#x27;: [5, 10], &#x27;min_samples_leaf&#x27;: [5, 10],\n",
       "                         &#x27;min_samples_split&#x27;: [10, 15]},\n",
       "             scoring=&#x27;neg_mean_squared_error&#x27;, verbose=2)</pre><b>In a Jupyter environment, please rerun this cell to show the HTML representation or trust the notebook. <br />On GitHub, the HTML representation is unable to render, please try loading this page with nbviewer.org.</b></div><div class=\"sk-container\" hidden><div class=\"sk-item sk-dashed-wrapped\"><div class=\"sk-label-container\"><div class=\"sk-label sk-toggleable\"><input class=\"sk-toggleable__control sk-hidden--visually\" id=\"sk-estimator-id-16\" type=\"checkbox\" ><label for=\"sk-estimator-id-16\" class=\"sk-toggleable__label sk-toggleable__label-arrow\">GridSearchCV</label><div class=\"sk-toggleable__content\"><pre>GridSearchCV(cv=3, estimator=DecisionTreeRegressor(random_state=42), n_jobs=-1,\n",
       "             param_grid={&#x27;max_depth&#x27;: [5, 10], &#x27;min_samples_leaf&#x27;: [5, 10],\n",
       "                         &#x27;min_samples_split&#x27;: [10, 15]},\n",
       "             scoring=&#x27;neg_mean_squared_error&#x27;, verbose=2)</pre></div></div></div><div class=\"sk-parallel\"><div class=\"sk-parallel-item\"><div class=\"sk-item\"><div class=\"sk-label-container\"><div class=\"sk-label sk-toggleable\"><input class=\"sk-toggleable__control sk-hidden--visually\" id=\"sk-estimator-id-17\" type=\"checkbox\" ><label for=\"sk-estimator-id-17\" class=\"sk-toggleable__label sk-toggleable__label-arrow\">estimator: DecisionTreeRegressor</label><div class=\"sk-toggleable__content\"><pre>DecisionTreeRegressor(random_state=42)</pre></div></div></div><div class=\"sk-serial\"><div class=\"sk-item\"><div class=\"sk-estimator sk-toggleable\"><input class=\"sk-toggleable__control sk-hidden--visually\" id=\"sk-estimator-id-18\" type=\"checkbox\" ><label for=\"sk-estimator-id-18\" class=\"sk-toggleable__label sk-toggleable__label-arrow\">DecisionTreeRegressor</label><div class=\"sk-toggleable__content\"><pre>DecisionTreeRegressor(random_state=42)</pre></div></div></div></div></div></div></div></div></div></div>"
      ],
      "text/plain": [
       "GridSearchCV(cv=3, estimator=DecisionTreeRegressor(random_state=42), n_jobs=-1,\n",
       "             param_grid={'max_depth': [5, 10], 'min_samples_leaf': [5, 10],\n",
       "                         'min_samples_split': [10, 15]},\n",
       "             scoring='neg_mean_squared_error', verbose=2)"
      ]
     },
     "execution_count": 105,
     "metadata": {},
     "output_type": "execute_result"
    }
   ],
   "source": [
    "grid_search.fit(X_tech, y_tech)"
   ]
  },
  {
   "cell_type": "code",
   "execution_count": 106,
   "metadata": {},
   "outputs": [
    {
     "data": {
      "text/plain": [
       "-74.98847997707055"
      ]
     },
     "execution_count": 106,
     "metadata": {},
     "output_type": "execute_result"
    }
   ],
   "source": [
    "grid_search.best_score_"
   ]
  },
  {
   "cell_type": "code",
   "execution_count": 107,
   "metadata": {},
   "outputs": [],
   "source": [
    "best_model_tech = grid_search.best_estimator_"
   ]
  },
  {
   "cell_type": "markdown",
   "metadata": {},
   "source": [
    "dict all model"
   ]
  },
  {
   "cell_type": "code",
   "execution_count": 134,
   "metadata": {
    "tags": []
   },
   "outputs": [],
   "source": [
    "model_dict = {\n",
    "    'Arts and Leisure': best_model_art_leisure,\n",
    "    'Education and Office': best_model_education_office,\n",
    "    'Fashion and Travel': best_model_fashion_travel,\n",
    "    'Health and Wellness': best_model_health_wellness,\n",
    "    'Home and Lifestyle': best_model_home_lifestyle,\n",
    "    'Technology and More': best_model_tech,\n",
    "}"
   ]
  },
  {
   "cell_type": "markdown",
   "metadata": {},
   "source": [
    "# 7. Optimize"
   ]
  },
  {
   "cell_type": "code",
   "execution_count": 109,
   "metadata": {},
   "outputs": [],
   "source": [
    "final = pd.DataFrame()"
   ]
  },
  {
   "cell_type": "code",
   "execution_count": 111,
   "metadata": {
    "tags": []
   },
   "outputs": [
    {
     "data": {
      "text/html": [
       "<div>\n",
       "<style scoped>\n",
       "    .dataframe tbody tr th:only-of-type {\n",
       "        vertical-align: middle;\n",
       "    }\n",
       "\n",
       "    .dataframe tbody tr th {\n",
       "        vertical-align: top;\n",
       "    }\n",
       "\n",
       "    .dataframe thead th {\n",
       "        text-align: right;\n",
       "    }\n",
       "</style>\n",
       "<table border=\"1\" class=\"dataframe\">\n",
       "  <thead>\n",
       "    <tr style=\"text-align: right;\">\n",
       "      <th></th>\n",
       "      <th>StockCode</th>\n",
       "      <th>Category</th>\n",
       "      <th>Description</th>\n",
       "      <th>yyyymmdd</th>\n",
       "      <th>Quantity</th>\n",
       "      <th>Price</th>\n",
       "      <th>Cost_price</th>\n",
       "      <th>dayofweek</th>\n",
       "      <th>dayofmonth</th>\n",
       "      <th>dayofyear</th>\n",
       "      <th>...</th>\n",
       "      <th>weekday_weekend</th>\n",
       "      <th>weekofyear</th>\n",
       "      <th>weekofmonth</th>\n",
       "      <th>month</th>\n",
       "      <th>quarter</th>\n",
       "      <th>days_in_month</th>\n",
       "      <th>year</th>\n",
       "      <th>change_qty</th>\n",
       "      <th>change_price</th>\n",
       "      <th>row_number</th>\n",
       "    </tr>\n",
       "  </thead>\n",
       "  <tbody>\n",
       "    <tr>\n",
       "      <th>0</th>\n",
       "      <td>35962</td>\n",
       "      <td>Arts and Leisure</td>\n",
       "      <td>12 ASS ZINC CHRISTMAS DECORATIONS</td>\n",
       "      <td>20101020</td>\n",
       "      <td>11</td>\n",
       "      <td>2.1</td>\n",
       "      <td>1.747029</td>\n",
       "      <td>2</td>\n",
       "      <td>20</td>\n",
       "      <td>293</td>\n",
       "      <td>...</td>\n",
       "      <td>1</td>\n",
       "      <td>42</td>\n",
       "      <td>3</td>\n",
       "      <td>10</td>\n",
       "      <td>4</td>\n",
       "      <td>31</td>\n",
       "      <td>-9</td>\n",
       "      <td>1.2</td>\n",
       "      <td>0.0</td>\n",
       "      <td>1</td>\n",
       "    </tr>\n",
       "  </tbody>\n",
       "</table>\n",
       "<p>1 rows × 21 columns</p>\n",
       "</div>"
      ],
      "text/plain": [
       "  StockCode          Category                        Description  yyyymmdd  \\\n",
       "0     35962  Arts and Leisure  12 ASS ZINC CHRISTMAS DECORATIONS  20101020   \n",
       "\n",
       "   Quantity  Price  Cost_price  dayofweek  dayofmonth  dayofyear  ...  \\\n",
       "0        11    2.1    1.747029          2          20        293  ...   \n",
       "\n",
       "   weekday_weekend  weekofyear  weekofmonth  month  quarter  days_in_month  \\\n",
       "0                1          42            3     10        4             31   \n",
       "\n",
       "   year  change_qty  change_price  row_number  \n",
       "0    -9         1.2           0.0           1  \n",
       "\n",
       "[1 rows x 21 columns]"
      ]
     },
     "execution_count": 111,
     "metadata": {},
     "output_type": "execute_result"
    }
   ],
   "source": [
    "df_lastest[:1]"
   ]
  },
  {
   "cell_type": "code",
   "execution_count": 158,
   "metadata": {
    "tags": []
   },
   "outputs": [
    {
     "data": {
      "text/html": [
       "<div>\n",
       "<style scoped>\n",
       "    .dataframe tbody tr th:only-of-type {\n",
       "        vertical-align: middle;\n",
       "    }\n",
       "\n",
       "    .dataframe tbody tr th {\n",
       "        vertical-align: top;\n",
       "    }\n",
       "\n",
       "    .dataframe thead th {\n",
       "        text-align: right;\n",
       "    }\n",
       "</style>\n",
       "<table border=\"1\" class=\"dataframe\">\n",
       "  <thead>\n",
       "    <tr style=\"text-align: right;\">\n",
       "      <th></th>\n",
       "      <th>dayofweek</th>\n",
       "      <th>dayofmonth</th>\n",
       "      <th>dayofyear</th>\n",
       "      <th>is_weekend</th>\n",
       "      <th>weekday_weekend</th>\n",
       "      <th>weekofyear</th>\n",
       "      <th>weekofmonth</th>\n",
       "      <th>month</th>\n",
       "      <th>quarter</th>\n",
       "      <th>days_in_month</th>\n",
       "      <th>year</th>\n",
       "    </tr>\n",
       "  </thead>\n",
       "  <tbody>\n",
       "    <tr>\n",
       "      <th>1</th>\n",
       "      <td>3</td>\n",
       "      <td>9</td>\n",
       "      <td>343</td>\n",
       "      <td>0</td>\n",
       "      <td>1</td>\n",
       "      <td>49</td>\n",
       "      <td>2</td>\n",
       "      <td>12</td>\n",
       "      <td>4</td>\n",
       "      <td>31</td>\n",
       "      <td>-9</td>\n",
       "    </tr>\n",
       "  </tbody>\n",
       "</table>\n",
       "</div>"
      ],
      "text/plain": [
       "   dayofweek  dayofmonth  dayofyear  is_weekend  weekday_weekend  weekofyear  \\\n",
       "1          3           9        343           0                1          49   \n",
       "\n",
       "   weekofmonth  month  quarter  days_in_month  year  \n",
       "1            2     12        4             31    -9  "
      ]
     },
     "execution_count": 158,
     "metadata": {},
     "output_type": "execute_result"
    }
   ],
   "source": [
    "df_lastest[1:2][['dayofweek','dayofmonth','dayofyear','is_weekend',\n",
    "                'weekday_weekend','weekofyear','weekofmonth','month',\n",
    "                'quarter','days_in_month','year']]"
   ]
  },
  {
   "cell_type": "code",
   "execution_count": 170,
   "metadata": {
    "tags": []
   },
   "outputs": [
    {
     "data": {
      "text/html": [
       "<div>\n",
       "<style scoped>\n",
       "    .dataframe tbody tr th:only-of-type {\n",
       "        vertical-align: middle;\n",
       "    }\n",
       "\n",
       "    .dataframe tbody tr th {\n",
       "        vertical-align: top;\n",
       "    }\n",
       "\n",
       "    .dataframe thead th {\n",
       "        text-align: right;\n",
       "    }\n",
       "</style>\n",
       "<table border=\"1\" class=\"dataframe\">\n",
       "  <thead>\n",
       "    <tr style=\"text-align: right;\">\n",
       "      <th></th>\n",
       "      <th>StockCode</th>\n",
       "      <th>Category</th>\n",
       "      <th>Description</th>\n",
       "      <th>yyyymmdd</th>\n",
       "    </tr>\n",
       "  </thead>\n",
       "  <tbody>\n",
       "    <tr>\n",
       "      <th>4</th>\n",
       "      <td>21458</td>\n",
       "      <td>Arts and Leisure</td>\n",
       "      <td>2 PICTURE BOOK EGGS EASTER BUNNY</td>\n",
       "      <td>20100827</td>\n",
       "    </tr>\n",
       "  </tbody>\n",
       "</table>\n",
       "</div>"
      ],
      "text/plain": [
       "  StockCode          Category                       Description  yyyymmdd\n",
       "4     21458  Arts and Leisure  2 PICTURE BOOK EGGS EASTER BUNNY  20100827"
      ]
     },
     "execution_count": 170,
     "metadata": {},
     "output_type": "execute_result"
    }
   ],
   "source": [
    "df_lastest[4:5][['StockCode','Category','Description','yyyymmdd']]"
   ]
  },
  {
   "cell_type": "markdown",
   "metadata": {},
   "source": [
    "optimize"
   ]
  },
  {
   "cell_type": "code",
   "execution_count": 184,
   "metadata": {
    "tags": []
   },
   "outputs": [
    {
     "name": "stdout",
     "output_type": "stream",
     "text": [
      "   dayofweek  dayofmonth  dayofyear  is_weekend  weekday_weekend  weekofyear  \\\n",
      "0          2          20        293           0                1          42   \n",
      "\n",
      "   weekofmonth  month  quarter  days_in_month  year  change_price  change_qty  \\\n",
      "0            3     10        4             31    -9          -0.1   17.617462   \n",
      "\n",
      "   price_new    qty_new  additional_profit  \n",
      "0       1.89  204.79208          29.279287  \n",
      "-------------\n",
      "   dayofweek  dayofmonth  dayofyear  is_weekend  weekday_weekend  weekofyear  \\\n",
      "1          3           9        343           0                1          49   \n",
      "\n",
      "   weekofmonth  month  quarter  days_in_month  year  change_price  change_qty  \\\n",
      "1            2     12        4             31    -9          -0.1   17.617462   \n",
      "\n",
      "   price_new     qty_new  additional_profit  \n",
      "1      0.585  372.349237          95.307746  \n",
      "-------------\n",
      "   dayofweek  dayofmonth  dayofyear  is_weekend  weekday_weekend  weekofyear  \\\n",
      "2          3           1        182           0                1          26   \n",
      "\n",
      "   weekofmonth  month  quarter  days_in_month  year  change_price  change_qty  \\\n",
      "2            1      7        3             31    -9          -0.1   17.617462   \n",
      "\n",
      "   price_new     qty_new  additional_profit  \n",
      "2      1.125  242.027004          36.525722  \n",
      "-------------\n",
      "   dayofweek  dayofmonth  dayofyear  is_weekend  weekday_weekend  weekofyear  \\\n",
      "3          1           6         96           0                1          14   \n",
      "\n",
      "   weekofmonth  month  quarter  days_in_month  year  change_price  change_qty  \\\n",
      "3            1      4        2             30    -9          -0.1   24.821768   \n",
      "\n",
      "   price_new    qty_new  additional_profit  \n",
      "3      2.655  25.821768           27.88055  \n",
      "-------------\n",
      "   dayofweek  dayofmonth  dayofyear  is_weekend  weekday_weekend  weekofyear  \\\n",
      "4          4          27        239           0                1          34   \n",
      "\n",
      "   weekofmonth  month  quarter  days_in_month  year  change_price  change_qty  \\\n",
      "4            4      8        3             31    -9          -0.1   17.617462   \n",
      "\n",
      "   price_new     qty_new  additional_profit  \n",
      "4      1.125  223.409542          83.872066  \n",
      "-------------\n",
      "   dayofweek  dayofmonth  dayofyear  is_weekend  weekday_weekend  weekofyear  \\\n",
      "5          4          27        239           0                1          34   \n",
      "\n",
      "   weekofmonth  month  quarter  days_in_month  year  change_price  change_qty  \\\n",
      "5            4      8        3             31    -9          -0.1   17.617462   \n",
      "\n",
      "   price_new     qty_new  additional_profit  \n",
      "5      1.125  223.409542         109.263224  \n",
      "-------------\n",
      "   dayofweek  dayofmonth  dayofyear  is_weekend  weekday_weekend  weekofyear  \\\n",
      "6          4          27        239           0                1          34   \n",
      "\n",
      "   weekofmonth  month  quarter  days_in_month  year  change_price  change_qty  \\\n",
      "6            4      8        3             31    -9          -0.1   17.617462   \n",
      "\n",
      "   price_new     qty_new  additional_profit  \n",
      "6      1.125  223.409542          82.446218  \n",
      "-------------\n",
      "   dayofweek  dayofmonth  dayofyear  is_weekend  weekday_weekend  weekofyear  \\\n",
      "7          6           5        339           1                0          48   \n",
      "\n",
      "   weekofmonth  month  quarter  days_in_month  year  change_price  change_qty  \\\n",
      "7            1     12        4             31    -9          -0.1   17.617462   \n",
      "\n",
      "   price_new    qty_new  additional_profit  \n",
      "7      1.125  18.617462           7.266837  \n",
      "-------------\n",
      "   dayofweek  dayofmonth  dayofyear  is_weekend  weekday_weekend  weekofyear  \\\n",
      "8          2          24        328           0                1          47   \n",
      "\n",
      "   weekofmonth  month  quarter  days_in_month  year  change_price  change_qty  \\\n",
      "8            4     11        4             30    -9           1.0   -0.599309   \n",
      "\n",
      "   price_new   qty_new  additional_profit  \n",
      "8        3.3  3.205529           5.517398  \n",
      "-------------\n",
      "   dayofweek  dayofmonth  dayofyear  is_weekend  weekday_weekend  weekofyear  \\\n",
      "9          3           9        343           0                1          49   \n",
      "\n",
      "   weekofmonth  month  quarter  days_in_month  year  change_price  change_qty  \\\n",
      "9            2     12        4             31    -9          -0.1   17.617462   \n",
      "\n",
      "   price_new     qty_new  additional_profit  \n",
      "9      1.755  558.523856         290.974714  \n",
      "-------------\n",
      "    dayofweek  dayofmonth  dayofyear  is_weekend  weekday_weekend  weekofyear  \\\n",
      "10          6           5        339           1                0          48   \n",
      "\n",
      "    weekofmonth  month  quarter  days_in_month  year  change_price  \\\n",
      "10            1     12        4             31    -9          -0.1   \n",
      "\n",
      "    change_qty  price_new    qty_new  additional_profit  \n",
      "10   17.617462      1.305  55.852386           8.822237  \n",
      "-------------\n",
      "    dayofweek  dayofmonth  dayofyear  is_weekend  weekday_weekend  weekofyear  \\\n",
      "11          3           9        343           0                1          49   \n",
      "\n",
      "    weekofmonth  month  quarter  days_in_month  year  change_price  \\\n",
      "11            2     12        4             31    -9           1.0   \n",
      "\n",
      "    change_qty  price_new   qty_new  additional_profit  \n",
      "11   -0.599309        2.9  0.400691           0.606695  \n",
      "-------------\n",
      "    dayofweek  dayofmonth  dayofyear  is_weekend  weekday_weekend  weekofyear  \\\n",
      "12          0          15        319           0                1          46   \n",
      "\n",
      "    weekofmonth  month  quarter  days_in_month  year  change_price  \\\n",
      "12            3     11        4             30    -9          -0.1   \n",
      "\n",
      "    change_qty  price_new     qty_new  additional_profit  \n",
      "12   24.821768      1.305  129.108839           33.85703  \n",
      "-------------\n",
      "    dayofweek  dayofmonth  dayofyear  is_weekend  weekday_weekend  weekofyear  \\\n",
      "13          3           9        343           0                1          49   \n",
      "\n",
      "    weekofmonth  month  quarter  days_in_month  year  change_price  \\\n",
      "13            2     12        4             31    -9          -0.1   \n",
      "\n",
      "    change_qty  price_new     qty_new  additional_profit  \n",
      "13   17.617462      1.125  223.409542          60.794772  \n",
      "-------------\n",
      "    dayofweek  dayofmonth  dayofyear  is_weekend  weekday_weekend  weekofyear  \\\n",
      "14          2           8        342           0                1          49   \n",
      "\n",
      "    weekofmonth  month  quarter  days_in_month  year  change_price  \\\n",
      "14            2     12        4             31    -9          -0.1   \n",
      "\n",
      "    change_qty  price_new     qty_new  additional_profit  \n",
      "14   17.617462      2.655  242.027004          65.981596  \n",
      "-------------\n",
      "    dayofweek  dayofmonth  dayofyear  is_weekend  weekday_weekend  weekofyear  \\\n",
      "15          1          30        334           0                1          48   \n",
      "\n",
      "    weekofmonth  month  quarter  days_in_month  year  change_price  \\\n",
      "15            5     11        4             30    -9          -0.1   \n",
      "\n",
      "    change_qty  price_new     qty_new  additional_profit  \n",
      "15   24.821768      2.415  929.583639         264.783165  \n",
      "-------------\n",
      "    dayofweek  dayofmonth  dayofyear  is_weekend  weekday_weekend  weekofyear  \\\n",
      "16          3           9        343           0                1          49   \n",
      "\n",
      "    weekofmonth  month  quarter  days_in_month  year  change_price  \\\n",
      "16            2     12        4             31    -9          -0.1   \n",
      "\n",
      "    change_qty  price_new     qty_new  additional_profit  \n",
      "16   17.617462      0.765  223.409542          24.240358  \n",
      "-------------\n",
      "    dayofweek  dayofmonth  dayofyear  is_weekend  weekday_weekend  weekofyear  \\\n",
      "17          3           9        343           0                1          49   \n",
      "\n",
      "    weekofmonth  month  quarter  days_in_month  year  change_price  \\\n",
      "17            2     12        4             31    -9          -0.1   \n",
      "\n",
      "    change_qty  price_new    qty_new  additional_profit  \n",
      "17   17.617462      0.765  93.087309           5.612804  \n",
      "-------------\n",
      "    dayofweek  dayofmonth  dayofyear  is_weekend  weekday_weekend  weekofyear  \\\n",
      "18          0          15        319           0                1          46   \n",
      "\n",
      "    weekofmonth  month  quarter  days_in_month  year  change_price  \\\n",
      "18            3     11        4             30    -9          -0.1   \n",
      "\n",
      "    change_qty  price_new    qty_new  additional_profit  \n",
      "18   24.821768      0.765  464.79182          59.511456  \n",
      "-------------\n",
      "    dayofweek  dayofmonth  dayofyear  is_weekend  weekday_weekend  weekofyear  \\\n",
      "19          1           7        341           0                1          49   \n",
      "\n",
      "    weekofmonth  month  quarter  days_in_month  year  change_price  \\\n",
      "19            1     12        4             31    -9          -0.1   \n",
      "\n",
      "    change_qty  price_new    qty_new  additional_profit  \n",
      "19   17.617462      1.125  74.469847          26.950937  \n",
      "-------------\n",
      "    dayofweek  dayofmonth  dayofyear  is_weekend  weekday_weekend  weekofyear  \\\n",
      "20          3           9        343           0                1          49   \n",
      "\n",
      "    weekofmonth  month  quarter  days_in_month  year  change_price  \\\n",
      "20            2     12        4             31    -9          -0.1   \n",
      "\n",
      "    change_qty  price_new     qty_new  additional_profit  \n",
      "20   17.617462      1.125  372.349237          49.582149  \n",
      "-------------\n",
      "    dayofweek  dayofmonth  dayofyear  is_weekend  weekday_weekend  weekofyear  \\\n",
      "21          3           9        343           0                1          49   \n",
      "\n",
      "    weekofmonth  month  quarter  days_in_month  year  change_price  \\\n",
      "21            2     12        4             31    -9          -0.1   \n",
      "\n",
      "    change_qty  price_new    qty_new  additional_profit  \n",
      "21   17.617462      1.125  707.46355         127.599953  \n",
      "-------------\n",
      "    dayofweek  dayofmonth  dayofyear  is_weekend  weekday_weekend  weekofyear  \\\n",
      "22          3           8         98           0                1          14   \n",
      "\n",
      "    weekofmonth  month  quarter  days_in_month  year  change_price  \\\n",
      "22            2      4        2             30    -9           1.0   \n",
      "\n",
      "    change_qty  price_new   qty_new  additional_profit  \n",
      "22   -0.599309       2.12  4.006911           4.580262  \n",
      "-------------\n",
      "    dayofweek  dayofmonth  dayofyear  is_weekend  weekday_weekend  weekofyear  \\\n",
      "23          1          23         82           0                1          12   \n",
      "\n",
      "    weekofmonth  month  quarter  days_in_month  year  change_price  \\\n",
      "23            4      3        1             31    -9           1.0   \n",
      "\n",
      "    change_qty  price_new   qty_new  additional_profit  \n",
      "23   -0.599309        1.7  2.003456           1.812324  \n",
      "-------------\n",
      "    dayofweek  dayofmonth  dayofyear  is_weekend  weekday_weekend  weekofyear  \\\n",
      "24          3           9        343           0                1          49   \n",
      "\n",
      "    weekofmonth  month  quarter  days_in_month  year  change_price  \\\n",
      "24            2     12        4             31    -9          -0.1   \n",
      "\n",
      "    change_qty  price_new     qty_new  additional_profit  \n",
      "24   17.617462      1.485  148.939695           22.12649  \n",
      "-------------\n",
      "    dayofweek  dayofmonth  dayofyear  is_weekend  weekday_weekend  weekofyear  \\\n",
      "25          0           6        340           0                1          49   \n",
      "\n",
      "    weekofmonth  month  quarter  days_in_month  year  change_price  \\\n",
      "25            1     12        4             31    -9          -0.1   \n",
      "\n",
      "    change_qty  price_new     qty_new  additional_profit  \n",
      "25   17.617462      1.485  260.644466          22.803899  \n",
      "-------------\n",
      "    dayofweek  dayofmonth  dayofyear  is_weekend  weekday_weekend  weekofyear  \\\n",
      "26          3           9        343           0                1          49   \n",
      "\n",
      "    weekofmonth  month  quarter  days_in_month  year  change_price  \\\n",
      "26            2     12        4             31    -9          -0.1   \n",
      "\n",
      "    change_qty  price_new     qty_new  additional_profit  \n",
      "26   17.617462      1.485  335.114313         138.546886  \n",
      "-------------\n",
      "    dayofweek  dayofmonth  dayofyear  is_weekend  weekday_weekend  weekofyear  \\\n",
      "27          2           8        342           0                1          49   \n",
      "\n",
      "    weekofmonth  month  quarter  days_in_month  year  change_price  \\\n",
      "27            2     12        4             31    -9           1.0   \n",
      "\n",
      "    change_qty  price_new   qty_new  additional_profit  \n",
      "27   -0.599309        3.3  0.400691           0.727508  \n",
      "-------------\n",
      "    dayofweek  dayofmonth  dayofyear  is_weekend  weekday_weekend  weekofyear  \\\n",
      "28          3           9        343           0                1          49   \n",
      "\n",
      "    weekofmonth  month  quarter  days_in_month  year  change_price  \\\n",
      "28            2     12        4             31    -9          -0.1   \n",
      "\n",
      "    change_qty  price_new     qty_new  additional_profit  \n",
      "28   17.617462      0.585  465.436546          56.703243  \n",
      "-------------\n",
      "    dayofweek  dayofmonth  dayofyear  is_weekend  weekday_weekend  weekofyear  \\\n",
      "29          3           9        343           0                1          49   \n",
      "\n",
      "    weekofmonth  month  quarter  days_in_month  year  change_price  \\\n",
      "29            2     12        4             31    -9          -0.1   \n",
      "\n",
      "    change_qty  price_new      qty_new  additional_profit  \n",
      "29   17.617462    0.46575  3164.968515         345.924829  \n",
      "-------------\n",
      "    dayofweek  dayofmonth  dayofyear  is_weekend  weekday_weekend  weekofyear  \\\n",
      "30          3           9        343           0                1          49   \n",
      "\n",
      "    weekofmonth  month  quarter  days_in_month  year  change_price  \\\n",
      "30            2     12        4             31    -9          -0.1   \n",
      "\n",
      "    change_qty  price_new      qty_new  additional_profit  \n",
      "30   17.617462      0.495  1452.162025         145.366277  \n",
      "-------------\n",
      "    dayofweek  dayofmonth  dayofyear  is_weekend  weekday_weekend  weekofyear  \\\n",
      "31          6           7         38           1                0           5   \n",
      "\n",
      "    weekofmonth  month  quarter  days_in_month  year  change_price  \\\n",
      "31            1      2        1             28    -9          -0.1   \n",
      "\n",
      "    change_qty  price_new    qty_new  additional_profit  \n",
      "31   24.821768      1.305  25.821768           9.410394  \n",
      "-------------\n",
      "    dayofweek  dayofmonth  dayofyear  is_weekend  weekday_weekend  weekofyear  \\\n",
      "32          2          27         27           0                1           4   \n",
      "\n",
      "    weekofmonth  month  quarter  days_in_month  year  change_price  \\\n",
      "32            4      1        1             31    -9          -0.1   \n",
      "\n",
      "    change_qty  price_new      qty_new  additional_profit  \n",
      "32   17.617462      0.342  4263.398764         362.859813  \n",
      "-------------\n",
      "    dayofweek  dayofmonth  dayofyear  is_weekend  weekday_weekend  weekofyear  \\\n",
      "33          2          27         27           0                1           4   \n",
      "\n",
      "    weekofmonth  month  quarter  days_in_month  year  change_price  \\\n",
      "33            4      1        1             31    -9          -0.1   \n",
      "\n",
      "    change_qty  price_new      qty_new  additional_profit  \n",
      "33   17.617462      0.342  2122.390651         135.729168  \n",
      "-------------\n",
      "    dayofweek  dayofmonth  dayofyear  is_weekend  weekday_weekend  weekofyear  \\\n",
      "34          3          15        196           0                1          28   \n",
      "\n",
      "    weekofmonth  month  quarter  days_in_month  year  change_price  \\\n",
      "34            3      7        3             31    -9          -0.1   \n",
      "\n",
      "    change_qty  price_new    qty_new  additional_profit  \n",
      "34   17.617462      2.655  18.617462          15.307743  \n",
      "-------------\n",
      "    dayofweek  dayofmonth  dayofyear  is_weekend  weekday_weekend  weekofyear  \\\n",
      "35          4          14        134           0                1          19   \n",
      "\n",
      "    weekofmonth  month  quarter  days_in_month  year  change_price  \\\n",
      "35            2      5        2             31    -9          -0.1   \n",
      "\n",
      "    change_qty  price_new      qty_new  additional_profit  \n",
      "35   17.617462      0.342  2531.974812         357.943154  \n",
      "-------------\n",
      "    dayofweek  dayofmonth  dayofyear  is_weekend  weekday_weekend  weekofyear  \\\n",
      "36          3          21        294           0                1          42   \n",
      "\n",
      "    weekofmonth  month  quarter  days_in_month  year  change_price  \\\n",
      "36            3     10        4             31    -9          -0.1   \n",
      "\n",
      "    change_qty  price_new     qty_new  additional_profit  \n",
      "36   17.617462      1.125  223.409542          65.741198  \n",
      "-------------\n",
      "    dayofweek  dayofmonth  dayofyear  is_weekend  weekday_weekend  weekofyear  \\\n",
      "37          2          24        328           0                1          47   \n",
      "\n",
      "    weekofmonth  month  quarter  days_in_month  year  change_price  \\\n",
      "37            4     11        4             30    -9          -0.1   \n",
      "\n",
      "    change_qty  price_new      qty_new  additional_profit  \n",
      "37   24.821768      0.342  1859.167279           153.7578  \n",
      "-------------\n",
      "    dayofweek  dayofmonth  dayofyear  is_weekend  weekday_weekend  weekofyear  \\\n",
      "38          0          18        291           0                1          42   \n",
      "\n",
      "    weekofmonth  month  quarter  days_in_month  year  change_price  \\\n",
      "38            3     10        4             31    -9          -0.1   \n",
      "\n",
      "    change_qty  price_new      qty_new  additional_profit  \n",
      "38   17.617462      0.342  1340.457253         140.584171  \n",
      "-------------\n",
      "    dayofweek  dayofmonth  dayofyear  is_weekend  weekday_weekend  weekofyear  \\\n",
      "39          6          28        332           1                0          47   \n",
      "\n",
      "    weekofmonth  month  quarter  days_in_month  year  change_price  \\\n",
      "39            4     11        4             30    -9          -0.1   \n",
      "\n",
      "    change_qty  price_new    qty_new  additional_profit  \n",
      "39   24.821768       1.89  25.821768            5.46563  \n",
      "-------------\n",
      "    dayofweek  dayofmonth  dayofyear  is_weekend  weekday_weekend  weekofyear  \\\n",
      "40          4          14        134           0                1          19   \n",
      "\n",
      "    weekofmonth  month  quarter  days_in_month  year  change_price  \\\n",
      "40            2      5        2             31    -9          -0.1   \n",
      "\n",
      "    change_qty  price_new      qty_new  additional_profit  \n",
      "40   17.617462      0.342  2625.062121         188.113523  \n",
      "-------------\n",
      "    dayofweek  dayofmonth  dayofyear  is_weekend  weekday_weekend  weekofyear  \\\n",
      "41          1          16        320           0                1          46   \n",
      "\n",
      "    weekofmonth  month  quarter  days_in_month  year  change_price  \\\n",
      "41            3     11        4             30    -9          -0.1   \n",
      "\n",
      "    change_qty  price_new     qty_new  additional_profit  \n",
      "41   24.821768      2.295  154.930607          87.992132  \n",
      "-------------\n",
      "    dayofweek  dayofmonth  dayofyear  is_weekend  weekday_weekend  weekofyear  \\\n",
      "42          3           9        343           0                1          49   \n",
      "\n",
      "    weekofmonth  month  quarter  days_in_month  year  change_price  \\\n",
      "42            2     12        4             31    -9          -0.1   \n",
      "\n",
      "    change_qty  price_new    qty_new  additional_profit  \n",
      "42   17.617462      5.355  18.617462           7.708081  \n",
      "-------------\n",
      "    dayofweek  dayofmonth  dayofyear  is_weekend  weekday_weekend  weekofyear  \\\n",
      "43          3           9        343           0                1          49   \n",
      "\n",
      "    weekofmonth  month  quarter  days_in_month  year  change_price  \\\n",
      "43            2     12        4             31    -9          -0.1   \n",
      "\n",
      "    change_qty  price_new    qty_new  additional_profit  \n",
      "43   17.617462      1.125  18.617462           0.834973  \n",
      "-------------\n",
      "    dayofweek  dayofmonth  dayofyear  is_weekend  weekday_weekend  weekofyear  \\\n",
      "44          3           9        343           0                1          49   \n",
      "\n",
      "    weekofmonth  month  quarter  days_in_month  year  change_price  \\\n",
      "44            2     12        4             31    -9          -0.1   \n",
      "\n",
      "    change_qty  price_new      qty_new  additional_profit  \n",
      "44   17.617462       0.36  9048.086461         833.745155  \n",
      "-------------\n",
      "    dayofweek  dayofmonth  dayofyear  is_weekend  weekday_weekend  weekofyear  \\\n",
      "45          6           5        339           1                0          48   \n",
      "\n",
      "    weekofmonth  month  quarter  days_in_month  year  change_price  \\\n",
      "45            1     12        4             31    -9          -0.1   \n",
      "\n",
      "    change_qty  price_new     qty_new  additional_profit  \n",
      "45   17.617462      0.585  446.819084           99.73968  \n",
      "-------------\n",
      "    dayofweek  dayofmonth  dayofyear  is_weekend  weekday_weekend  weekofyear  \\\n",
      "46          2           8        342           0                1          49   \n",
      "\n",
      "    weekofmonth  month  quarter  days_in_month  year  change_price  \\\n",
      "46            2     12        4             31    -9           1.0   \n",
      "\n",
      "    change_qty  price_new   qty_new  additional_profit  \n",
      "46   -0.599309        1.7  1.202073           1.086882  \n",
      "-------------\n",
      "    dayofweek  dayofmonth  dayofyear  is_weekend  weekday_weekend  weekofyear  \\\n",
      "47          0           6        340           0                1          49   \n",
      "\n",
      "    weekofmonth  month  quarter  days_in_month  year  change_price  \\\n",
      "47            1     12        4             31    -9          -0.1   \n",
      "\n",
      "    change_qty  price_new     qty_new  additional_profit  \n",
      "47   17.617462      0.189  763.315936          57.672698  \n",
      "-------------\n",
      "    dayofweek  dayofmonth  dayofyear  is_weekend  weekday_weekend  weekofyear  \\\n",
      "48          3           9        343           0                1          49   \n",
      "\n",
      "    weekofmonth  month  quarter  days_in_month  year  change_price  \\\n",
      "48            2     12        4             31    -9          -0.1   \n",
      "\n",
      "    change_qty  price_new     qty_new  additional_profit  \n",
      "48   17.617462      1.755  446.819084         100.073432  \n",
      "-------------\n",
      "    dayofweek  dayofmonth  dayofyear  is_weekend  weekday_weekend  weekofyear  \\\n",
      "49          3           9        343           0                1          49   \n",
      "\n",
      "    weekofmonth  month  quarter  days_in_month  year  change_price  \\\n",
      "49            2     12        4             31    -9          -0.1   \n",
      "\n",
      "    change_qty  price_new    qty_new  additional_profit  \n",
      "49   17.617462      3.375  74.469847          69.205224  \n",
      "-------------\n",
      "    dayofweek  dayofmonth  dayofyear  is_weekend  weekday_weekend  weekofyear  \\\n",
      "50          0          29        333           0                1          48   \n",
      "\n",
      "    weekofmonth  month  quarter  days_in_month  year  change_price  \\\n",
      "50            5     11        4             30    -9           1.0   \n",
      "\n",
      "    change_qty  price_new  qty_new  additional_profit  \n",
      "50   -0.599309        1.3  3.60622           2.416565  \n",
      "-------------\n",
      "    dayofweek  dayofmonth  dayofyear  is_weekend  weekday_weekend  weekofyear  \\\n",
      "51          0           6        340           0                1          49   \n",
      "\n",
      "    weekofmonth  month  quarter  days_in_month  year  change_price  \\\n",
      "51            1     12        4             31    -9          -0.1   \n",
      "\n",
      "    change_qty  price_new    qty_new  additional_profit  \n",
      "51   17.617462      2.655  18.617462           5.988605  \n",
      "-------------\n",
      "    dayofweek  dayofmonth  dayofyear  is_weekend  weekday_weekend  weekofyear  \\\n",
      "52          3           9        343           0                1          49   \n",
      "\n",
      "    weekofmonth  month  quarter  days_in_month  year  change_price  \\\n",
      "52            2     12        4             31    -9          -0.1   \n",
      "\n",
      "    change_qty  price_new    qty_new  additional_profit  \n",
      "52   17.617462      0.378  93.087309            4.25542  \n",
      "-------------\n",
      "    dayofweek  dayofmonth  dayofyear  is_weekend  weekday_weekend  weekofyear  \\\n",
      "53          6           5        339           1                0          48   \n",
      "\n",
      "    weekofmonth  month  quarter  days_in_month  year  change_price  \\\n",
      "53            1     12        4             31    -9          -0.1   \n",
      "\n",
      "    change_qty  price_new      qty_new  additional_profit  \n",
      "53   17.617462      0.585  1191.517559         149.418255  \n",
      "-------------\n",
      "    dayofweek  dayofmonth  dayofyear  is_weekend  weekday_weekend  weekofyear  \\\n",
      "54          0          13        256           0                1          37   \n",
      "\n",
      "    weekofmonth  month  quarter  days_in_month  year  change_price  \\\n",
      "54            2      9        3             30    -9          -0.1   \n",
      "\n",
      "    change_qty  price_new    qty_new  additional_profit  \n",
      "54   24.821768      1.125  77.465303           2.879646  \n",
      "-------------\n",
      "    dayofweek  dayofmonth  dayofyear  is_weekend  weekday_weekend  weekofyear  \\\n",
      "55          3          25         56           0                1           8   \n",
      "\n",
      "    weekofmonth  month  quarter  days_in_month  year  change_price  \\\n",
      "55            4      2        1             28    -9           1.0   \n",
      "\n",
      "    change_qty  price_new    qty_new  additional_profit  \n",
      "55   -0.599309        2.5  14.024189          17.903111  \n",
      "-------------\n",
      "    dayofweek  dayofmonth  dayofyear  is_weekend  weekday_weekend  weekofyear  \\\n",
      "56          1           9         68           0                1          10   \n",
      "\n",
      "    weekofmonth  month  quarter  days_in_month  year  change_price  \\\n",
      "56            2      3        1             31    -9           1.0   \n",
      "\n",
      "    change_qty  price_new   qty_new  additional_profit  \n",
      "56   -0.599309        3.3  2.003456           3.497269  \n",
      "-------------\n",
      "    dayofweek  dayofmonth  dayofyear  is_weekend  weekday_weekend  weekofyear  \\\n",
      "57          1           1        152           0                1          22   \n",
      "\n",
      "    weekofmonth  month  quarter  days_in_month  year  change_price  \\\n",
      "57            1      6        2             30    -9          -0.1   \n",
      "\n",
      "    change_qty  price_new    qty_new  additional_profit  \n",
      "57   24.821768      0.378  77.465303           6.135089  \n",
      "-------------\n",
      "    dayofweek  dayofmonth  dayofyear  is_weekend  weekday_weekend  weekofyear  \\\n",
      "58          2           8        342           0                1          49   \n",
      "\n",
      "    weekofmonth  month  quarter  days_in_month  year  change_price  \\\n",
      "58            2     12        4             31    -9          -0.1   \n",
      "\n",
      "    change_qty  price_new      qty_new  additional_profit  \n",
      "58   17.617462      0.324  2234.095422         236.059807  \n",
      "-------------\n",
      "    dayofweek  dayofmonth  dayofyear  is_weekend  weekday_weekend  weekofyear  \\\n",
      "59          3           2        336           0                1          48   \n",
      "\n",
      "    weekofmonth  month  quarter  days_in_month  year  change_price  \\\n",
      "59            1     12        4             31    -9          -0.1   \n",
      "\n",
      "    change_qty  price_new     qty_new  additional_profit  \n",
      "59   17.617462      0.585  223.409542          25.132888  \n",
      "-------------\n",
      "    dayofweek  dayofmonth  dayofyear  is_weekend  weekday_weekend  weekofyear  \\\n",
      "60          2           8        342           0                1          49   \n",
      "\n",
      "    weekofmonth  month  quarter  days_in_month  year  change_price  \\\n",
      "60            2     12        4             31    -9          -0.1   \n",
      "\n",
      "    change_qty  price_new     qty_new  additional_profit  \n",
      "60   17.617462      0.585  111.704771          23.452754  \n",
      "-------------\n",
      "    dayofweek  dayofmonth  dayofyear  is_weekend  weekday_weekend  weekofyear  \\\n",
      "61          3           9        343           0                1          49   \n",
      "\n",
      "    weekofmonth  month  quarter  days_in_month  year  change_price  \\\n",
      "61            2     12        4             31    -9          -0.1   \n",
      "\n",
      "    change_qty  price_new     qty_new  additional_profit  \n",
      "61   17.617462      6.795  335.114313         277.406905  \n",
      "-------------\n",
      "    dayofweek  dayofmonth  dayofyear  is_weekend  weekday_weekend  weekofyear  \\\n",
      "62          3           9        343           0                1          49   \n",
      "\n",
      "    weekofmonth  month  quarter  days_in_month  year  change_price  \\\n",
      "62            2     12        4             31    -9          -0.1   \n",
      "\n",
      "    change_qty  price_new     qty_new  additional_profit  \n",
      "62   17.617462      0.378  446.819084          64.326088  \n",
      "-------------\n",
      "    dayofweek  dayofmonth  dayofyear  is_weekend  weekday_weekend  weekofyear  \\\n",
      "63          2          24        328           0                1          47   \n",
      "\n",
      "    weekofmonth  month  quarter  days_in_month  year  change_price  \\\n",
      "63            4     11        4             30    -9          -0.1   \n",
      "\n",
      "    change_qty  price_new      qty_new  additional_profit  \n",
      "63   24.821768      0.954  7436.669114        1337.586057  \n",
      "-------------\n",
      "    dayofweek  dayofmonth  dayofyear  is_weekend  weekday_weekend  weekofyear  \\\n",
      "64          0          15        319           0                1          46   \n",
      "\n",
      "    weekofmonth  month  quarter  days_in_month  year  change_price  \\\n",
      "64            3     11        4             30    -9          -0.1   \n",
      "\n",
      "    change_qty  price_new     qty_new  additional_profit  \n",
      "64   24.821768      0.765  335.682981          73.201907  \n",
      "-------------\n",
      "    dayofweek  dayofmonth  dayofyear  is_weekend  weekday_weekend  weekofyear  \\\n",
      "65          0           7        341           0                1          50   \n",
      "\n",
      "    weekofmonth  month  quarter  days_in_month  year  change_price  \\\n",
      "65            1     12        4             31   -10           1.0   \n",
      "\n",
      "    change_qty  price_new    qty_new  additional_profit  \n",
      "65    0.236042       0.08  64.274186           2.784504  \n",
      "-------------\n",
      "    dayofweek  dayofmonth  dayofyear  is_weekend  weekday_weekend  weekofyear  \\\n",
      "66          0          22        326           0                1          47   \n",
      "\n",
      "    weekofmonth  month  quarter  days_in_month  year  change_price  \\\n",
      "66            4     11        4             30    -9          -0.1   \n",
      "\n",
      "    change_qty  price_new     qty_new  additional_profit  \n",
      "66   24.821768      0.765  619.722426         179.167822  \n",
      "-------------\n",
      "    dayofweek  dayofmonth  dayofyear  is_weekend  weekday_weekend  weekofyear  \\\n",
      "67          6          14        318           1                0          45   \n",
      "\n",
      "    weekofmonth  month  quarter  days_in_month  year  change_price  \\\n",
      "67            2     11        4             30    -9          -0.1   \n",
      "\n",
      "    change_qty  price_new     qty_new  additional_profit  \n",
      "67   24.821768      0.189  774.653033          28.581039  \n",
      "-------------\n",
      "    dayofweek  dayofmonth  dayofyear  is_weekend  weekday_weekend  weekofyear  \\\n",
      "68          3           9        343           0                1          49   \n",
      "\n",
      "    weekofmonth  month  quarter  days_in_month  year  change_price  \\\n",
      "68            2     12        4             31    -9          -0.1   \n",
      "\n",
      "    change_qty  price_new    qty_new  additional_profit  \n",
      "68   17.617462      1.521  18.617462           10.50303  \n",
      "-------------\n",
      "    dayofweek  dayofmonth  dayofyear  is_weekend  weekday_weekend  weekofyear  \\\n",
      "69          6          28        332           1                0          47   \n",
      "\n",
      "    weekofmonth  month  quarter  days_in_month  year  change_price  \\\n",
      "69            4     11        4             30    -9          -0.1   \n",
      "\n",
      "    change_qty  price_new     qty_new  additional_profit  \n",
      "69   24.821768      0.495  619.722426          25.058307  \n",
      "-------------\n",
      "    dayofweek  dayofmonth  dayofyear  is_weekend  weekday_weekend  weekofyear  \\\n",
      "70          6           5        339           1                0          48   \n",
      "\n",
      "    weekofmonth  month  quarter  days_in_month  year  change_price  \\\n",
      "70            1     12        4             31    -9          -0.1   \n",
      "\n",
      "    change_qty  price_new     qty_new  additional_profit  \n",
      "70   17.617462      1.125  223.409542          95.856985  \n",
      "-------------\n",
      "    dayofweek  dayofmonth  dayofyear  is_weekend  weekday_weekend  weekofyear  \\\n",
      "71          3           9        343           0                1          49   \n",
      "\n",
      "    weekofmonth  month  quarter  days_in_month  year  change_price  \\\n",
      "71            2     12        4             31    -9          -0.1   \n",
      "\n",
      "    change_qty  price_new    qty_new  additional_profit  \n",
      "71   17.617462      0.378  74.469847           3.409473  \n",
      "-------------\n",
      "    dayofweek  dayofmonth  dayofyear  is_weekend  weekday_weekend  weekofyear  \\\n",
      "72          2           8        342           0                1          49   \n",
      "\n",
      "    weekofmonth  month  quarter  days_in_month  year  change_price  \\\n",
      "72            2     12        4             31    -9          -0.1   \n",
      "\n",
      "    change_qty  price_new     qty_new  additional_profit  \n",
      "72   17.617462      0.765  223.409542          62.851304  \n",
      "-------------\n",
      "    dayofweek  dayofmonth  dayofyear  is_weekend  weekday_weekend  weekofyear  \\\n",
      "73          2           1        335           0                1          48   \n",
      "\n",
      "    weekofmonth  month  quarter  days_in_month  year  change_price  \\\n",
      "73            1     12        4             31    -9          -0.1   \n",
      "\n",
      "    change_qty  price_new     qty_new  additional_profit  \n",
      "73   17.617462      1.485  353.731775          62.651191  \n",
      "-------------\n",
      "    dayofweek  dayofmonth  dayofyear  is_weekend  weekday_weekend  weekofyear  \\\n",
      "74          6           5        339           1                0          48   \n",
      "\n",
      "    weekofmonth  month  quarter  days_in_month  year  change_price  \\\n",
      "74            1     12        4             31    -9          -0.1   \n",
      "\n",
      "    change_qty  price_new    qty_new  additional_profit  \n",
      "74   17.617462      0.378  74.469847           2.411664  \n",
      "-------------\n",
      "    dayofweek  dayofmonth  dayofyear  is_weekend  weekday_weekend  weekofyear  \\\n",
      "75          1           2         61           0                1           9   \n",
      "\n",
      "    weekofmonth  month  quarter  days_in_month  year  change_price  \\\n",
      "75            1      3        1             31    -9          -0.1   \n",
      "\n",
      "    change_qty  price_new     qty_new  additional_profit  \n",
      "75   17.617462      1.125  428.201623         185.715935  \n",
      "-------------\n",
      "    dayofweek  dayofmonth  dayofyear  is_weekend  weekday_weekend  weekofyear  \\\n",
      "76          3           9        343           0                1          49   \n",
      "\n",
      "    weekofmonth  month  quarter  days_in_month  year  change_price  \\\n",
      "76            2     12        4             31    -9          -0.1   \n",
      "\n",
      "    change_qty  price_new    qty_new  additional_profit  \n",
      "76   17.617462      1.755  37.234924          10.179206  \n",
      "-------------\n",
      "    dayofweek  dayofmonth  dayofyear  is_weekend  weekday_weekend  weekofyear  \\\n",
      "77          3           9        343           0                1          49   \n",
      "\n",
      "    weekofmonth  month  quarter  days_in_month  year  change_price  \\\n",
      "77            2     12        4             31    -9          -0.1   \n",
      "\n",
      "    change_qty  price_new    qty_new  additional_profit  \n",
      "77   17.617462      1.755  55.852386          39.273458  \n",
      "-------------\n",
      "    dayofweek  dayofmonth  dayofyear  is_weekend  weekday_weekend  weekofyear  \\\n",
      "78          2           8        342           0                1          49   \n",
      "\n",
      "    weekofmonth  month  quarter  days_in_month  year  change_price  \\\n",
      "78            2     12        4             31    -9          -0.1   \n",
      "\n",
      "    change_qty  price_new    qty_new  additional_profit  \n",
      "78   17.617462      0.378  204.79208          11.069243  \n",
      "-------------\n",
      "    dayofweek  dayofmonth  dayofyear  is_weekend  weekday_weekend  weekofyear  \\\n",
      "79          2           8        342           0                1          49   \n",
      "\n",
      "    weekofmonth  month  quarter  days_in_month  year  change_price  \\\n",
      "79            2     12        4             31    -9          -0.1   \n",
      "\n",
      "    change_qty  price_new    qty_new  additional_profit  \n",
      "79   17.617462      1.485  37.234924          13.956792  \n",
      "-------------\n",
      "    dayofweek  dayofmonth  dayofyear  is_weekend  weekday_weekend  weekofyear  \\\n",
      "80          3           2        336           0                1          48   \n",
      "\n",
      "    weekofmonth  month  quarter  days_in_month  year  change_price  \\\n",
      "80            1     12        4             31    -9          -0.1   \n",
      "\n",
      "    change_qty  price_new     qty_new  additional_profit  \n",
      "80   17.617462      0.765  223.409542          36.419064  \n",
      "-------------\n",
      "    dayofweek  dayofmonth  dayofyear  is_weekend  weekday_weekend  weekofyear  \\\n",
      "81          2          10        314           0                1          45   \n",
      "\n",
      "    weekofmonth  month  quarter  days_in_month  year  change_price  \\\n",
      "81            2     11        4             30    -9          -0.1   \n",
      "\n",
      "    change_qty  price_new    qty_new  additional_profit  \n",
      "81   24.821768      1.125  51.643536          15.911789  \n",
      "-------------\n",
      "    dayofweek  dayofmonth  dayofyear  is_weekend  weekday_weekend  weekofyear  \\\n",
      "82          6           5        339           1                0          48   \n",
      "\n",
      "    weekofmonth  month  quarter  days_in_month  year  change_price  \\\n",
      "82            1     12        4             31    -9          -0.1   \n",
      "\n",
      "    change_qty  price_new    qty_new  additional_profit  \n",
      "82   17.617462      1.125  37.234924           4.742593  \n",
      "-------------\n",
      "    dayofweek  dayofmonth  dayofyear  is_weekend  weekday_weekend  weekofyear  \\\n",
      "83          3          18        322           0                1          46   \n",
      "\n",
      "    weekofmonth  month  quarter  days_in_month  year  change_price  \\\n",
      "83            3     11        4             30    -9          -0.1   \n",
      "\n",
      "    change_qty  price_new     qty_new  additional_profit  \n",
      "83   24.821768      1.485  309.861213          74.597861  \n",
      "-------------\n",
      "    dayofweek  dayofmonth  dayofyear  is_weekend  weekday_weekend  weekofyear  \\\n",
      "84          1           9        313           0                1          45   \n",
      "\n",
      "    weekofmonth  month  quarter  days_in_month  year  change_price  \\\n",
      "84            2     11        4             30    -9          -0.1   \n",
      "\n",
      "    change_qty  price_new     qty_new  additional_profit  \n",
      "84   24.821768      1.485  309.861213         151.318489  \n",
      "-------------\n",
      "    dayofweek  dayofmonth  dayofyear  is_weekend  weekday_weekend  weekofyear  \\\n",
      "85          0          22        326           0                1          47   \n",
      "\n",
      "    weekofmonth  month  quarter  days_in_month  year  change_price  \\\n",
      "85            4     11        4             30    -9          -0.1   \n",
      "\n",
      "    change_qty  price_new    qty_new  additional_profit  \n",
      "85   24.821768      1.125  25.821768           5.268231  \n",
      "-------------\n",
      "    dayofweek  dayofmonth  dayofyear  is_weekend  weekday_weekend  weekofyear  \\\n",
      "86          3           9        343           0                1          49   \n",
      "\n",
      "    weekofmonth  month  quarter  days_in_month  year  change_price  \\\n",
      "86            2     12        4             31    -9          -0.1   \n",
      "\n",
      "    change_qty  price_new     qty_new  additional_profit  \n",
      "86   17.617462      1.125  223.409542          95.109705  \n",
      "-------------\n",
      "    dayofweek  dayofmonth  dayofyear  is_weekend  weekday_weekend  weekofyear  \\\n",
      "87          6           5        339           1                0          48   \n",
      "\n",
      "    weekofmonth  month  quarter  days_in_month  year  change_price  \\\n",
      "87            1     12        4             31    -9           1.0   \n",
      "\n",
      "    change_qty  price_new   qty_new  additional_profit  \n",
      "87   -0.599309        3.3  2.003456           3.473016  \n",
      "-------------\n",
      "    dayofweek  dayofmonth  dayofyear  is_weekend  weekday_weekend  weekofyear  \\\n",
      "88          6           5        339           1                0          48   \n",
      "\n",
      "    weekofmonth  month  quarter  days_in_month  year  change_price  \\\n",
      "88            1     12        4             31    -9          -0.1   \n",
      "\n",
      "    change_qty  price_new    qty_new  additional_profit  \n",
      "88   17.617462      1.125  37.234924            1.34787  \n",
      "-------------\n",
      "    dayofweek  dayofmonth  dayofyear  is_weekend  weekday_weekend  weekofyear  \\\n",
      "89          3          25        329           0                1          47   \n",
      "\n",
      "    weekofmonth  month  quarter  days_in_month  year  change_price  \\\n",
      "89            4     11        4             30    -9          -0.1   \n",
      "\n",
      "    change_qty  price_new    qty_new  additional_profit  \n",
      "89   24.821768      1.125  25.821768            6.88604  \n",
      "-------------\n",
      "    dayofweek  dayofmonth  dayofyear  is_weekend  weekday_weekend  weekofyear  \\\n",
      "90          6           5        339           1                0          48   \n",
      "\n",
      "    weekofmonth  month  quarter  days_in_month  year  change_price  \\\n",
      "90            1     12        4             31    -9          -0.1   \n",
      "\n",
      "    change_qty  price_new     qty_new  additional_profit  \n",
      "90   17.617462      0.765  186.174619          45.181922  \n",
      "-------------\n",
      "    dayofweek  dayofmonth  dayofyear  is_weekend  weekday_weekend  weekofyear  \\\n",
      "91          6           5        339           1                0          48   \n",
      "\n",
      "    weekofmonth  month  quarter  days_in_month  year  change_price  \\\n",
      "91            1     12        4             31    -9          -0.1   \n",
      "\n",
      "    change_qty  price_new    qty_new  additional_profit  \n",
      "91   17.617462      1.485  55.852386          19.459522  \n",
      "-------------\n",
      "    dayofweek  dayofmonth  dayofyear  is_weekend  weekday_weekend  weekofyear  \\\n",
      "92          0           6        340           0                1          49   \n",
      "\n",
      "    weekofmonth  month  quarter  days_in_month  year  change_price  \\\n",
      "92            1     12        4             31    -9          -0.1   \n",
      "\n",
      "    change_qty  price_new     qty_new  additional_profit  \n",
      "92   17.617462      1.125  446.819084         192.999618  \n",
      "-------------\n",
      "    dayofweek  dayofmonth  dayofyear  is_weekend  weekday_weekend  weekofyear  \\\n",
      "93          3           3        337           0                1          49   \n",
      "\n",
      "    weekofmonth  month  quarter  days_in_month  year  change_price  \\\n",
      "93            1     12        4             31   -10          -0.1   \n",
      "\n",
      "    change_qty  price_new    qty_new  additional_profit  \n",
      "93   17.617462      0.378  74.469847           7.554804  \n",
      "-------------\n",
      "    dayofweek  dayofmonth  dayofyear  is_weekend  weekday_weekend  weekofyear  \\\n",
      "94          0          25         25           0                1           4   \n",
      "\n",
      "    weekofmonth  month  quarter  days_in_month  year  change_price  \\\n",
      "94            4      1        1             31    -9          -0.1   \n",
      "\n",
      "    change_qty  price_new     qty_new  additional_profit  \n",
      "94   17.617462        4.5  409.584161          377.70629  \n",
      "-------------\n",
      "    dayofweek  dayofmonth  dayofyear  is_weekend  weekday_weekend  weekofyear  \\\n",
      "95          3           9        343           0                1          49   \n",
      "\n",
      "    weekofmonth  month  quarter  days_in_month  year  change_price  \\\n",
      "95            2     12        4             31    -9          -0.1   \n",
      "\n",
      "    change_qty  price_new    qty_new  additional_profit  \n",
      "95   17.617462      3.375  204.79208         112.046467  \n",
      "-------------\n",
      "    dayofweek  dayofmonth  dayofyear  is_weekend  weekday_weekend  weekofyear  \\\n",
      "96          0           6        340           0                1          49   \n",
      "\n",
      "    weekofmonth  month  quarter  days_in_month  year  change_price  \\\n",
      "96            1     12        4             31    -9          -0.1   \n",
      "\n",
      "    change_qty  price_new    qty_new  additional_profit  \n",
      "96   17.617462      0.765  74.469847          12.992068  \n",
      "-------------\n",
      "    dayofweek  dayofmonth  dayofyear  is_weekend  weekday_weekend  weekofyear  \\\n",
      "97          3           2        336           0                1          48   \n",
      "\n",
      "    weekofmonth  month  quarter  days_in_month  year  change_price  \\\n",
      "97            1     12        4             31    -9           1.0   \n",
      "\n",
      "    change_qty  price_new   qty_new  additional_profit  \n",
      "97   -0.599309       11.9  1.202073             7.7755  \n",
      "-------------\n",
      "    dayofweek  dayofmonth  dayofyear  is_weekend  weekday_weekend  weekofyear  \\\n",
      "98          3           9        343           0                1          49   \n",
      "\n",
      "    weekofmonth  month  quarter  days_in_month  year  change_price  \\\n",
      "98            2     12        4             31    -9          -0.1   \n",
      "\n",
      "    change_qty  price_new    qty_new  additional_profit  \n",
      "98   17.617462      1.125  37.234924           4.776103  \n",
      "-------------\n",
      "    dayofweek  dayofmonth  dayofyear  is_weekend  weekday_weekend  weekofyear  \\\n",
      "99          2          20        293           0                1          42   \n",
      "\n",
      "    weekofmonth  month  quarter  days_in_month  year  change_price  \\\n",
      "99            3     10        4             31    -9          -0.1   \n",
      "\n",
      "    change_qty  price_new    qty_new  additional_profit  \n",
      "99   17.617462      3.375  37.234924          44.540988  \n",
      "-------------\n",
      "     dayofweek  dayofmonth  dayofyear  is_weekend  weekday_weekend  \\\n",
      "100          0           1        305           0                1   \n",
      "\n",
      "     weekofyear  weekofmonth  month  quarter  days_in_month  year  \\\n",
      "100          44            1     11        4             30    -9   \n",
      "\n",
      "     change_price  change_qty  price_new    qty_new  additional_profit  \n",
      "100          -0.1   24.821768      0.171  25.821768           0.633308  \n",
      "-------------\n",
      "     dayofweek  dayofmonth  dayofyear  is_weekend  weekday_weekend  \\\n",
      "101          6          14        318           1                0   \n",
      "\n",
      "     weekofyear  weekofmonth  month  quarter  days_in_month  year  \\\n",
      "101          45            2     11        4             30    -9   \n",
      "\n",
      "     change_price  change_qty  price_new    qty_new  additional_profit  \n",
      "101          -0.1   24.821768      4.995  25.821768          48.217609  \n",
      "-------------\n",
      "     dayofweek  dayofmonth  dayofyear  is_weekend  weekday_weekend  \\\n",
      "102          1           7        341           0                1   \n",
      "\n",
      "     weekofyear  weekofmonth  month  quarter  days_in_month  year  \\\n",
      "102          49            1     12        4             31    -9   \n",
      "\n",
      "     change_price  change_qty  price_new    qty_new  additional_profit  \n",
      "102          -0.1   17.617462      1.485  18.617462           0.767805  \n",
      "-------------\n",
      "     dayofweek  dayofmonth  dayofyear  is_weekend  weekday_weekend  \\\n",
      "103          6           9        129           1                0   \n",
      "\n",
      "     weekofyear  weekofmonth  month  quarter  days_in_month  year  \\\n",
      "103          18            2      5        2             31    -9   \n",
      "\n",
      "     change_price  change_qty  price_new    qty_new  additional_profit  \n",
      "103          -0.1   17.617462      6.255  18.617462          40.393587  \n",
      "-------------\n",
      "     dayofweek  dayofmonth  dayofyear  is_weekend  weekday_weekend  \\\n",
      "104          3           9        252           0                1   \n",
      "\n",
      "     weekofyear  weekofmonth  month  quarter  days_in_month  year  \\\n",
      "104          36            2      9        3             30    -9   \n",
      "\n",
      "     change_price  change_qty  price_new    qty_new  additional_profit  \n",
      "104          -0.1   24.821768      1.125  25.821768           3.447119  \n",
      "-------------\n",
      "     dayofweek  dayofmonth  dayofyear  is_weekend  weekday_weekend  \\\n",
      "105          2           4        216           0                1   \n",
      "\n",
      "     weekofyear  weekofmonth  month  quarter  days_in_month  year  \\\n",
      "105          31            1      8        3             31    -9   \n",
      "\n",
      "     change_price  change_qty  price_new   qty_new  additional_profit  \n",
      "105           1.0   -0.599309        1.7  2.404147           2.156802  \n",
      "-------------\n",
      "     dayofweek  dayofmonth  dayofyear  is_weekend  weekday_weekend  \\\n",
      "106          2           1        335           0                1   \n",
      "\n",
      "     weekofyear  weekofmonth  month  quarter  days_in_month  year  \\\n",
      "106          48            1     12        4             31    -9   \n",
      "\n",
      "     change_price  change_qty  price_new     qty_new  additional_profit  \n",
      "106          -0.1   17.617462      2.655  111.704771          22.481084  \n",
      "-------------\n",
      "     dayofweek  dayofmonth  dayofyear  is_weekend  weekday_weekend  \\\n",
      "107          0           6        340           0                1   \n",
      "\n",
      "     weekofyear  weekofmonth  month  quarter  days_in_month  year  \\\n",
      "107          49            1     12        4             31    -9   \n",
      "\n",
      "     change_price  change_qty  price_new   qty_new  additional_profit  \n",
      "107           1.0   -0.599309        5.1  0.400691           1.136705  \n",
      "-------------\n",
      "     dayofweek  dayofmonth  dayofyear  is_weekend  weekday_weekend  \\\n",
      "108          6           5        339           1                0   \n",
      "\n",
      "     weekofyear  weekofmonth  month  quarter  days_in_month  year  \\\n",
      "108          48            1     12        4             31    -9   \n",
      "\n",
      "     change_price  change_qty  price_new    qty_new  additional_profit  \n",
      "108          -0.1   17.617462      2.295  74.469847          39.567853  \n",
      "-------------\n",
      "     dayofweek  dayofmonth  dayofyear  is_weekend  weekday_weekend  \\\n",
      "109          4          22        295           0                1   \n",
      "\n",
      "     weekofyear  weekofmonth  month  quarter  days_in_month  year  \\\n",
      "109          42            4     10        4             31    -9   \n",
      "\n",
      "     change_price  change_qty  price_new     qty_new  additional_profit  \n",
      "109          -0.1   17.617462      3.375  223.409542          79.242195  \n",
      "-------------\n",
      "     dayofweek  dayofmonth  dayofyear  is_weekend  weekday_weekend  \\\n",
      "110          1           9        313           0                1   \n",
      "\n",
      "     weekofyear  weekofmonth  month  quarter  days_in_month  year  \\\n",
      "110          45            2     11        4             30    -9   \n",
      "\n",
      "     change_price  change_qty  price_new     qty_new  additional_profit  \n",
      "110          -0.1   24.821768      3.375  103.287071          63.378874  \n",
      "-------------\n",
      "     dayofweek  dayofmonth  dayofyear  is_weekend  weekday_weekend  \\\n",
      "111          2           8        342           0                1   \n",
      "\n",
      "     weekofyear  weekofmonth  month  quarter  days_in_month  year  \\\n",
      "111          49            2     12        4             31    -9   \n",
      "\n",
      "     change_price  change_qty  price_new    qty_new  additional_profit  \n",
      "111          -0.1   17.617462      7.155  18.617462          13.305724  \n",
      "-------------\n",
      "     dayofweek  dayofmonth  dayofyear  is_weekend  weekday_weekend  \\\n",
      "112          6           5        339           1                0   \n",
      "\n",
      "     weekofyear  weekofmonth  month  quarter  days_in_month  year  \\\n",
      "112          48            1     12        4             31    -9   \n",
      "\n",
      "     change_price  change_qty  price_new     qty_new  additional_profit  \n",
      "112          -0.1   17.617462      1.485  446.819084         102.094198  \n",
      "-------------\n",
      "     dayofweek  dayofmonth  dayofyear  is_weekend  weekday_weekend  \\\n",
      "113          4          26         85           0                1   \n",
      "\n",
      "     weekofyear  weekofmonth  month  quarter  days_in_month  year  \\\n",
      "113          12            4      3        1             31    -9   \n",
      "\n",
      "     change_price  change_qty  price_new    qty_new  additional_profit  \n",
      "113          -0.1   17.617462      0.765  18.617462           1.872816  \n",
      "-------------\n",
      "     dayofweek  dayofmonth  dayofyear  is_weekend  weekday_weekend  \\\n",
      "114          3          18        322           0                1   \n",
      "\n",
      "     weekofyear  weekofmonth  month  quarter  days_in_month  year  \\\n",
      "114          46            3     11        4             30    -9   \n",
      "\n",
      "     change_price  change_qty  price_new    qty_new  additional_profit  \n",
      "114          -0.1   24.821768      3.375  25.821768          31.893086  \n",
      "-------------\n",
      "     dayofweek  dayofmonth  dayofyear  is_weekend  weekday_weekend  \\\n",
      "115          6           5        339           1                0   \n",
      "\n",
      "     weekofyear  weekofmonth  month  quarter  days_in_month  year  \\\n",
      "115          48            1     12        4             31    -9   \n",
      "\n",
      "     change_price  change_qty  price_new   qty_new  additional_profit  \n",
      "115           1.0   -0.599309        7.5  1.602764           6.385379  \n",
      "-------------\n",
      "     dayofweek  dayofmonth  dayofyear  is_weekend  weekday_weekend  \\\n",
      "116          3           9        343           0                1   \n",
      "\n",
      "     weekofyear  weekofmonth  month  quarter  days_in_month  year  \\\n",
      "116          49            2     12        4             31    -9   \n",
      "\n",
      "     change_price  change_qty  price_new     qty_new  additional_profit  \n",
      "116          -0.1   17.617462      4.905  167.557157         359.062082  \n",
      "-------------\n",
      "     dayofweek  dayofmonth  dayofyear  is_weekend  weekday_weekend  \\\n",
      "117          3           9        343           0                1   \n",
      "\n",
      "     weekofyear  weekofmonth  month  quarter  days_in_month  year  \\\n",
      "117          49            2     12        4             31    -9   \n",
      "\n",
      "     change_price  change_qty  price_new     qty_new  additional_profit  \n",
      "117          -0.1   17.617462      1.125  446.819084         129.728972  \n",
      "-------------\n",
      "     dayofweek  dayofmonth  dayofyear  is_weekend  weekday_weekend  \\\n",
      "118          3           7        280           0                1   \n",
      "\n",
      "     weekofyear  weekofmonth  month  quarter  days_in_month  year  \\\n",
      "118          40            1     10        4             31    -9   \n",
      "\n",
      "     change_price  change_qty  price_new    qty_new  additional_profit  \n",
      "118          -0.1   17.617462      1.485  55.852386          11.922155  \n",
      "-------------\n",
      "     dayofweek  dayofmonth  dayofyear  is_weekend  weekday_weekend  \\\n",
      "119          3           9        343           0                1   \n",
      "\n",
      "     weekofyear  weekofmonth  month  quarter  days_in_month  year  \\\n",
      "119          49            2     12        4             31    -9   \n",
      "\n",
      "     change_price  change_qty  price_new    qty_new  additional_profit  \n",
      "119          -0.1   17.617462      2.655  74.469847          42.583468  \n",
      "-------------\n",
      "     dayofweek  dayofmonth  dayofyear  is_weekend  weekday_weekend  \\\n",
      "120          0           6        340           0                1   \n",
      "\n",
      "     weekofyear  weekofmonth  month  quarter  days_in_month  year  \\\n",
      "120          49            1     12        4             31    -9   \n",
      "\n",
      "     change_price  change_qty  price_new    qty_new  additional_profit  \n",
      "120          -0.1   17.617462      2.655  18.617462          15.921563  \n",
      "-------------\n",
      "     dayofweek  dayofmonth  dayofyear  is_weekend  weekday_weekend  \\\n",
      "121          3           9        343           0                1   \n",
      "\n",
      "     weekofyear  weekofmonth  month  quarter  days_in_month  year  \\\n",
      "121          49            2     12        4             31    -9   \n",
      "\n",
      "     change_price  change_qty  price_new     qty_new  additional_profit  \n",
      "121          -0.1   17.617462       1.89  223.409542          83.242362  \n",
      "-------------\n",
      "     dayofweek  dayofmonth  dayofyear  is_weekend  weekday_weekend  \\\n",
      "122          1           9        313           0                1   \n",
      "\n",
      "     weekofyear  weekofmonth  month  quarter  days_in_month  year  \\\n",
      "122          45            2     11        4             30    -9   \n",
      "\n",
      "     change_price  change_qty  price_new     qty_new  additional_profit  \n",
      "122          -0.1   24.821768      0.495  103.287071          13.761979  \n",
      "-------------\n",
      "     dayofweek  dayofmonth  dayofyear  is_weekend  weekday_weekend  \\\n",
      "123          0           9        221           0                1   \n",
      "\n",
      "     weekofyear  weekofmonth  month  quarter  days_in_month  year  \\\n",
      "123          32            2      8        3             31    -9   \n",
      "\n",
      "     change_price  change_qty  price_new    qty_new  additional_profit  \n",
      "123          -0.1   17.617462      3.375  37.234924           9.667218  \n",
      "-------------\n",
      "     dayofweek  dayofmonth  dayofyear  is_weekend  weekday_weekend  \\\n",
      "124          0          29        333           0                1   \n",
      "\n",
      "     weekofyear  weekofmonth  month  quarter  days_in_month  year  \\\n",
      "124          48            5     11        4             30    -9   \n",
      "\n",
      "     change_price  change_qty  price_new    qty_new  additional_profit  \n",
      "124          -0.1   24.821768     11.475  51.643536          56.182515  \n",
      "-------------\n",
      "     dayofweek  dayofmonth  dayofyear  is_weekend  weekday_weekend  \\\n",
      "125          1           1        152           0                1   \n",
      "\n",
      "     weekofyear  weekofmonth  month  quarter  days_in_month  year  \\\n",
      "125          22            1      6        2             30    -9   \n",
      "\n",
      "     change_price  change_qty  price_new   qty_new  additional_profit  \n",
      "125           1.0   -0.599309        9.9  4.808293           24.81759  \n",
      "-------------\n",
      "     dayofweek  dayofmonth  dayofyear  is_weekend  weekday_weekend  \\\n",
      "126          4          19        323           0                1   \n",
      "\n",
      "     weekofyear  weekofmonth  month  quarter  days_in_month  year  \\\n",
      "126          46            3     11        4             30    -9   \n",
      "\n",
      "     change_price  change_qty  price_new    qty_new  additional_profit  \n",
      "126          -0.1   24.821768      7.155  25.821768          50.175951  \n",
      "-------------\n",
      "     dayofweek  dayofmonth  dayofyear  is_weekend  weekday_weekend  \\\n",
      "127          4           5         64           0                1   \n",
      "\n",
      "     weekofyear  weekofmonth  month  quarter  days_in_month  year  \\\n",
      "127           9            1      3        1             31    -9   \n",
      "\n",
      "     change_price  change_qty  price_new      qty_new  additional_profit  \n",
      "127          -0.1   17.617462      0.261  9997.577015         332.852661  \n",
      "-------------\n",
      "     dayofweek  dayofmonth  dayofyear  is_weekend  weekday_weekend  \\\n",
      "128          3           9        343           0                1   \n",
      "\n",
      "     weekofyear  weekofmonth  month  quarter  days_in_month  year  \\\n",
      "128          49            2     12        4             31    -9   \n",
      "\n",
      "     change_price  change_qty  price_new      qty_new  additional_profit  \n",
      "128          -0.1   17.617462      8.085  1824.511262        3205.875374  \n",
      "-------------\n",
      "     dayofweek  dayofmonth  dayofyear  is_weekend  weekday_weekend  \\\n",
      "129          3           9        343           0                1   \n",
      "\n",
      "     weekofyear  weekofmonth  month  quarter  days_in_month  year  \\\n",
      "129          49            2     12        4             31    -9   \n",
      "\n",
      "     change_price  change_qty  price_new    qty_new  additional_profit  \n",
      "129          -0.1   17.617462      4.455  74.469847          15.191863  \n",
      "-------------\n",
      "     dayofweek  dayofmonth  dayofyear  is_weekend  weekday_weekend  \\\n",
      "130          0          14        165           0                1   \n",
      "\n",
      "     weekofyear  weekofmonth  month  quarter  days_in_month  year  \\\n",
      "130          24            2      6        2             30    -9   \n",
      "\n",
      "     change_price  change_qty  price_new     qty_new  additional_profit  \n",
      "130          -0.1   24.821768      1.755  154.930607          75.504828  \n",
      "-------------\n",
      "     dayofweek  dayofmonth  dayofyear  is_weekend  weekday_weekend  \\\n",
      "131          6           5        339           1                0   \n",
      "\n",
      "     weekofyear  weekofmonth  month  quarter  days_in_month  year  \\\n",
      "131          48            1     12        4             31    -9   \n",
      "\n",
      "     change_price  change_qty  price_new    qty_new  additional_profit  \n",
      "131          -0.1   17.617462      2.295  93.087309           93.87534  \n",
      "-------------\n",
      "     dayofweek  dayofmonth  dayofyear  is_weekend  weekday_weekend  \\\n",
      "132          1           7        341           0                1   \n",
      "\n",
      "     weekofyear  weekofmonth  month  quarter  days_in_month  year  \\\n",
      "132          49            1     12        4             31    -9   \n",
      "\n",
      "     change_price  change_qty  price_new   qty_new  additional_profit  \n",
      "132           1.0   -0.599309        2.5  4.808293           6.084392  \n",
      "-------------\n",
      "     dayofweek  dayofmonth  dayofyear  is_weekend  weekday_weekend  \\\n",
      "133          6           5        339           1                0   \n",
      "\n",
      "     weekofyear  weekofmonth  month  quarter  days_in_month  year  \\\n",
      "133          48            1     12        4             31    -9   \n",
      "\n",
      "     change_price  change_qty  price_new    qty_new  additional_profit  \n",
      "133          -0.1   17.617462      1.485  18.617462          11.772141  \n",
      "-------------\n",
      "     dayofweek  dayofmonth  dayofyear  is_weekend  weekday_weekend  \\\n",
      "134          2          27        300           0                1   \n",
      "\n",
      "     weekofyear  weekofmonth  month  quarter  days_in_month  year  \\\n",
      "134          43            4     10        4             31    -9   \n",
      "\n",
      "     change_price  change_qty  price_new    qty_new  additional_profit  \n",
      "134          -0.1   17.617462      2.655  18.617462          18.691174  \n",
      "-------------\n",
      "     dayofweek  dayofmonth  dayofyear  is_weekend  weekday_weekend  \\\n",
      "135          6          21         80           1                0   \n",
      "\n",
      "     weekofyear  weekofmonth  month  quarter  days_in_month  year  \\\n",
      "135          11            3      3        1             31    -9   \n",
      "\n",
      "     change_price  change_qty  price_new     qty_new  additional_profit  \n",
      "135          -0.1   17.617462      0.378  186.174619           7.757483  \n",
      "-------------\n",
      "     dayofweek  dayofmonth  dayofyear  is_weekend  weekday_weekend  \\\n",
      "136          4           9         99           0                1   \n",
      "\n",
      "     weekofyear  weekofmonth  month  quarter  days_in_month  year  \\\n",
      "136          14            2      4        2             30    -9   \n",
      "\n",
      "     change_price  change_qty  price_new     qty_new  additional_profit  \n",
      "136          -0.1   24.821768      0.378  103.287071          12.603298  \n",
      "-------------\n",
      "     dayofweek  dayofmonth  dayofyear  is_weekend  weekday_weekend  \\\n",
      "137          0          22        326           0                1   \n",
      "\n",
      "     weekofyear  weekofmonth  month  quarter  days_in_month  year  \\\n",
      "137          47            4     11        4             30    -9   \n",
      "\n",
      "     change_price  change_qty  price_new     qty_new  additional_profit  \n",
      "137          -0.1   24.821768      0.765  103.287071          29.691061  \n",
      "-------------\n",
      "     dayofweek  dayofmonth  dayofyear  is_weekend  weekday_weekend  \\\n",
      "138          0          22        326           0                1   \n",
      "\n",
      "     weekofyear  weekofmonth  month  quarter  days_in_month  year  \\\n",
      "138          47            4     11        4             30    -9   \n",
      "\n",
      "     change_price  change_qty  price_new     qty_new  additional_profit  \n",
      "138          -0.1   24.821768      0.765  103.287071           7.233086  \n",
      "-------------\n",
      "     dayofweek  dayofmonth  dayofyear  is_weekend  weekday_weekend  \\\n",
      "139          2           8        342           0                1   \n",
      "\n",
      "     weekofyear  weekofmonth  month  quarter  days_in_month  year  \\\n",
      "139          49            2     12        4             31    -9   \n",
      "\n",
      "     change_price  change_qty  price_new     qty_new  additional_profit  \n",
      "139          -0.1   17.617462      0.765  223.409542          31.360551  \n",
      "-------------\n",
      "     dayofweek  dayofmonth  dayofyear  is_weekend  weekday_weekend  \\\n",
      "140          1          17        229           0                1   \n",
      "\n",
      "     weekofyear  weekofmonth  month  quarter  days_in_month  year  \\\n",
      "140          33            3      8        3             31    -9   \n",
      "\n",
      "     change_price  change_qty  price_new     qty_new  additional_profit  \n",
      "140          -0.1   17.617462      1.485  186.174619          49.586089  \n",
      "-------------\n",
      "     dayofweek  dayofmonth  dayofyear  is_weekend  weekday_weekend  \\\n",
      "141          3           9        343           0                1   \n",
      "\n",
      "     weekofyear  weekofmonth  month  quarter  days_in_month  year  \\\n",
      "141          49            2     12        4             31    -9   \n",
      "\n",
      "     change_price  change_qty  price_new    qty_new  additional_profit  \n",
      "141          -0.1   17.617462      1.755  37.234924           3.121138  \n",
      "-------------\n",
      "     dayofweek  dayofmonth  dayofyear  is_weekend  weekday_weekend  \\\n",
      "142          6           3        276           1                0   \n",
      "\n",
      "     weekofyear  weekofmonth  month  quarter  days_in_month  year  \\\n",
      "142          39            1     10        4             31    -9   \n",
      "\n",
      "     change_price  change_qty  price_new    qty_new  additional_profit  \n",
      "142          -0.1   17.617462      3.375  37.234924          47.153864  \n",
      "-------------\n",
      "     dayofweek  dayofmonth  dayofyear  is_weekend  weekday_weekend  \\\n",
      "143          0           6        340           0                1   \n",
      "\n",
      "     weekofyear  weekofmonth  month  quarter  days_in_month  year  \\\n",
      "143          49            1     12        4             31    -9   \n",
      "\n",
      "     change_price  change_qty  price_new     qty_new  additional_profit  \n",
      "143          -0.1   17.617462      0.765  242.027004          41.130671  \n",
      "-------------\n",
      "     dayofweek  dayofmonth  dayofyear  is_weekend  weekday_weekend  \\\n",
      "144          4           3        337           0                1   \n",
      "\n",
      "     weekofyear  weekofmonth  month  quarter  days_in_month  year  \\\n",
      "144          48            1     12        4             31    -9   \n",
      "\n",
      "     change_price  change_qty  price_new    qty_new  additional_profit  \n",
      "144          -0.1   17.617462      0.585  18.617462           4.153164  \n",
      "-------------\n",
      "     dayofweek  dayofmonth  dayofyear  is_weekend  weekday_weekend  \\\n",
      "145          2           8        342           0                1   \n",
      "\n",
      "     weekofyear  weekofmonth  month  quarter  days_in_month  year  \\\n",
      "145          49            2     12        4             31    -9   \n",
      "\n",
      "     change_price  change_qty  price_new    qty_new  additional_profit  \n",
      "145          -0.1   17.617462      2.295  18.617462           4.362678  \n",
      "-------------\n",
      "     dayofweek  dayofmonth  dayofyear  is_weekend  weekday_weekend  \\\n",
      "146          2           2        336           0                1   \n",
      "\n",
      "     weekofyear  weekofmonth  month  quarter  days_in_month  year  \\\n",
      "146          49            1     12        4             31   -10   \n",
      "\n",
      "     change_price  change_qty  price_new    qty_new  additional_profit  \n",
      "146           1.0    5.629878       19.9  13.259756         190.332544  \n",
      "-------------\n",
      "     dayofweek  dayofmonth  dayofyear  is_weekend  weekday_weekend  \\\n",
      "147          2           8        342           0                1   \n",
      "\n",
      "     weekofyear  weekofmonth  month  quarter  days_in_month  year  \\\n",
      "147          49            2     12        4             31    -9   \n",
      "\n",
      "     change_price  change_qty  price_new   qty_new  additional_profit  \n",
      "147           1.0   -0.599309       3.38  4.808293           8.781538  \n",
      "-------------\n",
      "     dayofweek  dayofmonth  dayofyear  is_weekend  weekday_weekend  \\\n",
      "148          4          23        113           0                1   \n",
      "\n",
      "     weekofyear  weekofmonth  month  quarter  days_in_month  year  \\\n",
      "148          16            4      4        2             30    -9   \n",
      "\n",
      "     change_price  change_qty  price_new     qty_new  additional_profit  \n",
      "148          -0.1   24.821768      1.755  748.831265            74.5507  \n",
      "-------------\n",
      "     dayofweek  dayofmonth  dayofyear  is_weekend  weekday_weekend  \\\n",
      "149          1           7        341           0                1   \n",
      "\n",
      "     weekofyear  weekofmonth  month  quarter  days_in_month  year  \\\n",
      "149          49            1     12        4             31    -9   \n",
      "\n",
      "     change_price  change_qty  price_new     qty_new  additional_profit  \n",
      "149          -0.1   17.617462      0.765  223.409542           30.64993  \n",
      "-------------\n",
      "     dayofweek  dayofmonth  dayofyear  is_weekend  weekday_weekend  \\\n",
      "150          4          26        330           0                1   \n",
      "\n",
      "     weekofyear  weekofmonth  month  quarter  days_in_month  year  \\\n",
      "150          47            4     11        4             30    -9   \n",
      "\n",
      "     change_price  change_qty  price_new   qty_new  additional_profit  \n",
      "150           1.0   -0.599309        5.9  0.801382           2.528206  \n",
      "-------------\n",
      "     dayofweek  dayofmonth  dayofyear  is_weekend  weekday_weekend  \\\n",
      "151          0           6        340           0                1   \n",
      "\n",
      "     weekofyear  weekofmonth  month  quarter  days_in_month  year  \\\n",
      "151          49            1     12        4             31    -9   \n",
      "\n",
      "     change_price  change_qty  price_new     qty_new  additional_profit  \n",
      "151          -0.1   17.617462      0.378  446.819084          27.213174  \n",
      "-------------\n",
      "     dayofweek  dayofmonth  dayofyear  is_weekend  weekday_weekend  \\\n",
      "152          3           2        336           0                1   \n",
      "\n",
      "     weekofyear  weekofmonth  month  quarter  days_in_month  year  \\\n",
      "152          48            1     12        4             31    -9   \n",
      "\n",
      "     change_price  change_qty  price_new   qty_new  additional_profit  \n",
      "152           1.0   -0.599309       0.84  9.616587           4.509123  \n",
      "-------------\n",
      "     dayofweek  dayofmonth  dayofyear  is_weekend  weekday_weekend  \\\n",
      "153          3           9        343           0                1   \n",
      "\n",
      "     weekofyear  weekofmonth  month  quarter  days_in_month  year  \\\n",
      "153          49            2     12        4             31    -9   \n",
      "\n",
      "     change_price  change_qty  price_new     qty_new  additional_profit  \n",
      "153          -0.1   17.617462      0.378  446.819084          33.799245  \n",
      "-------------\n",
      "     dayofweek  dayofmonth  dayofyear  is_weekend  weekday_weekend  \\\n",
      "154          2           8        342           0                1   \n",
      "\n",
      "     weekofyear  weekofmonth  month  quarter  days_in_month  year  \\\n",
      "154          49            2     12        4             31    -9   \n",
      "\n",
      "     change_price  change_qty  price_new     qty_new  additional_profit  \n",
      "154          -0.1   17.617462      0.378  223.409542          28.816824  \n",
      "-------------\n",
      "     dayofweek  dayofmonth  dayofyear  is_weekend  weekday_weekend  \\\n",
      "155          3           9        343           0                1   \n",
      "\n",
      "     weekofyear  weekofmonth  month  quarter  days_in_month  year  \\\n",
      "155          49            2     12        4             31    -9   \n",
      "\n",
      "     change_price  change_qty  price_new    qty_new  additional_profit  \n",
      "155          -0.1   17.617462       45.0  37.234924         266.934221  \n",
      "-------------\n",
      "     dayofweek  dayofmonth  dayofyear  is_weekend  weekday_weekend  \\\n",
      "156          4          26        330           0                1   \n",
      "\n",
      "     weekofyear  weekofmonth  month  quarter  days_in_month  year  \\\n",
      "156          47            4     11        4             30    -9   \n",
      "\n",
      "     change_price  change_qty  price_new     qty_new  additional_profit  \n",
      "156          -0.1   24.821768      0.144  542.257123          24.631138  \n",
      "-------------\n",
      "     dayofweek  dayofmonth  dayofyear  is_weekend  weekday_weekend  \\\n",
      "157          1          24        236           0                1   \n",
      "\n",
      "     weekofyear  weekofmonth  month  quarter  days_in_month  year  \\\n",
      "157          34            4      8        3             31    -9   \n",
      "\n",
      "     change_price  change_qty  price_new   qty_new  additional_profit  \n",
      "157           1.0   -0.599309       0.38  1.602764           0.324733  \n",
      "-------------\n",
      "     dayofweek  dayofmonth  dayofyear  is_weekend  weekday_weekend  \\\n",
      "158          2           8        342           0                1   \n",
      "\n",
      "     weekofyear  weekofmonth  month  quarter  days_in_month  year  \\\n",
      "158          49            2     12        4             31    -9   \n",
      "\n",
      "     change_price  change_qty  price_new    qty_new  additional_profit  \n",
      "158          -0.1   17.617462      1.305  297.87939          94.001989  \n",
      "-------------\n",
      "     dayofweek  dayofmonth  dayofyear  is_weekend  weekday_weekend  \\\n",
      "159          6           5        339           1                0   \n",
      "\n",
      "     weekofyear  weekofmonth  month  quarter  days_in_month  year  \\\n",
      "159          48            1     12        4             31    -9   \n",
      "\n",
      "     change_price  change_qty  price_new     qty_new  additional_profit  \n",
      "159          -0.1   17.617462      2.295  167.557157          82.655983  \n",
      "-------------\n",
      "     dayofweek  dayofmonth  dayofyear  is_weekend  weekday_weekend  \\\n",
      "160          6          28        332           1                0   \n",
      "\n",
      "     weekofyear  weekofmonth  month  quarter  days_in_month  year  \\\n",
      "160          47            4     11        4             30    -9   \n",
      "\n",
      "     change_price  change_qty  price_new      qty_new  additional_profit  \n",
      "160          -0.1   24.821768      1.125  1239.444852          423.93281  \n",
      "-------------\n",
      "     dayofweek  dayofmonth  dayofyear  is_weekend  weekday_weekend  \\\n",
      "161          0           6        340           0                1   \n",
      "\n",
      "     weekofyear  weekofmonth  month  quarter  days_in_month  year  \\\n",
      "161          49            1     12        4             31    -9   \n",
      "\n",
      "     change_price  change_qty  price_new    qty_new  additional_profit  \n",
      "161          -0.1   17.617462      8.955  18.617462          53.156996  \n",
      "-------------\n",
      "     dayofweek  dayofmonth  dayofyear  is_weekend  weekday_weekend  \\\n",
      "162          2           8        342           0                1   \n",
      "\n",
      "     weekofyear  weekofmonth  month  quarter  days_in_month  year  \\\n",
      "162          49            2     12        4             31    -9   \n",
      "\n",
      "     change_price  change_qty  price_new    qty_new  additional_profit  \n",
      "162          -0.1   17.617462      8.955  18.617462          67.313895  \n",
      "-------------\n",
      "     dayofweek  dayofmonth  dayofyear  is_weekend  weekday_weekend  \\\n",
      "163          3           2        336           0                1   \n",
      "\n",
      "     weekofyear  weekofmonth  month  quarter  days_in_month  year  \\\n",
      "163          48            1     12        4             31    -9   \n",
      "\n",
      "     change_price  change_qty  price_new     qty_new  additional_profit  \n",
      "163          -0.1   17.617462      2.295  111.704771         100.697013  \n",
      "-------------\n",
      "     dayofweek  dayofmonth  dayofyear  is_weekend  weekday_weekend  \\\n",
      "164          2           1        335           0                1   \n",
      "\n",
      "     weekofyear  weekofmonth  month  quarter  days_in_month  year  \\\n",
      "164          48            1     12        4             31    -9   \n",
      "\n",
      "     change_price  change_qty  price_new     qty_new  additional_profit  \n",
      "164          -0.1   17.617462      2.295  111.704771          34.627535  \n",
      "-------------\n",
      "     dayofweek  dayofmonth  dayofyear  is_weekend  weekday_weekend  \\\n",
      "165          2          14        195           0                1   \n",
      "\n",
      "     weekofyear  weekofmonth  month  quarter  days_in_month  year  \\\n",
      "165          28            2      7        3             31    -9   \n",
      "\n",
      "     change_price  change_qty  price_new    qty_new  additional_profit  \n",
      "165          -0.1   17.617462      7.155  37.234924          43.425706  \n",
      "-------------\n"
     ]
    },
    {
     "ename": "KeyboardInterrupt",
     "evalue": "",
     "output_type": "error",
     "traceback": [
      "\u001b[0;31m---------------------------------------------------------------------------\u001b[0m",
      "\u001b[0;31mKeyboardInterrupt\u001b[0m                         Traceback (most recent call last)",
      "Cell \u001b[0;32mIn[184], line 13\u001b[0m\n\u001b[1;32m     11\u001b[0m \u001b[38;5;28;01mfor\u001b[39;00m i \u001b[38;5;129;01min\u001b[39;00m \u001b[38;5;28mrange\u001b[39m(df_optimize\u001b[38;5;241m.\u001b[39mshape[\u001b[38;5;241m0\u001b[39m]):\n\u001b[1;32m     12\u001b[0m     \u001b[38;5;28;01mif\u001b[39;00m row[\u001b[38;5;124m'\u001b[39m\u001b[38;5;124mCategory\u001b[39m\u001b[38;5;124m'\u001b[39m] \u001b[38;5;241m==\u001b[39m \u001b[38;5;124m'\u001b[39m\u001b[38;5;124mArts and Leisure\u001b[39m\u001b[38;5;124m'\u001b[39m:\n\u001b[0;32m---> 13\u001b[0m         demand_change \u001b[38;5;241m=\u001b[39m best_model_art_leisure\u001b[38;5;241m.\u001b[39mpredict(df_optimize\u001b[38;5;241m.\u001b[39miloc[[i]])\n\u001b[1;32m     14\u001b[0m     \u001b[38;5;28;01melif\u001b[39;00m row[\u001b[38;5;124m'\u001b[39m\u001b[38;5;124mCategory\u001b[39m\u001b[38;5;124m'\u001b[39m] \u001b[38;5;241m==\u001b[39m \u001b[38;5;124m'\u001b[39m\u001b[38;5;124mEducation and Office\u001b[39m\u001b[38;5;124m'\u001b[39m:\n\u001b[1;32m     15\u001b[0m         demand_change \u001b[38;5;241m=\u001b[39m best_model_education_office\u001b[38;5;241m.\u001b[39mpredict(df_optimize\u001b[38;5;241m.\u001b[39miloc[[i]])\n",
      "File \u001b[0;32m~/anaconda3/lib/python3.11/site-packages/sklearn/tree/_classes.py:500\u001b[0m, in \u001b[0;36mBaseDecisionTree.predict\u001b[0;34m(self, X, check_input)\u001b[0m\n\u001b[1;32m    477\u001b[0m \u001b[38;5;250m\u001b[39m\u001b[38;5;124;03m\"\"\"Predict class or regression value for X.\u001b[39;00m\n\u001b[1;32m    478\u001b[0m \n\u001b[1;32m    479\u001b[0m \u001b[38;5;124;03mFor a classification model, the predicted class for each sample in X is\u001b[39;00m\n\u001b[0;32m   (...)\u001b[0m\n\u001b[1;32m    497\u001b[0m \u001b[38;5;124;03m    The predicted classes, or the predict values.\u001b[39;00m\n\u001b[1;32m    498\u001b[0m \u001b[38;5;124;03m\"\"\"\u001b[39;00m\n\u001b[1;32m    499\u001b[0m check_is_fitted(\u001b[38;5;28mself\u001b[39m)\n\u001b[0;32m--> 500\u001b[0m X \u001b[38;5;241m=\u001b[39m \u001b[38;5;28mself\u001b[39m\u001b[38;5;241m.\u001b[39m_validate_X_predict(X, check_input)\n\u001b[1;32m    501\u001b[0m proba \u001b[38;5;241m=\u001b[39m \u001b[38;5;28mself\u001b[39m\u001b[38;5;241m.\u001b[39mtree_\u001b[38;5;241m.\u001b[39mpredict(X)\n\u001b[1;32m    502\u001b[0m n_samples \u001b[38;5;241m=\u001b[39m X\u001b[38;5;241m.\u001b[39mshape[\u001b[38;5;241m0\u001b[39m]\n",
      "File \u001b[0;32m~/anaconda3/lib/python3.11/site-packages/sklearn/tree/_classes.py:460\u001b[0m, in \u001b[0;36mBaseDecisionTree._validate_X_predict\u001b[0;34m(self, X, check_input)\u001b[0m\n\u001b[1;32m    458\u001b[0m \u001b[38;5;28;01melse\u001b[39;00m:\n\u001b[1;32m    459\u001b[0m     force_all_finite \u001b[38;5;241m=\u001b[39m \u001b[38;5;28;01mTrue\u001b[39;00m\n\u001b[0;32m--> 460\u001b[0m X \u001b[38;5;241m=\u001b[39m \u001b[38;5;28mself\u001b[39m\u001b[38;5;241m.\u001b[39m_validate_data(\n\u001b[1;32m    461\u001b[0m     X,\n\u001b[1;32m    462\u001b[0m     dtype\u001b[38;5;241m=\u001b[39mDTYPE,\n\u001b[1;32m    463\u001b[0m     accept_sparse\u001b[38;5;241m=\u001b[39m\u001b[38;5;124m\"\u001b[39m\u001b[38;5;124mcsr\u001b[39m\u001b[38;5;124m\"\u001b[39m,\n\u001b[1;32m    464\u001b[0m     reset\u001b[38;5;241m=\u001b[39m\u001b[38;5;28;01mFalse\u001b[39;00m,\n\u001b[1;32m    465\u001b[0m     force_all_finite\u001b[38;5;241m=\u001b[39mforce_all_finite,\n\u001b[1;32m    466\u001b[0m )\n\u001b[1;32m    467\u001b[0m \u001b[38;5;28;01mif\u001b[39;00m issparse(X) \u001b[38;5;129;01mand\u001b[39;00m (\n\u001b[1;32m    468\u001b[0m     X\u001b[38;5;241m.\u001b[39mindices\u001b[38;5;241m.\u001b[39mdtype \u001b[38;5;241m!=\u001b[39m np\u001b[38;5;241m.\u001b[39mintc \u001b[38;5;129;01mor\u001b[39;00m X\u001b[38;5;241m.\u001b[39mindptr\u001b[38;5;241m.\u001b[39mdtype \u001b[38;5;241m!=\u001b[39m np\u001b[38;5;241m.\u001b[39mintc\n\u001b[1;32m    469\u001b[0m ):\n\u001b[1;32m    470\u001b[0m     \u001b[38;5;28;01mraise\u001b[39;00m \u001b[38;5;167;01mValueError\u001b[39;00m(\u001b[38;5;124m\"\u001b[39m\u001b[38;5;124mNo support for np.int64 index based sparse matrices\u001b[39m\u001b[38;5;124m\"\u001b[39m)\n",
      "File \u001b[0;32m~/anaconda3/lib/python3.11/site-packages/sklearn/base.py:604\u001b[0m, in \u001b[0;36mBaseEstimator._validate_data\u001b[0;34m(self, X, y, reset, validate_separately, cast_to_ndarray, **check_params)\u001b[0m\n\u001b[1;32m    602\u001b[0m         out \u001b[38;5;241m=\u001b[39m X, y\n\u001b[1;32m    603\u001b[0m \u001b[38;5;28;01melif\u001b[39;00m \u001b[38;5;129;01mnot\u001b[39;00m no_val_X \u001b[38;5;129;01mand\u001b[39;00m no_val_y:\n\u001b[0;32m--> 604\u001b[0m     out \u001b[38;5;241m=\u001b[39m check_array(X, input_name\u001b[38;5;241m=\u001b[39m\u001b[38;5;124m\"\u001b[39m\u001b[38;5;124mX\u001b[39m\u001b[38;5;124m\"\u001b[39m, \u001b[38;5;241m*\u001b[39m\u001b[38;5;241m*\u001b[39mcheck_params)\n\u001b[1;32m    605\u001b[0m \u001b[38;5;28;01melif\u001b[39;00m no_val_X \u001b[38;5;129;01mand\u001b[39;00m \u001b[38;5;129;01mnot\u001b[39;00m no_val_y:\n\u001b[1;32m    606\u001b[0m     out \u001b[38;5;241m=\u001b[39m _check_y(y, \u001b[38;5;241m*\u001b[39m\u001b[38;5;241m*\u001b[39mcheck_params)\n",
      "File \u001b[0;32m~/anaconda3/lib/python3.11/site-packages/sklearn/utils/validation.py:777\u001b[0m, in \u001b[0;36mcheck_array\u001b[0;34m(array, accept_sparse, accept_large_sparse, dtype, order, copy, force_all_finite, ensure_2d, allow_nd, ensure_min_samples, ensure_min_features, estimator, input_name)\u001b[0m\n\u001b[1;32m    775\u001b[0m dtypes_orig \u001b[38;5;241m=\u001b[39m \u001b[38;5;28;01mNone\u001b[39;00m\n\u001b[1;32m    776\u001b[0m pandas_requires_conversion \u001b[38;5;241m=\u001b[39m \u001b[38;5;28;01mFalse\u001b[39;00m\n\u001b[0;32m--> 777\u001b[0m \u001b[38;5;28;01mif\u001b[39;00m \u001b[38;5;28mhasattr\u001b[39m(array, \u001b[38;5;124m\"\u001b[39m\u001b[38;5;124mdtypes\u001b[39m\u001b[38;5;124m\"\u001b[39m) \u001b[38;5;129;01mand\u001b[39;00m \u001b[38;5;28mhasattr\u001b[39m(array\u001b[38;5;241m.\u001b[39mdtypes, \u001b[38;5;124m\"\u001b[39m\u001b[38;5;124m__array__\u001b[39m\u001b[38;5;124m\"\u001b[39m):\n\u001b[1;32m    778\u001b[0m     \u001b[38;5;66;03m# throw warning if columns are sparse. If all columns are sparse, then\u001b[39;00m\n\u001b[1;32m    779\u001b[0m     \u001b[38;5;66;03m# array.sparse exists and sparsity will be preserved (later).\u001b[39;00m\n\u001b[1;32m    780\u001b[0m     \u001b[38;5;28;01mwith\u001b[39;00m suppress(\u001b[38;5;167;01mImportError\u001b[39;00m):\n\u001b[1;32m    781\u001b[0m         \u001b[38;5;28;01mfrom\u001b[39;00m \u001b[38;5;21;01mpandas\u001b[39;00m \u001b[38;5;28;01mimport\u001b[39;00m SparseDtype\n",
      "File \u001b[0;32m~/anaconda3/lib/python3.11/site-packages/pandas/core/generic.py:6158\u001b[0m, in \u001b[0;36mNDFrame.dtypes\u001b[0;34m(self)\u001b[0m\n\u001b[1;32m   6130\u001b[0m \u001b[38;5;129m@property\u001b[39m\n\u001b[1;32m   6131\u001b[0m \u001b[38;5;28;01mdef\u001b[39;00m \u001b[38;5;21mdtypes\u001b[39m(\u001b[38;5;28mself\u001b[39m):\n\u001b[1;32m   6132\u001b[0m \u001b[38;5;250m    \u001b[39m\u001b[38;5;124;03m\"\"\"\u001b[39;00m\n\u001b[1;32m   6133\u001b[0m \u001b[38;5;124;03m    Return the dtypes in the DataFrame.\u001b[39;00m\n\u001b[1;32m   6134\u001b[0m \n\u001b[0;32m   (...)\u001b[0m\n\u001b[1;32m   6156\u001b[0m \u001b[38;5;124;03m    dtype: object\u001b[39;00m\n\u001b[1;32m   6157\u001b[0m \u001b[38;5;124;03m    \"\"\"\u001b[39;00m\n\u001b[0;32m-> 6158\u001b[0m     data \u001b[38;5;241m=\u001b[39m \u001b[38;5;28mself\u001b[39m\u001b[38;5;241m.\u001b[39m_mgr\u001b[38;5;241m.\u001b[39mget_dtypes()\n\u001b[1;32m   6159\u001b[0m     \u001b[38;5;28;01mreturn\u001b[39;00m \u001b[38;5;28mself\u001b[39m\u001b[38;5;241m.\u001b[39m_constructor_sliced(data, index\u001b[38;5;241m=\u001b[39m\u001b[38;5;28mself\u001b[39m\u001b[38;5;241m.\u001b[39m_info_axis, dtype\u001b[38;5;241m=\u001b[39mnp\u001b[38;5;241m.\u001b[39mobject_)\n",
      "File \u001b[0;32m~/anaconda3/lib/python3.11/site-packages/pandas/core/internals/managers.py:277\u001b[0m, in \u001b[0;36mBaseBlockManager.get_dtypes\u001b[0;34m(self)\u001b[0m\n\u001b[1;32m    276\u001b[0m \u001b[38;5;28;01mdef\u001b[39;00m \u001b[38;5;21mget_dtypes\u001b[39m(\u001b[38;5;28mself\u001b[39m):\n\u001b[0;32m--> 277\u001b[0m     dtypes \u001b[38;5;241m=\u001b[39m np\u001b[38;5;241m.\u001b[39marray([blk\u001b[38;5;241m.\u001b[39mdtype \u001b[38;5;28;01mfor\u001b[39;00m blk \u001b[38;5;129;01min\u001b[39;00m \u001b[38;5;28mself\u001b[39m\u001b[38;5;241m.\u001b[39mblocks])\n\u001b[1;32m    278\u001b[0m     \u001b[38;5;28;01mreturn\u001b[39;00m dtypes\u001b[38;5;241m.\u001b[39mtake(\u001b[38;5;28mself\u001b[39m\u001b[38;5;241m.\u001b[39mblknos)\n",
      "File \u001b[0;32m~/anaconda3/lib/python3.11/site-packages/pandas/core/internals/managers.py:277\u001b[0m, in \u001b[0;36m<listcomp>\u001b[0;34m(.0)\u001b[0m\n\u001b[1;32m    276\u001b[0m \u001b[38;5;28;01mdef\u001b[39;00m \u001b[38;5;21mget_dtypes\u001b[39m(\u001b[38;5;28mself\u001b[39m):\n\u001b[0;32m--> 277\u001b[0m     dtypes \u001b[38;5;241m=\u001b[39m np\u001b[38;5;241m.\u001b[39marray([blk\u001b[38;5;241m.\u001b[39mdtype \u001b[38;5;28;01mfor\u001b[39;00m blk \u001b[38;5;129;01min\u001b[39;00m \u001b[38;5;28mself\u001b[39m\u001b[38;5;241m.\u001b[39mblocks])\n\u001b[1;32m    278\u001b[0m     \u001b[38;5;28;01mreturn\u001b[39;00m dtypes\u001b[38;5;241m.\u001b[39mtake(\u001b[38;5;28mself\u001b[39m\u001b[38;5;241m.\u001b[39mblknos)\n",
      "File \u001b[0;32m~/anaconda3/lib/python3.11/site-packages/pandas/_libs/properties.pyx:36\u001b[0m, in \u001b[0;36mpandas._libs.properties.CachedProperty.__get__\u001b[0;34m()\u001b[0m\n",
      "File \u001b[0;32m~/anaconda3/lib/python3.11/site-packages/pandas/core/internals/blocks.py:479\u001b[0m, in \u001b[0;36mBlock.dtype\u001b[0;34m(self)\u001b[0m\n\u001b[1;32m    474\u001b[0m     \u001b[38;5;28;01mreturn\u001b[39;00m [\u001b[38;5;28mself\u001b[39m\u001b[38;5;241m.\u001b[39mcopy()] \u001b[38;5;28;01mif\u001b[39;00m copy \u001b[38;5;28;01melse\u001b[39;00m [\u001b[38;5;28mself\u001b[39m]\n\u001b[1;32m    476\u001b[0m \u001b[38;5;66;03m# ---------------------------------------------------------------------\u001b[39;00m\n\u001b[1;32m    477\u001b[0m \u001b[38;5;66;03m# Array-Like Methods\u001b[39;00m\n\u001b[0;32m--> 479\u001b[0m \u001b[38;5;129m@cache_readonly\u001b[39m\n\u001b[1;32m    480\u001b[0m \u001b[38;5;28;01mdef\u001b[39;00m \u001b[38;5;21mdtype\u001b[39m(\u001b[38;5;28mself\u001b[39m) \u001b[38;5;241m-\u001b[39m\u001b[38;5;241m>\u001b[39m DtypeObj:\n\u001b[1;32m    481\u001b[0m     \u001b[38;5;28;01mreturn\u001b[39;00m \u001b[38;5;28mself\u001b[39m\u001b[38;5;241m.\u001b[39mvalues\u001b[38;5;241m.\u001b[39mdtype\n\u001b[1;32m    483\u001b[0m \u001b[38;5;129m@final\u001b[39m\n\u001b[1;32m    484\u001b[0m \u001b[38;5;28;01mdef\u001b[39;00m \u001b[38;5;21mastype\u001b[39m(\n\u001b[1;32m    485\u001b[0m     \u001b[38;5;28mself\u001b[39m,\n\u001b[0;32m   (...)\u001b[0m\n\u001b[1;32m    489\u001b[0m     using_cow: \u001b[38;5;28mbool\u001b[39m \u001b[38;5;241m=\u001b[39m \u001b[38;5;28;01mFalse\u001b[39;00m,\n\u001b[1;32m    490\u001b[0m ) \u001b[38;5;241m-\u001b[39m\u001b[38;5;241m>\u001b[39m Block:\n",
      "\u001b[0;31mKeyboardInterrupt\u001b[0m: "
     ]
    }
   ],
   "source": [
    "for index, row in df_lastest.iterrows():\n",
    "    \n",
    "    df_optimize = df_lastest[index:index+1][['dayofweek','dayofmonth','dayofyear','is_weekend',\n",
    "                                        'weekday_weekend','weekofyear','weekofmonth','month',\n",
    "                                        'quarter','days_in_month','year']]\n",
    "    multipliers = [round(x * 0.1, 1) for x in range(-9, 11)]\n",
    "    df_optimize = df_optimize.loc[np.repeat(df_optimize.index.values, len(multipliers))]\n",
    "    df_optimize['change_price'] = multipliers\n",
    "\n",
    "    change_price_list = []\n",
    "    for i in range(df_optimize.shape[0]):\n",
    "        if row['Category'] == 'Arts and Leisure':\n",
    "            demand_change = best_model_art_leisure.predict(df_optimize.iloc[[i]])\n",
    "        elif row['Category'] == 'Education and Office':\n",
    "            demand_change = best_model_education_office.predict(df_optimize.iloc[[i]])\n",
    "        elif row['Category'] == 'Fashion and Travel':\n",
    "            demand_change = best_model_fashion_travel.predict(df_optimize.iloc[[i]])\n",
    "        elif row['Category'] == 'Health and Wellness':\n",
    "            demand_change = best_model_health_wellness.predict(df_optimize.iloc[[i]])\n",
    "        elif row['Category'] == 'Home and Lifestyle':\n",
    "            demand_change = best_model_home_lifestyle.predict(df_optimize.iloc[[i]])\n",
    "        elif row['Category'] == 'Technology and More':\n",
    "            demand_change = best_model_tech.predict(df_optimize.iloc[[i]])        \n",
    "\n",
    "        change_price_list.append(demand_change[0])\n",
    "        \n",
    "    df_optimize['change_qty'] = change_price_list\n",
    "\n",
    "    initial_price = df_lastest[df_lastest['StockCode'] == row['StockCode']]['Price'].iloc[0]\n",
    "    initial_cost_price = df_lastest[df_lastest['StockCode'] == row['StockCode']]['Cost_price'].iloc[0]\n",
    "    initial_quantity = df_lastest[df_lastest['StockCode'] == row['StockCode']]['Quantity'].iloc[0]\n",
    "\n",
    "    df_optimize['price_new'] = initial_price*(1+df_optimize['change_price'])\n",
    "    df_optimize['qty_new'] = initial_quantity*(1+df_optimize['change_qty'])\n",
    "    df_optimize['additional_profit'] = df_optimize['qty_new']*(df_optimize['price_new']-initial_cost_price)\n",
    "    df_optimize = df_optimize[df_optimize['additional_profit'] == df_optimize['additional_profit'].max()]\n",
    "    \n",
    "    df_final = df_lastest[index:index+1][['StockCode','Category','Description','yyyymmdd']]\n",
    "    \n",
    "    print(df_optimize)\n",
    "    \n",
    "    # df_final['change_price'] = df_optimize['change_price'][0]\n",
    "    # df_final['change_qty'] = df_optimize['change_qty'][0]\n",
    "    # df_final['price_new'] = df_optimize['price_new'][0]\n",
    "    # df_final['qty_new'] = df_optimize['qty_new'][0]\n",
    "    # df_final['additional_profit'] = df_optimize['additional_profit'][0]\n",
    "    \n",
    "    # print(df_final)\n",
    "    print('-------------')"
   ]
  },
  {
   "cell_type": "code",
   "execution_count": null,
   "metadata": {},
   "outputs": [],
   "source": []
  },
  {
   "cell_type": "code",
   "execution_count": null,
   "metadata": {},
   "outputs": [],
   "source": [
    "**"
   ]
  },
  {
   "cell_type": "code",
   "execution_count": null,
   "metadata": {},
   "outputs": [],
   "source": [
    "df_sku_optimize = df_sku[['dayofweek','dayofmonth','dayofyear','is_weekend','weekday_weekend','weekofyear','weekofmonth','month','quarter','days_in_month','year']].sample(1)"
   ]
  },
  {
   "cell_type": "code",
   "execution_count": null,
   "metadata": {},
   "outputs": [],
   "source": [
    "multipliers = [round(x * 0.1, 1) for x in range(1, 11)]"
   ]
  },
  {
   "cell_type": "code",
   "execution_count": null,
   "metadata": {},
   "outputs": [],
   "source": [
    "df_sku_optimize = df_sku_optimize.loc[np.repeat(df_sku_optimize.index.values, len(multipliers))]"
   ]
  },
  {
   "cell_type": "code",
   "execution_count": null,
   "metadata": {},
   "outputs": [],
   "source": [
    "df_sku_optimize['change_price'] = multipliers"
   ]
  },
  {
   "cell_type": "code",
   "execution_count": null,
   "metadata": {},
   "outputs": [],
   "source": [
    "df_sku_optimize.head()"
   ]
  },
  {
   "cell_type": "markdown",
   "metadata": {},
   "source": [
    "optimize"
   ]
  },
  {
   "cell_type": "code",
   "execution_count": null,
   "metadata": {},
   "outputs": [],
   "source": [
    "change_price_list = []"
   ]
  },
  {
   "cell_type": "code",
   "execution_count": null,
   "metadata": {},
   "outputs": [],
   "source": [
    "for i in range(df_sku_optimize.shape[0]):\n",
    "    demand_change = best_model.predict(df_sku_optimize.iloc[[i]])\n",
    "    change_price_list.append(demand_change[0])"
   ]
  },
  {
   "cell_type": "code",
   "execution_count": null,
   "metadata": {},
   "outputs": [],
   "source": [
    "df_sku_optimize['change_qty'] = change_price_list"
   ]
  },
  {
   "cell_type": "code",
   "execution_count": null,
   "metadata": {},
   "outputs": [],
   "source": [
    "initial_price = df_price[df_price['Description'] == 'REGENCY CAKESTAND 3 TIER']['Price'].iloc[0]\n",
    "initial_cost_price = df_price[df_price['Description'] == 'REGENCY CAKESTAND 3 TIER']['Cost_price'].iloc[0]\n",
    "initial_quantity = df_price[df_price['Description'] == 'REGENCY CAKESTAND 3 TIER']['Quantity'].iloc[0]"
   ]
  },
  {
   "cell_type": "code",
   "execution_count": null,
   "metadata": {},
   "outputs": [],
   "source": [
    "initial_price"
   ]
  },
  {
   "cell_type": "code",
   "execution_count": null,
   "metadata": {},
   "outputs": [],
   "source": [
    "df_sku_optimize['price_new'] = initial_price*(1+df_sku_optimize['change_price'])"
   ]
  },
  {
   "cell_type": "code",
   "execution_count": null,
   "metadata": {},
   "outputs": [],
   "source": [
    "df_sku_optimize['qty_new'] = initial_quantity*(1+df_sku_optimize['change_qty'])"
   ]
  },
  {
   "cell_type": "code",
   "execution_count": null,
   "metadata": {},
   "outputs": [],
   "source": [
    "df_sku_optimize['additional_profit'] = df_sku_optimize['qty_new']*(df_sku_optimize['price_new']-initial_cost_price)"
   ]
  },
  {
   "cell_type": "code",
   "execution_count": null,
   "metadata": {},
   "outputs": [],
   "source": [
    "df_sku_optimize.head()"
   ]
  },
  {
   "cell_type": "markdown",
   "metadata": {},
   "source": [
    "select max additional profit"
   ]
  },
  {
   "cell_type": "code",
   "execution_count": null,
   "metadata": {
    "tags": []
   },
   "outputs": [],
   "source": [
    "df_sku_optimize[df_sku_optimize['additional_profit'] == df_sku_optimize['additional_profit'].max()]"
   ]
  },
  {
   "cell_type": "code",
   "execution_count": null,
   "metadata": {},
   "outputs": [],
   "source": []
  }
 ],
 "metadata": {
  "kernelspec": {
   "display_name": "Python 3 (ipykernel)",
   "language": "python",
   "name": "python3"
  },
  "language_info": {
   "codemirror_mode": {
    "name": "ipython",
    "version": 3
   },
   "file_extension": ".py",
   "mimetype": "text/x-python",
   "name": "python",
   "nbconvert_exporter": "python",
   "pygments_lexer": "ipython3",
   "version": "3.11.5"
  },
  "toc-autonumbering": false,
  "toc-showmarkdowntxt": true
 },
 "nbformat": 4,
 "nbformat_minor": 4
}
