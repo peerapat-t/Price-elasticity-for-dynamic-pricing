{
 "cells": [
  {
   "cell_type": "code",
   "execution_count": 49,
   "metadata": {
    "tags": []
   },
   "outputs": [],
   "source": [
    "# https://www.youtube.com/watch?v=i3uMhH2xeOM&ab_channel=Buynomics"
   ]
  },
  {
   "cell_type": "code",
   "execution_count": 50,
   "metadata": {
    "tags": []
   },
   "outputs": [],
   "source": [
    "# https://ngugijoan.medium.com/pricing-on-point-the-art-and-science-of-dynamic-pricing-dd543bf80f01\n",
    "# https://ngugijoan.medium.com/dynamic-pricing-implementation-through-data-science-price-optimization-strategies-56adab4d3176\n",
    "# https://levelup.gitconnected.com/calculating-individual-price-elasticity-for-products-9787e3b82875\n",
    "# https://www.kaggle.com/code/arnabchaki/flight-fare-prediction-0-96-r2-score?fbclid=IwZXh0bgNhZW0CMTAAAR05L4by3xyhImYsDOnF-ufsQQ7VbBefv8Bg3ECHy1JHCR_XmjSZIAKM7yE_aem_AWdIsN4qMSlU9R0FQsAR9y8hT_e_ggs_tIfnGdUdpwA4mLwPAbLPidigOsMMcKNF-4wyLjSg2hcmqzefdb3gX5bT\n",
    "# https://datascience.oneoffcoder.com/pricing-elasticity-modeling.html#Random-forest"
   ]
  },
  {
   "cell_type": "code",
   "execution_count": 51,
   "metadata": {
    "tags": []
   },
   "outputs": [],
   "source": [
    "import warnings\n",
    "warnings.simplefilter(\"ignore\")"
   ]
  },
  {
   "cell_type": "code",
   "execution_count": 52,
   "metadata": {
    "tags": []
   },
   "outputs": [],
   "source": [
    "import pandas as pd\n",
    "import numpy as np\n",
    "import matplotlib.pyplot as plt\n",
    "import matplotlib.dates as mdates\n",
    "import seaborn as sns"
   ]
  },
  {
   "cell_type": "code",
   "execution_count": 53,
   "metadata": {},
   "outputs": [],
   "source": [
    "import duckdb"
   ]
  },
  {
   "cell_type": "code",
   "execution_count": 54,
   "metadata": {
    "tags": []
   },
   "outputs": [],
   "source": [
    "from sklearn.tree import DecisionTreeRegressor"
   ]
  },
  {
   "cell_type": "code",
   "execution_count": 55,
   "metadata": {
    "tags": []
   },
   "outputs": [],
   "source": [
    "from sklearn.model_selection import GridSearchCV"
   ]
  },
  {
   "cell_type": "code",
   "execution_count": 56,
   "metadata": {
    "tags": []
   },
   "outputs": [],
   "source": [
    "from sklearn.metrics import make_scorer, mean_squared_error"
   ]
  },
  {
   "cell_type": "markdown",
   "metadata": {},
   "source": [
    "# 10. Load data"
   ]
  },
  {
   "cell_type": "code",
   "execution_count": 57,
   "metadata": {
    "tags": []
   },
   "outputs": [],
   "source": [
    "df = pd.read_csv(\"online_retail_II_cleaned_with_cost_and_cat.csv\")"
   ]
  },
  {
   "cell_type": "code",
   "execution_count": 58,
   "metadata": {},
   "outputs": [
    {
     "data": {
      "text/html": [
       "<div>\n",
       "<style scoped>\n",
       "    .dataframe tbody tr th:only-of-type {\n",
       "        vertical-align: middle;\n",
       "    }\n",
       "\n",
       "    .dataframe tbody tr th {\n",
       "        vertical-align: top;\n",
       "    }\n",
       "\n",
       "    .dataframe thead th {\n",
       "        text-align: right;\n",
       "    }\n",
       "</style>\n",
       "<table border=\"1\" class=\"dataframe\">\n",
       "  <thead>\n",
       "    <tr style=\"text-align: right;\">\n",
       "      <th></th>\n",
       "      <th>Invoice</th>\n",
       "      <th>StockCode</th>\n",
       "      <th>Description</th>\n",
       "      <th>Quantity</th>\n",
       "      <th>InvoiceDate</th>\n",
       "      <th>Price</th>\n",
       "      <th>Customer ID</th>\n",
       "      <th>Country</th>\n",
       "      <th>profit_margin</th>\n",
       "      <th>Cost_price</th>\n",
       "      <th>Category</th>\n",
       "    </tr>\n",
       "  </thead>\n",
       "  <tbody>\n",
       "    <tr>\n",
       "      <th>0</th>\n",
       "      <td>489434</td>\n",
       "      <td>85048</td>\n",
       "      <td>15CM CHRISTMAS GLASS BALL 20 LIGHTS</td>\n",
       "      <td>12</td>\n",
       "      <td>2009-12-01 07:45:00</td>\n",
       "      <td>6.95</td>\n",
       "      <td>13085.0</td>\n",
       "      <td>United Kingdom</td>\n",
       "      <td>0.193525</td>\n",
       "      <td>5.605004</td>\n",
       "      <td>Home and Garden</td>\n",
       "    </tr>\n",
       "    <tr>\n",
       "      <th>1</th>\n",
       "      <td>489434</td>\n",
       "      <td>79323P</td>\n",
       "      <td>PINK CHERRY LIGHTS</td>\n",
       "      <td>12</td>\n",
       "      <td>2009-12-01 07:45:00</td>\n",
       "      <td>6.75</td>\n",
       "      <td>13085.0</td>\n",
       "      <td>United Kingdom</td>\n",
       "      <td>0.475850</td>\n",
       "      <td>3.538012</td>\n",
       "      <td>Home and Garden</td>\n",
       "    </tr>\n",
       "    <tr>\n",
       "      <th>2</th>\n",
       "      <td>489434</td>\n",
       "      <td>79323W</td>\n",
       "      <td>WHITE CHERRY LIGHTS</td>\n",
       "      <td>12</td>\n",
       "      <td>2009-12-01 07:45:00</td>\n",
       "      <td>6.75</td>\n",
       "      <td>13085.0</td>\n",
       "      <td>United Kingdom</td>\n",
       "      <td>0.368677</td>\n",
       "      <td>4.261430</td>\n",
       "      <td>Home and Garden</td>\n",
       "    </tr>\n",
       "    <tr>\n",
       "      <th>3</th>\n",
       "      <td>489434</td>\n",
       "      <td>22041</td>\n",
       "      <td>RECORD FRAME 7\" SINGLE SIZE</td>\n",
       "      <td>48</td>\n",
       "      <td>2009-12-01 07:45:00</td>\n",
       "      <td>2.10</td>\n",
       "      <td>13085.0</td>\n",
       "      <td>United Kingdom</td>\n",
       "      <td>0.303343</td>\n",
       "      <td>1.462980</td>\n",
       "      <td>Arts and Crafts</td>\n",
       "    </tr>\n",
       "    <tr>\n",
       "      <th>4</th>\n",
       "      <td>489434</td>\n",
       "      <td>21232</td>\n",
       "      <td>STRAWBERRY CERAMIC TRINKET BOX</td>\n",
       "      <td>24</td>\n",
       "      <td>2009-12-01 07:45:00</td>\n",
       "      <td>1.25</td>\n",
       "      <td>13085.0</td>\n",
       "      <td>United Kingdom</td>\n",
       "      <td>0.086449</td>\n",
       "      <td>1.141939</td>\n",
       "      <td>Arts and Crafts</td>\n",
       "    </tr>\n",
       "  </tbody>\n",
       "</table>\n",
       "</div>"
      ],
      "text/plain": [
       "   Invoice StockCode                          Description  Quantity  \\\n",
       "0   489434     85048  15CM CHRISTMAS GLASS BALL 20 LIGHTS        12   \n",
       "1   489434    79323P                   PINK CHERRY LIGHTS        12   \n",
       "2   489434    79323W                  WHITE CHERRY LIGHTS        12   \n",
       "3   489434     22041          RECORD FRAME 7\" SINGLE SIZE        48   \n",
       "4   489434     21232       STRAWBERRY CERAMIC TRINKET BOX        24   \n",
       "\n",
       "           InvoiceDate  Price  Customer ID         Country  profit_margin  \\\n",
       "0  2009-12-01 07:45:00   6.95      13085.0  United Kingdom       0.193525   \n",
       "1  2009-12-01 07:45:00   6.75      13085.0  United Kingdom       0.475850   \n",
       "2  2009-12-01 07:45:00   6.75      13085.0  United Kingdom       0.368677   \n",
       "3  2009-12-01 07:45:00   2.10      13085.0  United Kingdom       0.303343   \n",
       "4  2009-12-01 07:45:00   1.25      13085.0  United Kingdom       0.086449   \n",
       "\n",
       "   Cost_price         Category  \n",
       "0    5.605004  Home and Garden  \n",
       "1    3.538012  Home and Garden  \n",
       "2    4.261430  Home and Garden  \n",
       "3    1.462980  Arts and Crafts  \n",
       "4    1.141939  Arts and Crafts  "
      ]
     },
     "execution_count": 58,
     "metadata": {},
     "output_type": "execute_result"
    }
   ],
   "source": [
    "df.head()"
   ]
  },
  {
   "cell_type": "code",
   "execution_count": 59,
   "metadata": {
    "tags": []
   },
   "outputs": [
    {
     "data": {
      "text/plain": [
       "(397432, 11)"
      ]
     },
     "execution_count": 59,
     "metadata": {},
     "output_type": "execute_result"
    }
   ],
   "source": [
    "df.shape"
   ]
  },
  {
   "cell_type": "markdown",
   "metadata": {},
   "source": [
    "# 11. Feature engineering"
   ]
  },
  {
   "cell_type": "code",
   "execution_count": 60,
   "metadata": {},
   "outputs": [],
   "source": [
    "df['InvoiceDate'] = pd.to_datetime(df['InvoiceDate'])"
   ]
  },
  {
   "cell_type": "code",
   "execution_count": 61,
   "metadata": {},
   "outputs": [],
   "source": [
    "df['yyyymmdd'] = df['InvoiceDate'].dt.strftime('%Y%m%d')"
   ]
  },
  {
   "cell_type": "markdown",
   "metadata": {},
   "source": [
    "datetime features"
   ]
  },
  {
   "cell_type": "code",
   "execution_count": 62,
   "metadata": {},
   "outputs": [],
   "source": [
    "def datetime_feature_extraction(df):\n",
    "    # Day extraction\n",
    "    df['dayofweek'] = df['InvoiceDate'].dt.dayofweek\n",
    "    df['dayofmonth'] = df['InvoiceDate'].dt.day\n",
    "    df['dayofyear'] = df['InvoiceDate'].dt.dayofyear\n",
    "    df['is_weekend'] = (df['InvoiceDate'].dt.dayofweek >= 5).astype(int)\n",
    "    df['weekday_weekend'] = df['InvoiceDate'].dt.dayofweek.apply(lambda x: 0 if x >= 5 else 1)\n",
    "\n",
    "    # Week extraction\n",
    "    df['weekofyear'] = df['InvoiceDate'].dt.isocalendar().week\n",
    "    df['weekofmonth'] = np.ceil(df['dayofmonth'] / 7).astype(int)    \n",
    "    \n",
    "    # Month extraction\n",
    "    df['month'] = df['InvoiceDate'].dt.month\n",
    "    df['quarter'] = df['InvoiceDate'].dt.quarter\n",
    "    df['days_in_month'] = df['InvoiceDate'].dt.days_in_month\n",
    "\n",
    "    # Year extraction\n",
    "    df['year'] = 2019 - df['InvoiceDate'].dt.year\n",
    "    return df"
   ]
  },
  {
   "cell_type": "code",
   "execution_count": 63,
   "metadata": {},
   "outputs": [],
   "source": [
    "df = datetime_feature_extraction(df)"
   ]
  },
  {
   "cell_type": "markdown",
   "metadata": {},
   "source": [
    "group by"
   ]
  },
  {
   "cell_type": "code",
   "execution_count": 64,
   "metadata": {},
   "outputs": [],
   "source": [
    "aggregation_functions = {\n",
    "    'Quantity': 'sum',\n",
    "    'Price': 'mean',\n",
    "    'Cost_price':'mean',\n",
    "    'dayofweek': 'max',\n",
    "    'dayofmonth': 'max',\n",
    "    'dayofyear': 'max',\n",
    "    'is_weekend': 'max',\n",
    "    'weekday_weekend': 'max',\n",
    "    'weekofyear': 'max',\n",
    "    'weekofmonth': 'max',\n",
    "    'month': 'max',\n",
    "    'quarter': 'max',\n",
    "    'days_in_month': 'max',\n",
    "    'year': 'max'\n",
    "}"
   ]
  },
  {
   "cell_type": "code",
   "execution_count": 65,
   "metadata": {},
   "outputs": [],
   "source": [
    "df = df.groupby(['StockCode','Category','Description','yyyymmdd']).agg(aggregation_functions).reset_index()"
   ]
  },
  {
   "cell_type": "markdown",
   "metadata": {},
   "source": [
    "create change"
   ]
  },
  {
   "cell_type": "code",
   "execution_count": 66,
   "metadata": {},
   "outputs": [],
   "source": [
    "df['change_qty'] = df['Quantity'].pct_change()"
   ]
  },
  {
   "cell_type": "code",
   "execution_count": 67,
   "metadata": {},
   "outputs": [],
   "source": [
    "df['change_price'] = df['Price'].pct_change()"
   ]
  },
  {
   "cell_type": "code",
   "execution_count": 68,
   "metadata": {},
   "outputs": [],
   "source": [
    "df.dropna(inplace=True)"
   ]
  },
  {
   "cell_type": "code",
   "execution_count": 69,
   "metadata": {},
   "outputs": [
    {
     "data": {
      "text/html": [
       "<div>\n",
       "<style scoped>\n",
       "    .dataframe tbody tr th:only-of-type {\n",
       "        vertical-align: middle;\n",
       "    }\n",
       "\n",
       "    .dataframe tbody tr th {\n",
       "        vertical-align: top;\n",
       "    }\n",
       "\n",
       "    .dataframe thead th {\n",
       "        text-align: right;\n",
       "    }\n",
       "</style>\n",
       "<table border=\"1\" class=\"dataframe\">\n",
       "  <thead>\n",
       "    <tr style=\"text-align: right;\">\n",
       "      <th></th>\n",
       "      <th>StockCode</th>\n",
       "      <th>Category</th>\n",
       "      <th>Description</th>\n",
       "      <th>yyyymmdd</th>\n",
       "      <th>Quantity</th>\n",
       "      <th>Price</th>\n",
       "      <th>Cost_price</th>\n",
       "      <th>dayofweek</th>\n",
       "      <th>dayofmonth</th>\n",
       "      <th>dayofyear</th>\n",
       "      <th>is_weekend</th>\n",
       "      <th>weekday_weekend</th>\n",
       "      <th>weekofyear</th>\n",
       "      <th>weekofmonth</th>\n",
       "      <th>month</th>\n",
       "      <th>quarter</th>\n",
       "      <th>days_in_month</th>\n",
       "      <th>year</th>\n",
       "      <th>change_qty</th>\n",
       "      <th>change_price</th>\n",
       "    </tr>\n",
       "  </thead>\n",
       "  <tbody>\n",
       "    <tr>\n",
       "      <th>127704</th>\n",
       "      <td>22465</td>\n",
       "      <td>Home and Garden</td>\n",
       "      <td>HANGING METAL STAR LANTERN</td>\n",
       "      <td>20101004</td>\n",
       "      <td>24</td>\n",
       "      <td>1.65</td>\n",
       "      <td>1.172676</td>\n",
       "      <td>0</td>\n",
       "      <td>4</td>\n",
       "      <td>277</td>\n",
       "      <td>0</td>\n",
       "      <td>1</td>\n",
       "      <td>40</td>\n",
       "      <td>1</td>\n",
       "      <td>10</td>\n",
       "      <td>4</td>\n",
       "      <td>31</td>\n",
       "      <td>9</td>\n",
       "      <td>1.000000</td>\n",
       "      <td>0.000000</td>\n",
       "    </tr>\n",
       "    <tr>\n",
       "      <th>185222</th>\n",
       "      <td>84406B</td>\n",
       "      <td>Home and Garden</td>\n",
       "      <td>CREAM CUPID HEARTS COAT HANGER</td>\n",
       "      <td>20100326</td>\n",
       "      <td>68</td>\n",
       "      <td>3.00</td>\n",
       "      <td>2.206160</td>\n",
       "      <td>4</td>\n",
       "      <td>26</td>\n",
       "      <td>85</td>\n",
       "      <td>0</td>\n",
       "      <td>1</td>\n",
       "      <td>12</td>\n",
       "      <td>4</td>\n",
       "      <td>3</td>\n",
       "      <td>1</td>\n",
       "      <td>31</td>\n",
       "      <td>9</td>\n",
       "      <td>4.666667</td>\n",
       "      <td>-0.076923</td>\n",
       "    </tr>\n",
       "    <tr>\n",
       "      <th>18889</th>\n",
       "      <td>20972</td>\n",
       "      <td>Crafts and Hobbies</td>\n",
       "      <td>PINK CREAM FELT CRAFT TRINKET BOX</td>\n",
       "      <td>20091221</td>\n",
       "      <td>12</td>\n",
       "      <td>1.25</td>\n",
       "      <td>1.089766</td>\n",
       "      <td>0</td>\n",
       "      <td>21</td>\n",
       "      <td>355</td>\n",
       "      <td>0</td>\n",
       "      <td>1</td>\n",
       "      <td>52</td>\n",
       "      <td>3</td>\n",
       "      <td>12</td>\n",
       "      <td>4</td>\n",
       "      <td>31</td>\n",
       "      <td>10</td>\n",
       "      <td>-0.666667</td>\n",
       "      <td>0.000000</td>\n",
       "    </tr>\n",
       "    <tr>\n",
       "      <th>152943</th>\n",
       "      <td>22781</td>\n",
       "      <td>Home and Garden</td>\n",
       "      <td>GUMBALL MAGAZINE RACK</td>\n",
       "      <td>20101202</td>\n",
       "      <td>2</td>\n",
       "      <td>7.65</td>\n",
       "      <td>6.193592</td>\n",
       "      <td>3</td>\n",
       "      <td>2</td>\n",
       "      <td>336</td>\n",
       "      <td>0</td>\n",
       "      <td>1</td>\n",
       "      <td>48</td>\n",
       "      <td>1</td>\n",
       "      <td>12</td>\n",
       "      <td>4</td>\n",
       "      <td>31</td>\n",
       "      <td>9</td>\n",
       "      <td>0.000000</td>\n",
       "      <td>0.000000</td>\n",
       "    </tr>\n",
       "    <tr>\n",
       "      <th>181101</th>\n",
       "      <td>82613A</td>\n",
       "      <td>Home and Garden</td>\n",
       "      <td>METAL SIGNCUPCAKE SINGLE HOOK</td>\n",
       "      <td>20100413</td>\n",
       "      <td>24</td>\n",
       "      <td>1.25</td>\n",
       "      <td>1.034035</td>\n",
       "      <td>1</td>\n",
       "      <td>13</td>\n",
       "      <td>103</td>\n",
       "      <td>0</td>\n",
       "      <td>1</td>\n",
       "      <td>15</td>\n",
       "      <td>2</td>\n",
       "      <td>4</td>\n",
       "      <td>2</td>\n",
       "      <td>30</td>\n",
       "      <td>9</td>\n",
       "      <td>3.800000</td>\n",
       "      <td>0.000000</td>\n",
       "    </tr>\n",
       "    <tr>\n",
       "      <th>210980</th>\n",
       "      <td>85168A</td>\n",
       "      <td>Home and Garden</td>\n",
       "      <td>WHITE BAROQUE CARRIAGE CLOCK</td>\n",
       "      <td>20100614</td>\n",
       "      <td>1</td>\n",
       "      <td>9.95</td>\n",
       "      <td>9.384915</td>\n",
       "      <td>0</td>\n",
       "      <td>14</td>\n",
       "      <td>165</td>\n",
       "      <td>0</td>\n",
       "      <td>1</td>\n",
       "      <td>24</td>\n",
       "      <td>2</td>\n",
       "      <td>6</td>\n",
       "      <td>2</td>\n",
       "      <td>30</td>\n",
       "      <td>9</td>\n",
       "      <td>-0.500000</td>\n",
       "      <td>0.000000</td>\n",
       "    </tr>\n",
       "    <tr>\n",
       "      <th>200953</th>\n",
       "      <td>84997B</td>\n",
       "      <td>Kitchen and Dining</td>\n",
       "      <td>RED 3 PIECE MINI DOTS CUTLERY SET</td>\n",
       "      <td>20100709</td>\n",
       "      <td>1</td>\n",
       "      <td>3.75</td>\n",
       "      <td>2.270082</td>\n",
       "      <td>4</td>\n",
       "      <td>9</td>\n",
       "      <td>190</td>\n",
       "      <td>0</td>\n",
       "      <td>1</td>\n",
       "      <td>27</td>\n",
       "      <td>2</td>\n",
       "      <td>7</td>\n",
       "      <td>3</td>\n",
       "      <td>31</td>\n",
       "      <td>9</td>\n",
       "      <td>-0.500000</td>\n",
       "      <td>0.000000</td>\n",
       "    </tr>\n",
       "    <tr>\n",
       "      <th>102757</th>\n",
       "      <td>22198</td>\n",
       "      <td>Kitchen and Dining</td>\n",
       "      <td>POPCORN HOLDERLARGE</td>\n",
       "      <td>20100812</td>\n",
       "      <td>15</td>\n",
       "      <td>1.65</td>\n",
       "      <td>1.107609</td>\n",
       "      <td>3</td>\n",
       "      <td>12</td>\n",
       "      <td>224</td>\n",
       "      <td>0</td>\n",
       "      <td>1</td>\n",
       "      <td>32</td>\n",
       "      <td>2</td>\n",
       "      <td>8</td>\n",
       "      <td>3</td>\n",
       "      <td>31</td>\n",
       "      <td>9</td>\n",
       "      <td>-0.913793</td>\n",
       "      <td>0.087912</td>\n",
       "    </tr>\n",
       "    <tr>\n",
       "      <th>127878</th>\n",
       "      <td>22467</td>\n",
       "      <td>Home and Garden</td>\n",
       "      <td>GUMBALL COAT RACK</td>\n",
       "      <td>20100412</td>\n",
       "      <td>6</td>\n",
       "      <td>2.55</td>\n",
       "      <td>1.531145</td>\n",
       "      <td>0</td>\n",
       "      <td>12</td>\n",
       "      <td>102</td>\n",
       "      <td>0</td>\n",
       "      <td>1</td>\n",
       "      <td>15</td>\n",
       "      <td>2</td>\n",
       "      <td>4</td>\n",
       "      <td>2</td>\n",
       "      <td>30</td>\n",
       "      <td>9</td>\n",
       "      <td>-0.625000</td>\n",
       "      <td>0.000000</td>\n",
       "    </tr>\n",
       "    <tr>\n",
       "      <th>212355</th>\n",
       "      <td>85185D</td>\n",
       "      <td>Toys and Games</td>\n",
       "      <td>FROG SOCK PUPPET</td>\n",
       "      <td>20100909</td>\n",
       "      <td>2</td>\n",
       "      <td>2.95</td>\n",
       "      <td>1.745514</td>\n",
       "      <td>3</td>\n",
       "      <td>9</td>\n",
       "      <td>252</td>\n",
       "      <td>0</td>\n",
       "      <td>1</td>\n",
       "      <td>36</td>\n",
       "      <td>2</td>\n",
       "      <td>9</td>\n",
       "      <td>3</td>\n",
       "      <td>30</td>\n",
       "      <td>9</td>\n",
       "      <td>-0.500000</td>\n",
       "      <td>0.000000</td>\n",
       "    </tr>\n",
       "  </tbody>\n",
       "</table>\n",
       "</div>"
      ],
      "text/plain": [
       "       StockCode            Category                        Description  \\\n",
       "127704     22465     Home and Garden         HANGING METAL STAR LANTERN   \n",
       "185222    84406B     Home and Garden     CREAM CUPID HEARTS COAT HANGER   \n",
       "18889      20972  Crafts and Hobbies  PINK CREAM FELT CRAFT TRINKET BOX   \n",
       "152943     22781     Home and Garden              GUMBALL MAGAZINE RACK   \n",
       "181101    82613A     Home and Garden      METAL SIGNCUPCAKE SINGLE HOOK   \n",
       "210980    85168A     Home and Garden       WHITE BAROQUE CARRIAGE CLOCK   \n",
       "200953    84997B  Kitchen and Dining  RED 3 PIECE MINI DOTS CUTLERY SET   \n",
       "102757     22198  Kitchen and Dining                POPCORN HOLDERLARGE   \n",
       "127878     22467     Home and Garden                  GUMBALL COAT RACK   \n",
       "212355    85185D      Toys and Games                   FROG SOCK PUPPET   \n",
       "\n",
       "        yyyymmdd  Quantity  Price  Cost_price  dayofweek  dayofmonth  \\\n",
       "127704  20101004        24   1.65    1.172676          0           4   \n",
       "185222  20100326        68   3.00    2.206160          4          26   \n",
       "18889   20091221        12   1.25    1.089766          0          21   \n",
       "152943  20101202         2   7.65    6.193592          3           2   \n",
       "181101  20100413        24   1.25    1.034035          1          13   \n",
       "210980  20100614         1   9.95    9.384915          0          14   \n",
       "200953  20100709         1   3.75    2.270082          4           9   \n",
       "102757  20100812        15   1.65    1.107609          3          12   \n",
       "127878  20100412         6   2.55    1.531145          0          12   \n",
       "212355  20100909         2   2.95    1.745514          3           9   \n",
       "\n",
       "        dayofyear  is_weekend  weekday_weekend  weekofyear  weekofmonth  \\\n",
       "127704        277           0                1          40            1   \n",
       "185222         85           0                1          12            4   \n",
       "18889         355           0                1          52            3   \n",
       "152943        336           0                1          48            1   \n",
       "181101        103           0                1          15            2   \n",
       "210980        165           0                1          24            2   \n",
       "200953        190           0                1          27            2   \n",
       "102757        224           0                1          32            2   \n",
       "127878        102           0                1          15            2   \n",
       "212355        252           0                1          36            2   \n",
       "\n",
       "        month  quarter  days_in_month  year  change_qty  change_price  \n",
       "127704     10        4             31     9    1.000000      0.000000  \n",
       "185222      3        1             31     9    4.666667     -0.076923  \n",
       "18889      12        4             31    10   -0.666667      0.000000  \n",
       "152943     12        4             31     9    0.000000      0.000000  \n",
       "181101      4        2             30     9    3.800000      0.000000  \n",
       "210980      6        2             30     9   -0.500000      0.000000  \n",
       "200953      7        3             31     9   -0.500000      0.000000  \n",
       "102757      8        3             31     9   -0.913793      0.087912  \n",
       "127878      4        2             30     9   -0.625000      0.000000  \n",
       "212355      9        3             30     9   -0.500000      0.000000  "
      ]
     },
     "execution_count": 69,
     "metadata": {},
     "output_type": "execute_result"
    }
   ],
   "source": [
    "df.sample(10)"
   ]
  },
  {
   "cell_type": "markdown",
   "metadata": {},
   "source": [
    "store current price and quantity"
   ]
  },
  {
   "cell_type": "code",
   "execution_count": 70,
   "metadata": {},
   "outputs": [],
   "source": [
    "df.sort_values(by=['Category','Description', 'yyyymmdd'], ascending=[True,True, False], inplace=True)"
   ]
  },
  {
   "cell_type": "code",
   "execution_count": 71,
   "metadata": {},
   "outputs": [],
   "source": [
    "df['row_number'] = df.groupby('Description').cumcount() + 1"
   ]
  },
  {
   "cell_type": "code",
   "execution_count": 72,
   "metadata": {},
   "outputs": [],
   "source": [
    "df_lastest = df[df['row_number'] == 1].reset_index(drop=True)"
   ]
  },
  {
   "cell_type": "code",
   "execution_count": 73,
   "metadata": {
    "tags": []
   },
   "outputs": [
    {
     "data": {
      "text/plain": [
       "(3888, 21)"
      ]
     },
     "execution_count": 73,
     "metadata": {},
     "output_type": "execute_result"
    }
   ],
   "source": [
    "df_lastest.shape"
   ]
  },
  {
   "cell_type": "code",
   "execution_count": 74,
   "metadata": {},
   "outputs": [
    {
     "data": {
      "text/html": [
       "<div>\n",
       "<style scoped>\n",
       "    .dataframe tbody tr th:only-of-type {\n",
       "        vertical-align: middle;\n",
       "    }\n",
       "\n",
       "    .dataframe tbody tr th {\n",
       "        vertical-align: top;\n",
       "    }\n",
       "\n",
       "    .dataframe thead th {\n",
       "        text-align: right;\n",
       "    }\n",
       "</style>\n",
       "<table border=\"1\" class=\"dataframe\">\n",
       "  <thead>\n",
       "    <tr style=\"text-align: right;\">\n",
       "      <th></th>\n",
       "      <th>StockCode</th>\n",
       "      <th>Category</th>\n",
       "      <th>Description</th>\n",
       "      <th>yyyymmdd</th>\n",
       "      <th>Quantity</th>\n",
       "      <th>Price</th>\n",
       "      <th>Cost_price</th>\n",
       "      <th>dayofweek</th>\n",
       "      <th>dayofmonth</th>\n",
       "      <th>dayofyear</th>\n",
       "      <th>...</th>\n",
       "      <th>weekday_weekend</th>\n",
       "      <th>weekofyear</th>\n",
       "      <th>weekofmonth</th>\n",
       "      <th>month</th>\n",
       "      <th>quarter</th>\n",
       "      <th>days_in_month</th>\n",
       "      <th>year</th>\n",
       "      <th>change_qty</th>\n",
       "      <th>change_price</th>\n",
       "      <th>row_number</th>\n",
       "    </tr>\n",
       "  </thead>\n",
       "  <tbody>\n",
       "    <tr>\n",
       "      <th>0</th>\n",
       "      <td>22282</td>\n",
       "      <td>Arts and Crafts</td>\n",
       "      <td>12 EGG HOUSE PAINTED WOOD</td>\n",
       "      <td>20101129</td>\n",
       "      <td>2</td>\n",
       "      <td>12.75</td>\n",
       "      <td>6.978710</td>\n",
       "      <td>0</td>\n",
       "      <td>29</td>\n",
       "      <td>333</td>\n",
       "      <td>...</td>\n",
       "      <td>1</td>\n",
       "      <td>48</td>\n",
       "      <td>5</td>\n",
       "      <td>11</td>\n",
       "      <td>4</td>\n",
       "      <td>30</td>\n",
       "      <td>9</td>\n",
       "      <td>-0.875000</td>\n",
       "      <td>0.164384</td>\n",
       "      <td>1</td>\n",
       "    </tr>\n",
       "    <tr>\n",
       "      <th>1</th>\n",
       "      <td>21447</td>\n",
       "      <td>Arts and Crafts</td>\n",
       "      <td>12 IVORY ROSE PEG PLACE SETTINGS</td>\n",
       "      <td>20101206</td>\n",
       "      <td>12</td>\n",
       "      <td>1.25</td>\n",
       "      <td>1.214665</td>\n",
       "      <td>0</td>\n",
       "      <td>6</td>\n",
       "      <td>340</td>\n",
       "      <td>...</td>\n",
       "      <td>1</td>\n",
       "      <td>49</td>\n",
       "      <td>1</td>\n",
       "      <td>12</td>\n",
       "      <td>4</td>\n",
       "      <td>31</td>\n",
       "      <td>9</td>\n",
       "      <td>0.714286</td>\n",
       "      <td>0.000000</td>\n",
       "      <td>1</td>\n",
       "    </tr>\n",
       "    <tr>\n",
       "      <th>2</th>\n",
       "      <td>21440</td>\n",
       "      <td>Arts and Crafts</td>\n",
       "      <td>12 MINI TOADSTOOL PEGS</td>\n",
       "      <td>20100701</td>\n",
       "      <td>13</td>\n",
       "      <td>1.25</td>\n",
       "      <td>0.974084</td>\n",
       "      <td>3</td>\n",
       "      <td>1</td>\n",
       "      <td>182</td>\n",
       "      <td>...</td>\n",
       "      <td>1</td>\n",
       "      <td>26</td>\n",
       "      <td>1</td>\n",
       "      <td>7</td>\n",
       "      <td>3</td>\n",
       "      <td>31</td>\n",
       "      <td>9</td>\n",
       "      <td>1.600000</td>\n",
       "      <td>0.000000</td>\n",
       "      <td>1</td>\n",
       "    </tr>\n",
       "    <tr>\n",
       "      <th>3</th>\n",
       "      <td>20976</td>\n",
       "      <td>Arts and Crafts</td>\n",
       "      <td>12 PENCILS SMALL TUBE POSY</td>\n",
       "      <td>20100813</td>\n",
       "      <td>8</td>\n",
       "      <td>0.65</td>\n",
       "      <td>0.607085</td>\n",
       "      <td>4</td>\n",
       "      <td>13</td>\n",
       "      <td>225</td>\n",
       "      <td>...</td>\n",
       "      <td>1</td>\n",
       "      <td>32</td>\n",
       "      <td>2</td>\n",
       "      <td>8</td>\n",
       "      <td>3</td>\n",
       "      <td>31</td>\n",
       "      <td>9</td>\n",
       "      <td>7.000000</td>\n",
       "      <td>0.000000</td>\n",
       "      <td>1</td>\n",
       "    </tr>\n",
       "    <tr>\n",
       "      <th>4</th>\n",
       "      <td>20974</td>\n",
       "      <td>Arts and Crafts</td>\n",
       "      <td>12 PENCILS SMALL TUBE SKULL</td>\n",
       "      <td>20101209</td>\n",
       "      <td>48</td>\n",
       "      <td>0.65</td>\n",
       "      <td>0.489724</td>\n",
       "      <td>3</td>\n",
       "      <td>9</td>\n",
       "      <td>343</td>\n",
       "      <td>...</td>\n",
       "      <td>1</td>\n",
       "      <td>49</td>\n",
       "      <td>2</td>\n",
       "      <td>12</td>\n",
       "      <td>4</td>\n",
       "      <td>31</td>\n",
       "      <td>9</td>\n",
       "      <td>1.086957</td>\n",
       "      <td>0.000000</td>\n",
       "      <td>1</td>\n",
       "    </tr>\n",
       "  </tbody>\n",
       "</table>\n",
       "<p>5 rows × 21 columns</p>\n",
       "</div>"
      ],
      "text/plain": [
       "  StockCode         Category                       Description  yyyymmdd  \\\n",
       "0     22282  Arts and Crafts         12 EGG HOUSE PAINTED WOOD  20101129   \n",
       "1     21447  Arts and Crafts  12 IVORY ROSE PEG PLACE SETTINGS  20101206   \n",
       "2     21440  Arts and Crafts            12 MINI TOADSTOOL PEGS  20100701   \n",
       "3     20976  Arts and Crafts        12 PENCILS SMALL TUBE POSY  20100813   \n",
       "4     20974  Arts and Crafts       12 PENCILS SMALL TUBE SKULL  20101209   \n",
       "\n",
       "   Quantity  Price  Cost_price  dayofweek  dayofmonth  dayofyear  ...  \\\n",
       "0         2  12.75    6.978710          0          29        333  ...   \n",
       "1        12   1.25    1.214665          0           6        340  ...   \n",
       "2        13   1.25    0.974084          3           1        182  ...   \n",
       "3         8   0.65    0.607085          4          13        225  ...   \n",
       "4        48   0.65    0.489724          3           9        343  ...   \n",
       "\n",
       "   weekday_weekend  weekofyear  weekofmonth  month  quarter  days_in_month  \\\n",
       "0                1          48            5     11        4             30   \n",
       "1                1          49            1     12        4             31   \n",
       "2                1          26            1      7        3             31   \n",
       "3                1          32            2      8        3             31   \n",
       "4                1          49            2     12        4             31   \n",
       "\n",
       "   year  change_qty  change_price  row_number  \n",
       "0     9   -0.875000      0.164384           1  \n",
       "1     9    0.714286      0.000000           1  \n",
       "2     9    1.600000      0.000000           1  \n",
       "3     9    7.000000      0.000000           1  \n",
       "4     9    1.086957      0.000000           1  \n",
       "\n",
       "[5 rows x 21 columns]"
      ]
     },
     "execution_count": 74,
     "metadata": {},
     "output_type": "execute_result"
    }
   ],
   "source": [
    "df_lastest.head()"
   ]
  },
  {
   "cell_type": "code",
   "execution_count": 75,
   "metadata": {},
   "outputs": [
    {
     "data": {
      "text/plain": [
       "Index(['StockCode', 'Category', 'Description', 'yyyymmdd', 'Quantity', 'Price',\n",
       "       'Cost_price', 'dayofweek', 'dayofmonth', 'dayofyear', 'is_weekend',\n",
       "       'weekday_weekend', 'weekofyear', 'weekofmonth', 'month', 'quarter',\n",
       "       'days_in_month', 'year', 'change_qty', 'change_price', 'row_number'],\n",
       "      dtype='object')"
      ]
     },
     "execution_count": 75,
     "metadata": {},
     "output_type": "execute_result"
    }
   ],
   "source": [
    "df.columns"
   ]
  },
  {
   "cell_type": "code",
   "execution_count": 76,
   "metadata": {},
   "outputs": [
    {
     "data": {
      "text/plain": [
       "┌────────────────────────────┬──────────────┬────────────────────┬───────────────────────┐\n",
       "│          Category          │ count_star() │  avg(change_qty)   │   avg(change_price)   │\n",
       "│          varchar           │    int64     │       double       │        double         │\n",
       "├────────────────────────────┼──────────────┼────────────────────┼───────────────────────┤\n",
       "│ Office Supplies            │          604 │  3.223020509982275 │   0.05111769456128402 │\n",
       "│ Tools and Home Improvement │         1864 │ 3.3890398461506255 │   0.00791954689083731 │\n",
       "│ Food and Beverages         │         4101 │ 2.1048546897923157 │   0.01659604353910767 │\n",
       "│ Kitchen and Dining         │        42844 │ 3.2876095994817316 │  0.024814354051854327 │\n",
       "│ Arts and Crafts            │        33997 │   2.87552855408714 │  0.015496941170052974 │\n",
       "│ Books and Stationery       │        10418 │   5.88584350812584 │     2.391571130547782 │\n",
       "│ Electronics                │          935 │ 1.9894633199769223 │  0.015036583326544093 │\n",
       "│ Toys and Games             │        19210 │ 2.7574858178367765 │   0.16321326008446804 │\n",
       "│ Pet                        │          693 │ 1.8359305926451557 │   0.03494878188031367 │\n",
       "│ Automotive                 │          468 │ 2.8283154061566678 │ -0.000715078114424967 │\n",
       "│ Home and Garden            │        63255 │  2.472131835330676 │   0.03994488851769869 │\n",
       "│ Sports and Outdoors        │         1003 │ 1.7009858737537977 │  0.007772422397527114 │\n",
       "│ Health and Beauty          │         7258 │ 3.4277487748480735 │   0.03137874016675926 │\n",
       "│ Clothing and Accessories   │        26149 │ 2.5179101690576617 │  0.021135101404886694 │\n",
       "│ Crafts and Hobbies         │         5076 │ 2.8066865197068376 │    0.0130006256097994 │\n",
       "├────────────────────────────┴──────────────┴────────────────────┴───────────────────────┤\n",
       "│ 15 rows                                                                      4 columns │\n",
       "└────────────────────────────────────────────────────────────────────────────────────────┘"
      ]
     },
     "execution_count": 76,
     "metadata": {},
     "output_type": "execute_result"
    }
   ],
   "source": [
    "duckdb.query('select Category, count(*), avg(change_qty), avg(change_price) from df group by Category')"
   ]
  },
  {
   "cell_type": "markdown",
   "metadata": {},
   "source": [
    "# 6. Model"
   ]
  },
  {
   "cell_type": "markdown",
   "metadata": {},
   "source": [
    "split df by category"
   ]
  },
  {
   "cell_type": "code",
   "execution_count": 77,
   "metadata": {
    "tags": []
   },
   "outputs": [
    {
     "data": {
      "text/plain": [
       "['Arts and Crafts',\n",
       " 'Automotive',\n",
       " 'Books and Stationery',\n",
       " 'Clothing and Accessories',\n",
       " 'Crafts and Hobbies',\n",
       " 'Electronics',\n",
       " 'Food and Beverages',\n",
       " 'Health and Beauty',\n",
       " 'Home and Garden',\n",
       " 'Kitchen and Dining',\n",
       " 'Office Supplies',\n",
       " 'Pet',\n",
       " 'Sports and Outdoors',\n",
       " 'Tools and Home Improvement',\n",
       " 'Toys and Games']"
      ]
     },
     "execution_count": 77,
     "metadata": {},
     "output_type": "execute_result"
    }
   ],
   "source": [
    "sorted(df['Category'].unique())"
   ]
  },
  {
   "cell_type": "code",
   "execution_count": 78,
   "metadata": {},
   "outputs": [],
   "source": [
    "df_art_crafts = df[df['Category'] == 'Arts and Crafts']\n",
    "df_automotive = df[df['Category'] == 'Automotive']\n",
    "df_book_stationary = df[df['Category'] == 'Books and Stationery']\n",
    "df_clothing_acc= df[df['Category'] == 'Clothing and Accessories']\n",
    "df_crafts_hobbies = df[df['Category'] == 'Crafts and Hobbies']\n",
    "df_electronics = df[df['Category'] == 'Electronics']\n",
    "df_food_beverages = df[df['Category'] == 'Food and Beverages']\n",
    "df_health_beauty = df[df['Category'] == 'Health and Beauty']\n",
    "df_home_garden = df[df['Category'] == 'Home and Garden']\n",
    "df_kitchen_dining = df[df['Category'] == 'Kitchen and Dining']\n",
    "df_office_supplies = df[df['Category'] == 'Office Supplies']\n",
    "df_pet = df[df['Category'] == 'Pet']\n",
    "df_sports_outdoors = df[df['Category'] == 'Sports and Outdoors']\n",
    "df_tools_home_improvement = df[df['Category'] == 'Tools and Home Improvement']\n",
    "df_toys_games = df[df['Category'] == 'Toys and Games']"
   ]
  },
  {
   "cell_type": "code",
   "execution_count": 79,
   "metadata": {},
   "outputs": [
    {
     "ename": "SyntaxError",
     "evalue": "invalid syntax (1047438561.py, line 1)",
     "output_type": "error",
     "traceback": [
      "\u001b[1;36m  Cell \u001b[1;32mIn[79], line 1\u001b[1;36m\u001b[0m\n\u001b[1;33m    *************\u001b[0m\n\u001b[1;37m    ^\u001b[0m\n\u001b[1;31mSyntaxError\u001b[0m\u001b[1;31m:\u001b[0m invalid syntax\n"
     ]
    }
   ],
   "source": [
    "************* "
   ]
  },
  {
   "cell_type": "code",
   "execution_count": null,
   "metadata": {},
   "outputs": [],
   "source": [
    "X_art_leisure = df_art_leisure.drop(columns=['StockCode','Category','Description','yyyymmdd','Quantity','Price','Cost_price','row_number','change_qty'])\n",
    "y_art_leisure = df_art_leisure['change_qty']"
   ]
  },
  {
   "cell_type": "code",
   "execution_count": null,
   "metadata": {
    "tags": []
   },
   "outputs": [],
   "source": [
    "print(X_art_leisure.shape, y_art_leisure.shape)"
   ]
  },
  {
   "cell_type": "code",
   "execution_count": null,
   "metadata": {
    "tags": []
   },
   "outputs": [],
   "source": [
    "X_education_office = df_education_office.drop(columns=['StockCode','Category','Description','yyyymmdd','Quantity','Price','Cost_price','row_number','change_qty'])\n",
    "y_education_office = df_education_office['change_qty']"
   ]
  },
  {
   "cell_type": "code",
   "execution_count": null,
   "metadata": {},
   "outputs": [],
   "source": [
    "print(X_education_office.shape, y_education_office.shape)"
   ]
  },
  {
   "cell_type": "code",
   "execution_count": null,
   "metadata": {
    "tags": []
   },
   "outputs": [],
   "source": [
    "X_fashion_travel = df_fashion_travel.drop(columns=['StockCode','Category','Description','yyyymmdd','Quantity','Price','Cost_price','row_number','change_qty'])\n",
    "y_fashion_travel = df_fashion_travel['change_qty']"
   ]
  },
  {
   "cell_type": "code",
   "execution_count": null,
   "metadata": {},
   "outputs": [],
   "source": [
    "print(X_fashion_travel.shape, y_fashion_travel.shape)"
   ]
  },
  {
   "cell_type": "code",
   "execution_count": null,
   "metadata": {
    "tags": []
   },
   "outputs": [],
   "source": [
    "X_health_wellness = df_health_wellness.drop(columns=['StockCode','Category','Description','yyyymmdd','Quantity','Price','Cost_price','row_number','change_qty'])\n",
    "y_health_wellness = df_health_wellness['change_qty']"
   ]
  },
  {
   "cell_type": "code",
   "execution_count": null,
   "metadata": {},
   "outputs": [],
   "source": [
    "print(X_health_wellness.shape, y_health_wellness.shape)"
   ]
  },
  {
   "cell_type": "code",
   "execution_count": null,
   "metadata": {
    "tags": []
   },
   "outputs": [],
   "source": [
    "X_home_lifestyle = df_home_lifestyle.drop(columns=['StockCode','Category','Description','yyyymmdd','Quantity','Price','Cost_price','row_number','change_qty'])\n",
    "y_home_lifestyle = df_home_lifestyle['change_qty']"
   ]
  },
  {
   "cell_type": "code",
   "execution_count": null,
   "metadata": {},
   "outputs": [],
   "source": [
    "print(X_home_lifestyle.shape, y_home_lifestyle.shape)"
   ]
  },
  {
   "cell_type": "code",
   "execution_count": null,
   "metadata": {
    "tags": []
   },
   "outputs": [],
   "source": [
    "X_tech = df_tech.drop(columns=['StockCode','Category','Description','yyyymmdd','Quantity','Price','Cost_price','row_number','change_qty'])\n",
    "y_tech = df_tech['change_qty']"
   ]
  },
  {
   "cell_type": "code",
   "execution_count": null,
   "metadata": {
    "tags": []
   },
   "outputs": [],
   "source": [
    "print(X_tech.shape, y_tech.shape)"
   ]
  },
  {
   "cell_type": "code",
   "execution_count": null,
   "metadata": {},
   "outputs": [],
   "source": [
    "***"
   ]
  },
  {
   "cell_type": "markdown",
   "metadata": {},
   "source": [
    "make scorer"
   ]
  },
  {
   "cell_type": "code",
   "execution_count": null,
   "metadata": {},
   "outputs": [],
   "source": [
    "def rmse(y_true, y_pred):\n",
    "    return np.sqrt(mean_squared_error(y_true, y_pred))"
   ]
  },
  {
   "cell_type": "code",
   "execution_count": null,
   "metadata": {},
   "outputs": [],
   "source": [
    "rmse_scorer = make_scorer(rmse, greater_is_better=False)"
   ]
  },
  {
   "cell_type": "markdown",
   "metadata": {},
   "source": [
    "model training (art and leisure)"
   ]
  },
  {
   "cell_type": "code",
   "execution_count": null,
   "metadata": {},
   "outputs": [],
   "source": [
    "rt = DecisionTreeRegressor(random_state=42)"
   ]
  },
  {
   "cell_type": "code",
   "execution_count": null,
   "metadata": {},
   "outputs": [],
   "source": [
    "param_grid = {\n",
    "    'max_depth': [3, 5, 10],\n",
    "    'min_samples_split': [5, 10, 15],\n",
    "    'min_samples_leaf': [3, 5, 10]\n",
    "}"
   ]
  },
  {
   "cell_type": "code",
   "execution_count": null,
   "metadata": {},
   "outputs": [],
   "source": [
    "grid_search = GridSearchCV(estimator=rt, param_grid=param_grid, cv=3, scoring=rmse_scorer, n_jobs=-1)"
   ]
  },
  {
   "cell_type": "code",
   "execution_count": null,
   "metadata": {
    "scrolled": false
   },
   "outputs": [],
   "source": [
    "grid_search.fit(X_art_leisure, y_art_leisure)"
   ]
  },
  {
   "cell_type": "code",
   "execution_count": null,
   "metadata": {
    "scrolled": true
   },
   "outputs": [],
   "source": [
    "grid_search.best_score_"
   ]
  },
  {
   "cell_type": "code",
   "execution_count": null,
   "metadata": {},
   "outputs": [],
   "source": [
    "best_model_art_leisure = grid_search.best_estimator_"
   ]
  },
  {
   "cell_type": "markdown",
   "metadata": {
    "tags": []
   },
   "source": [
    "model training (education and office)"
   ]
  },
  {
   "cell_type": "code",
   "execution_count": null,
   "metadata": {
    "tags": []
   },
   "outputs": [],
   "source": [
    "rt = DecisionTreeRegressor(random_state=42)"
   ]
  },
  {
   "cell_type": "code",
   "execution_count": null,
   "metadata": {
    "tags": []
   },
   "outputs": [],
   "source": [
    "param_grid = {\n",
    "    'max_depth': [3, 5, 10],\n",
    "    'min_samples_split': [5, 10, 15],\n",
    "    'min_samples_leaf': [3, 5, 10]\n",
    "}"
   ]
  },
  {
   "cell_type": "code",
   "execution_count": null,
   "metadata": {
    "tags": []
   },
   "outputs": [],
   "source": [
    "grid_search = GridSearchCV(estimator=rt, param_grid=param_grid, cv=3, scoring=rmse_scorer, n_jobs=-1)"
   ]
  },
  {
   "cell_type": "code",
   "execution_count": null,
   "metadata": {
    "tags": []
   },
   "outputs": [],
   "source": [
    "grid_search.fit(X_education_office, y_education_office)"
   ]
  },
  {
   "cell_type": "code",
   "execution_count": null,
   "metadata": {
    "tags": []
   },
   "outputs": [],
   "source": [
    "grid_search.best_score_"
   ]
  },
  {
   "cell_type": "code",
   "execution_count": null,
   "metadata": {
    "tags": []
   },
   "outputs": [],
   "source": [
    "best_model_education_office = grid_search.best_estimator_"
   ]
  },
  {
   "cell_type": "markdown",
   "metadata": {},
   "source": [
    "model training (fashion and travel)"
   ]
  },
  {
   "cell_type": "code",
   "execution_count": null,
   "metadata": {},
   "outputs": [],
   "source": [
    "rt = DecisionTreeRegressor(random_state=42)"
   ]
  },
  {
   "cell_type": "code",
   "execution_count": null,
   "metadata": {},
   "outputs": [],
   "source": [
    "param_grid = {\n",
    "    'max_depth': [3, 5, 10],\n",
    "    'min_samples_split': [5, 10, 15],\n",
    "    'min_samples_leaf': [3, 5, 10]\n",
    "}"
   ]
  },
  {
   "cell_type": "code",
   "execution_count": null,
   "metadata": {},
   "outputs": [],
   "source": [
    "grid_search = GridSearchCV(estimator=rt, param_grid=param_grid, cv=3, scoring=rmse_scorer, n_jobs=-1)"
   ]
  },
  {
   "cell_type": "code",
   "execution_count": null,
   "metadata": {},
   "outputs": [],
   "source": [
    "grid_search.fit(X_fashion_travel, y_fashion_travel)"
   ]
  },
  {
   "cell_type": "code",
   "execution_count": null,
   "metadata": {},
   "outputs": [],
   "source": [
    "grid_search.best_score_"
   ]
  },
  {
   "cell_type": "code",
   "execution_count": null,
   "metadata": {},
   "outputs": [],
   "source": [
    "best_model_fashion_travel = grid_search.best_estimator_"
   ]
  },
  {
   "cell_type": "markdown",
   "metadata": {},
   "source": [
    "model training (health and wellness)"
   ]
  },
  {
   "cell_type": "code",
   "execution_count": null,
   "metadata": {},
   "outputs": [],
   "source": [
    "rt = DecisionTreeRegressor(random_state=42)"
   ]
  },
  {
   "cell_type": "code",
   "execution_count": null,
   "metadata": {},
   "outputs": [],
   "source": [
    "param_grid = {\n",
    "    'max_depth': [3, 5, 10],\n",
    "    'min_samples_split': [5, 10, 15],\n",
    "    'min_samples_leaf': [3, 5, 10]\n",
    "}"
   ]
  },
  {
   "cell_type": "code",
   "execution_count": null,
   "metadata": {},
   "outputs": [],
   "source": [
    "grid_search = GridSearchCV(estimator=rt, param_grid=param_grid, cv=3, scoring=rmse_scorer, n_jobs=-1)"
   ]
  },
  {
   "cell_type": "code",
   "execution_count": null,
   "metadata": {},
   "outputs": [],
   "source": [
    "grid_search.fit(X_health_wellness, y_health_wellness)"
   ]
  },
  {
   "cell_type": "code",
   "execution_count": null,
   "metadata": {},
   "outputs": [],
   "source": [
    "grid_search.best_score_"
   ]
  },
  {
   "cell_type": "code",
   "execution_count": null,
   "metadata": {},
   "outputs": [],
   "source": [
    "best_model_health_wellness = grid_search.best_estimator_"
   ]
  },
  {
   "cell_type": "markdown",
   "metadata": {
    "tags": []
   },
   "source": [
    "model training (home and lifestyle)"
   ]
  },
  {
   "cell_type": "code",
   "execution_count": null,
   "metadata": {
    "tags": []
   },
   "outputs": [],
   "source": [
    "rt = DecisionTreeRegressor(random_state=42)"
   ]
  },
  {
   "cell_type": "code",
   "execution_count": null,
   "metadata": {},
   "outputs": [],
   "source": [
    "param_grid = {\n",
    "    'max_depth': [3, 5, 10],\n",
    "    'min_samples_split': [5, 10, 15],\n",
    "    'min_samples_leaf': [3, 5, 10]\n",
    "}"
   ]
  },
  {
   "cell_type": "code",
   "execution_count": null,
   "metadata": {},
   "outputs": [],
   "source": [
    "grid_search = GridSearchCV(estimator=rt, param_grid=param_grid, cv=3, scoring=rmse_scorer, n_jobs=-1)"
   ]
  },
  {
   "cell_type": "code",
   "execution_count": null,
   "metadata": {},
   "outputs": [],
   "source": [
    "grid_search.fit(X_home_lifestyle, y_home_lifestyle)"
   ]
  },
  {
   "cell_type": "code",
   "execution_count": null,
   "metadata": {},
   "outputs": [],
   "source": [
    "grid_search.best_score_"
   ]
  },
  {
   "cell_type": "code",
   "execution_count": null,
   "metadata": {},
   "outputs": [],
   "source": [
    "best_model_home_lifestyle = grid_search.best_estimator_"
   ]
  },
  {
   "cell_type": "markdown",
   "metadata": {
    "tags": []
   },
   "source": [
    "model training (tech)"
   ]
  },
  {
   "cell_type": "code",
   "execution_count": null,
   "metadata": {},
   "outputs": [],
   "source": [
    "rt = DecisionTreeRegressor(random_state=42)"
   ]
  },
  {
   "cell_type": "code",
   "execution_count": null,
   "metadata": {},
   "outputs": [],
   "source": [
    "param_grid = {\n",
    "    'max_depth': [3, 5, 10],\n",
    "    'min_samples_split': [5, 10, 15],\n",
    "    'min_samples_leaf': [3, 5, 10]\n",
    "}"
   ]
  },
  {
   "cell_type": "code",
   "execution_count": null,
   "metadata": {},
   "outputs": [],
   "source": [
    "grid_search = GridSearchCV(estimator=rt, param_grid=param_grid, cv=3, scoring=rmse_scorer, n_jobs=-1)"
   ]
  },
  {
   "cell_type": "code",
   "execution_count": null,
   "metadata": {},
   "outputs": [],
   "source": [
    "grid_search.fit(X_tech, y_tech)"
   ]
  },
  {
   "cell_type": "code",
   "execution_count": null,
   "metadata": {},
   "outputs": [],
   "source": [
    "grid_search.best_score_"
   ]
  },
  {
   "cell_type": "code",
   "execution_count": null,
   "metadata": {},
   "outputs": [],
   "source": [
    "best_model_tech = grid_search.best_estimator_"
   ]
  },
  {
   "cell_type": "markdown",
   "metadata": {},
   "source": [
    "dict all model"
   ]
  },
  {
   "cell_type": "code",
   "execution_count": null,
   "metadata": {
    "tags": []
   },
   "outputs": [],
   "source": [
    "model_dict = {\n",
    "    'Arts and Leisure': best_model_art_leisure,\n",
    "    'Education and Office': best_model_education_office,\n",
    "    'Fashion and Travel': best_model_fashion_travel,\n",
    "    'Health and Wellness': best_model_health_wellness,\n",
    "    'Home and Lifestyle': best_model_home_lifestyle,\n",
    "    'Technology and More': best_model_tech,\n",
    "}"
   ]
  },
  {
   "cell_type": "markdown",
   "metadata": {},
   "source": [
    "# 7. Optimize"
   ]
  },
  {
   "cell_type": "code",
   "execution_count": null,
   "metadata": {},
   "outputs": [],
   "source": [
    "df_final = pd.DataFrame()"
   ]
  },
  {
   "cell_type": "code",
   "execution_count": null,
   "metadata": {
    "tags": []
   },
   "outputs": [],
   "source": [
    "for index, row in df_lastest.iterrows():\n",
    "    \n",
    "    df_optimize = df_lastest[index:index+1][['dayofweek','dayofmonth','dayofyear','is_weekend',\n",
    "                                        'weekday_weekend','weekofyear','weekofmonth','month',\n",
    "                                        'quarter','days_in_month','year']]\n",
    "    multipliers = [round(x * 0.01, 2) for x in range(-50, 51)]\n",
    "    df_optimize = df_optimize.loc[np.repeat(df_optimize.index.values, len(multipliers))]\n",
    "    df_optimize['change_price'] = multipliers\n",
    "\n",
    "    change_price_list = []\n",
    "    for i in range(df_optimize.shape[0]):\n",
    "        if row['Category'] == 'Arts and Leisure':\n",
    "            demand_change = best_model_art_leisure.predict(df_optimize.iloc[[i]])\n",
    "        elif row['Category'] == 'Education and Office':\n",
    "            demand_change = best_model_education_office.predict(df_optimize.iloc[[i]])\n",
    "        elif row['Category'] == 'Fashion and Travel':\n",
    "            demand_change = best_model_fashion_travel.predict(df_optimize.iloc[[i]])\n",
    "        elif row['Category'] == 'Health and Wellness':\n",
    "            demand_change = best_model_health_wellness.predict(df_optimize.iloc[[i]])\n",
    "        elif row['Category'] == 'Home and Lifestyle':\n",
    "            demand_change = best_model_home_lifestyle.predict(df_optimize.iloc[[i]])\n",
    "        elif row['Category'] == 'Technology and More':\n",
    "            demand_change = best_model_tech.predict(df_optimize.iloc[[i]])        \n",
    "\n",
    "        change_price_list.append(demand_change[0])\n",
    "        \n",
    "    df_optimize['change_qty'] = change_price_list\n",
    "\n",
    "    initial_price = df_lastest[df_lastest['StockCode'] == row['StockCode']]['Price'].iloc[0]\n",
    "    initial_cost_price = df_lastest[df_lastest['StockCode'] == row['StockCode']]['Cost_price'].iloc[0]\n",
    "    initial_quantity = df_lastest[df_lastest['StockCode'] == row['StockCode']]['Quantity'].iloc[0]\n",
    "\n",
    "    df_optimize['price_new'] = initial_price*(1+df_optimize['change_price'])\n",
    "    df_optimize['qty_new'] = initial_quantity*(1+df_optimize['change_qty'])\n",
    "    df_optimize['additional_profit'] = df_optimize['qty_new']*(df_optimize['price_new']-initial_cost_price)\n",
    "    df_optimize = df_optimize[df_optimize['additional_profit'] == df_optimize['additional_profit'].max()]\n",
    "    \n",
    "    df_final_append = df_lastest[index:index+1][['StockCode','Category','Description','yyyymmdd','Quantity','Price']]\n",
    "    df_final_append['change_price'] = df_optimize['change_price'].values[0]\n",
    "    df_final_append['change_qty'] = df_optimize['change_qty'].values[0]\n",
    "    df_final_append['price_new'] = df_optimize['price_new'].values[0]\n",
    "    df_final_append['qty_new'] = df_optimize['qty_new'].values[0]\n",
    "    df_final_append['additional_profit'] = df_optimize['additional_profit'].values[0]\n",
    "\n",
    "    df_final = pd.concat([df_final, df_final_append], ignore_index=True)"
   ]
  },
  {
   "cell_type": "code",
   "execution_count": null,
   "metadata": {},
   "outputs": [],
   "source": [
    "df_final"
   ]
  }
 ],
 "metadata": {
  "kernelspec": {
   "display_name": "base",
   "language": "python",
   "name": "python3"
  },
  "language_info": {
   "codemirror_mode": {
    "name": "ipython",
    "version": 3
   },
   "file_extension": ".py",
   "mimetype": "text/x-python",
   "name": "python",
   "nbconvert_exporter": "python",
   "pygments_lexer": "ipython3",
   "version": "3.12.4"
  },
  "toc-autonumbering": false,
  "toc-showmarkdowntxt": true
 },
 "nbformat": 4,
 "nbformat_minor": 4
}
